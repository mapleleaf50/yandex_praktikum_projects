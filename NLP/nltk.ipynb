{
 "cells": [
  {
   "cell_type": "markdown",
   "metadata": {},
   "source": [
    "# Классификация комментариев"
   ]
  },
  {
   "cell_type": "code",
   "execution_count": 1,
   "metadata": {},
   "outputs": [],
   "source": [
    "import pandas as pd\n",
    "import nltk\n",
    "import re\n",
    "import numpy as np\n",
    "from nltk.corpus import stopwords as nltk_stopwords\n",
    "from nltk.stem import SnowballStemmer\n",
    "from nltk.tokenize import word_tokenize\n",
    "from sklearn.feature_extraction.text import TfidfVectorizer\n",
    "from sklearn.linear_model import LogisticRegression, SGDClassifier\n",
    "from sklearn.ensemble import RandomForestClassifier, GradientBoostingClassifier\n",
    "from lightgbm import LGBMClassifier\n",
    "from sklearn.model_selection import train_test_split, cross_validate, GridSearchCV\n",
    "from pymystem3 import Mystem\n",
    "from sklearn.metrics import f1_score"
   ]
  },
  {
   "cell_type": "code",
   "execution_count": 2,
   "metadata": {},
   "outputs": [
    {
     "name": "stderr",
     "output_type": "stream",
     "text": [
      "/opt/conda/lib/python3.7/site-packages/tqdm/std.py:703: FutureWarning: The Panel class is removed from pandas. Accessing it from the top-level namespace will also be removed in the next version\n",
      "  from pandas import Panel\n"
     ]
    }
   ],
   "source": [
    "from tqdm.notebook import tqdm_notebook\n",
    "tqdm_notebook.pandas()"
   ]
  },
  {
   "cell_type": "markdown",
   "metadata": {},
   "source": [
    "## Подготовка данных"
   ]
  },
  {
   "cell_type": "code",
   "execution_count": 3,
   "metadata": {
    "scrolled": false
   },
   "outputs": [
    {
     "data": {
      "text/html": [
       "<div>\n",
       "<style scoped>\n",
       "    .dataframe tbody tr th:only-of-type {\n",
       "        vertical-align: middle;\n",
       "    }\n",
       "\n",
       "    .dataframe tbody tr th {\n",
       "        vertical-align: top;\n",
       "    }\n",
       "\n",
       "    .dataframe thead th {\n",
       "        text-align: right;\n",
       "    }\n",
       "</style>\n",
       "<table border=\"1\" class=\"dataframe\">\n",
       "  <thead>\n",
       "    <tr style=\"text-align: right;\">\n",
       "      <th></th>\n",
       "      <th>text</th>\n",
       "      <th>toxic</th>\n",
       "    </tr>\n",
       "  </thead>\n",
       "  <tbody>\n",
       "    <tr>\n",
       "      <td>0</td>\n",
       "      <td>Explanation\\nWhy the edits made under my usern...</td>\n",
       "      <td>0</td>\n",
       "    </tr>\n",
       "    <tr>\n",
       "      <td>1</td>\n",
       "      <td>D'aww! He matches this background colour I'm s...</td>\n",
       "      <td>0</td>\n",
       "    </tr>\n",
       "    <tr>\n",
       "      <td>2</td>\n",
       "      <td>Hey man, I'm really not trying to edit war. It...</td>\n",
       "      <td>0</td>\n",
       "    </tr>\n",
       "    <tr>\n",
       "      <td>3</td>\n",
       "      <td>\"\\nMore\\nI can't make any real suggestions on ...</td>\n",
       "      <td>0</td>\n",
       "    </tr>\n",
       "    <tr>\n",
       "      <td>4</td>\n",
       "      <td>You, sir, are my hero. Any chance you remember...</td>\n",
       "      <td>0</td>\n",
       "    </tr>\n",
       "  </tbody>\n",
       "</table>\n",
       "</div>"
      ],
      "text/plain": [
       "                                                text  toxic\n",
       "0  Explanation\\nWhy the edits made under my usern...      0\n",
       "1  D'aww! He matches this background colour I'm s...      0\n",
       "2  Hey man, I'm really not trying to edit war. It...      0\n",
       "3  \"\\nMore\\nI can't make any real suggestions on ...      0\n",
       "4  You, sir, are my hero. Any chance you remember...      0"
      ]
     },
     "execution_count": 3,
     "metadata": {},
     "output_type": "execute_result"
    }
   ],
   "source": [
    "toxic_comments = pd.read_csv('/datasets/toxic_comments.csv')\n",
    "\n",
    "toxic_comments.head()"
   ]
  },
  {
   "cell_type": "markdown",
   "metadata": {},
   "source": [
    "Убедимся, что в данных нет пропусков:"
   ]
  },
  {
   "cell_type": "code",
   "execution_count": 4,
   "metadata": {},
   "outputs": [
    {
     "name": "stdout",
     "output_type": "stream",
     "text": [
      "<class 'pandas.core.frame.DataFrame'>\n",
      "RangeIndex: 159571 entries, 0 to 159570\n",
      "Data columns (total 2 columns):\n",
      "text     159571 non-null object\n",
      "toxic    159571 non-null int64\n",
      "dtypes: int64(1), object(1)\n",
      "memory usage: 2.4+ MB\n"
     ]
    }
   ],
   "source": [
    "toxic_comments.info()"
   ]
  },
  {
   "cell_type": "markdown",
   "metadata": {},
   "source": [
    "Посчитаем процент негативных комментариев в данных:"
   ]
  },
  {
   "cell_type": "code",
   "execution_count": 5,
   "metadata": {
    "scrolled": true
   },
   "outputs": [
    {
     "name": "stdout",
     "output_type": "stream",
     "text": [
      "Количество негативных комментариев 10.17 %\n"
     ]
    }
   ],
   "source": [
    "print(f'Количество негативных комментариев {toxic_comments[\"toxic\"].value_counts().loc[1] / len(toxic_comments) * 100:.2f} %')"
   ]
  },
  {
   "cell_type": "markdown",
   "metadata": {},
   "source": [
    "Удалим из данных знаки препинания:"
   ]
  },
  {
   "cell_type": "code",
   "execution_count": 6,
   "metadata": {},
   "outputs": [],
   "source": [
    "def clear_text(text):\n",
    "    clear_list = re.sub(r'[^a-zA-z ]', ' ', text).split()\n",
    "    clear_text = \" \".join(clear_list)\n",
    "    \n",
    "    return clear_text"
   ]
  },
  {
   "cell_type": "code",
   "execution_count": 7,
   "metadata": {
    "scrolled": true
   },
   "outputs": [],
   "source": [
    "toxic_comments['stem_text'] = toxic_comments['text'].apply(clear_text)"
   ]
  },
  {
   "cell_type": "markdown",
   "metadata": {},
   "source": [
    "Выделим леммы из строк:"
   ]
  },
  {
   "cell_type": "code",
   "execution_count": 8,
   "metadata": {},
   "outputs": [],
   "source": [
    "snowball = SnowballStemmer(language='english')\n",
    "\n",
    "def stemmer(text):\n",
    "    token_text = word_tokenize(text)\n",
    "    stem_text = \" \".join([snowball.stem(word) for word in token_text])\n",
    "    \n",
    "    return stem_text"
   ]
  },
  {
   "cell_type": "code",
   "execution_count": 9,
   "metadata": {},
   "outputs": [
    {
     "data": {
      "application/vnd.jupyter.widget-view+json": {
       "model_id": "11bb237c87644a0cb56b10282c6c1794",
       "version_major": 2,
       "version_minor": 0
      },
      "text/plain": [
       "HBox(children=(HTML(value=''), FloatProgress(value=0.0, max=159571.0), HTML(value='')))"
      ]
     },
     "metadata": {},
     "output_type": "display_data"
    },
    {
     "name": "stdout",
     "output_type": "stream",
     "text": [
      "\n"
     ]
    }
   ],
   "source": [
    "toxic_comments['stem_text'] = toxic_comments['stem_text'].progress_apply(stemmer)"
   ]
  },
  {
   "cell_type": "markdown",
   "metadata": {},
   "source": [
    "Выделим признаки и целевой признак. Разделим данные на обучающую и тестовые выборки:"
   ]
  },
  {
   "cell_type": "code",
   "execution_count": 10,
   "metadata": {},
   "outputs": [],
   "source": [
    "features = toxic_comments['stem_text']\n",
    "target = toxic_comments['toxic']\n",
    "\n",
    "X_train, X_test, y_train, y_test = train_test_split(features, target, test_size=0.3, random_state=12345)"
   ]
  },
  {
   "cell_type": "markdown",
   "metadata": {},
   "source": [
    "Рассчитаем величину TF-IDF для выборок:"
   ]
  },
  {
   "cell_type": "code",
   "execution_count": 11,
   "metadata": {},
   "outputs": [
    {
     "name": "stderr",
     "output_type": "stream",
     "text": [
      "[nltk_data] Downloading package stopwords to /home/jovyan/nltk_data...\n",
      "[nltk_data]   Package stopwords is already up-to-date!\n"
     ]
    }
   ],
   "source": [
    "train_corpus = X_train.values.astype('U')\n",
    "\n",
    "nltk.download('stopwords')\n",
    "stopwords = set(nltk_stopwords.words('english'))\n",
    "\n",
    "count_tf_idf = TfidfVectorizer(stop_words=stopwords)\n",
    "X_train_tf_idf = count_tf_idf.fit_transform(train_corpus)"
   ]
  },
  {
   "cell_type": "code",
   "execution_count": 12,
   "metadata": {},
   "outputs": [],
   "source": [
    "test_corpus = X_test.values.astype('U')\n",
    "\n",
    "X_test_tf_idf = count_tf_idf.transform(test_corpus)"
   ]
  },
  {
   "cell_type": "markdown",
   "metadata": {},
   "source": [
    "Посчитаем процент негативных комментариев в выборках:"
   ]
  },
  {
   "cell_type": "code",
   "execution_count": 13,
   "metadata": {
    "scrolled": true
   },
   "outputs": [
    {
     "name": "stdout",
     "output_type": "stream",
     "text": [
      "Количество негативных комментариев:\n",
      "    в обучающей выборке 10.16 %\n",
      "    в тестовой выборке 10.19 %\n"
     ]
    }
   ],
   "source": [
    "print(\n",
    "    f'Количество негативных комментариев:\\n\\\n",
    "    в обучающей выборке {y_train.value_counts().loc[1] / len(y_train) * 100:.2f} %\\n\\\n",
    "    в тестовой выборке {y_test.value_counts().loc[1] / len(y_test) * 100:.2f} %'\n",
    ")"
   ]
  },
  {
   "cell_type": "markdown",
   "metadata": {},
   "source": [
    "### Вывод\n",
    "В процессе подготовки из данных были выделены леммы, удалены знаки препинания и стоп-слова; рассчитаны величины TF-IDF; получены обучающая и тестовая выборки."
   ]
  },
  {
   "cell_type": "markdown",
   "metadata": {},
   "source": [
    "## Обучение"
   ]
  },
  {
   "cell_type": "markdown",
   "metadata": {},
   "source": [
    "###  Логистическая регрессия"
   ]
  },
  {
   "cell_type": "code",
   "execution_count": 14,
   "metadata": {},
   "outputs": [
    {
     "name": "stdout",
     "output_type": "stream",
     "text": [
      "F1-score для модели логистической регрессии равно 0.72\n",
      "CPU times: user 22.7 s, sys: 19.5 s, total: 42.1 s\n",
      "Wall time: 42.2 s\n"
     ]
    }
   ],
   "source": [
    "%%time\n",
    "log_reg = LogisticRegression(random_state=12345, solver='liblinear')\n",
    "\n",
    "cv_result = cross_validate(log_reg, X_train_tf_idf, y_train, cv=5, scoring='f1')\n",
    "\n",
    "print(f'F1-score для модели логистической регрессии равно {cv_result[\"test_score\"].mean():.2f}')"
   ]
  },
  {
   "cell_type": "code",
   "execution_count": 15,
   "metadata": {},
   "outputs": [
    {
     "name": "stdout",
     "output_type": "stream",
     "text": [
      "F1-score для модели логистической регрессии на тестовой выборке равно 0.75\n"
     ]
    }
   ],
   "source": [
    "log_reg.fit(X_train_tf_idf, y_train)\n",
    "y_pred = log_reg.predict(X_test_tf_idf)\n",
    "\n",
    "print(f'F1-score для модели логистической регрессии на тестовой выборке равно {f1_score(y_test, y_pred):.2f}')"
   ]
  },
  {
   "cell_type": "markdown",
   "metadata": {},
   "source": [
    "### Cтохастический градиентный спуск"
   ]
  },
  {
   "cell_type": "code",
   "execution_count": 16,
   "metadata": {
    "scrolled": false
   },
   "outputs": [
    {
     "name": "stderr",
     "output_type": "stream",
     "text": [
      "/opt/conda/lib/python3.7/site-packages/sklearn/metrics/classification.py:1437: UndefinedMetricWarning: F-score is ill-defined and being set to 0.0 due to no predicted samples.\n",
      "  'precision', 'predicted', average, warn_for)\n"
     ]
    },
    {
     "name": "stdout",
     "output_type": "stream",
     "text": [
      "F1-score модели градиентного спуска с параметрами {'alpha': 1e-05, 'penalty': 'l1'} равно 0.78\n",
      "CPU times: user 1min 4s, sys: 13.1 s, total: 1min 17s\n",
      "Wall time: 1min 18s\n"
     ]
    }
   ],
   "source": [
    "%%time\n",
    "sgd = SGDClassifier(random_state=12345)\n",
    "\n",
    "param_grid = {\n",
    "    \"alpha\": np.logspace(-5, 0, num=10),\n",
    "    \"penalty\": ['l1', 'l2', 'elasticnet'],\n",
    "}\n",
    "\n",
    "grid_search = GridSearchCV(\n",
    "    sgd,\n",
    "    param_grid=param_grid,\n",
    "    cv=5,\n",
    "    scoring='f1',\n",
    "    n_jobs=-1,\n",
    ")\n",
    "\n",
    "grid_search.fit(X_train_tf_idf, y_train)\n",
    "\n",
    "print(f'F1-score модели градиентного спуска с параметрами {grid_search.best_params_} равно {(grid_search.best_score_):.2f}')"
   ]
  },
  {
   "cell_type": "code",
   "execution_count": 17,
   "metadata": {
    "scrolled": true
   },
   "outputs": [
    {
     "name": "stdout",
     "output_type": "stream",
     "text": [
      " F1-score модели градиентного спуска на тестовой выборке равно 0.78\n"
     ]
    }
   ],
   "source": [
    "y_pred = grid_search.predict(X_test_tf_idf)\n",
    "\n",
    "print(f' F1-score модели градиентного спуска на тестовой выборке равно {f1_score(y_test, y_pred):.2f}')"
   ]
  },
  {
   "cell_type": "markdown",
   "metadata": {},
   "source": [
    "## Выводы"
   ]
  },
  {
   "cell_type": "markdown",
   "metadata": {},
   "source": [
    "В результате удалось получить значение F1-score больше 0.75 на модели стохастического градиентного спуска."
   ]
  }
 ],
 "metadata": {
  "ExecuteTimeLog": [
   {
    "duration": 716,
    "start_time": "2021-06-15T06:55:48.561Z"
   },
   {
    "duration": 1786,
    "start_time": "2021-06-15T06:56:45.607Z"
   },
   {
    "duration": 1906,
    "start_time": "2021-06-15T06:56:59.536Z"
   },
   {
    "duration": 734,
    "start_time": "2021-06-15T06:57:55.744Z"
   },
   {
    "duration": 37,
    "start_time": "2021-06-15T06:58:33.144Z"
   },
   {
    "duration": 233,
    "start_time": "2021-06-15T06:59:11.303Z"
   },
   {
    "duration": 6,
    "start_time": "2021-06-15T06:59:25.256Z"
   },
   {
    "duration": 9,
    "start_time": "2021-06-15T06:59:52.416Z"
   },
   {
    "duration": 1048,
    "start_time": "2021-06-15T07:11:15.257Z"
   },
   {
    "duration": 4,
    "start_time": "2021-06-15T07:11:21.984Z"
   },
   {
    "duration": 9,
    "start_time": "2021-06-15T07:16:41.568Z"
   },
   {
    "duration": 4725,
    "start_time": "2021-06-15T07:20:04.287Z"
   },
   {
    "duration": 1582,
    "start_time": "2021-06-15T07:21:10.239Z"
   },
   {
    "duration": 767,
    "start_time": "2021-06-15T07:21:12.367Z"
   },
   {
    "duration": 11,
    "start_time": "2021-06-15T07:21:14.487Z"
   },
   {
    "duration": 3036,
    "start_time": "2021-06-15T07:21:15.645Z"
   },
   {
    "duration": 1518,
    "start_time": "2021-06-15T07:21:41.163Z"
   },
   {
    "duration": 860,
    "start_time": "2021-06-15T07:21:42.684Z"
   },
   {
    "duration": 25,
    "start_time": "2021-06-15T07:21:43.547Z"
   },
   {
    "duration": 3102,
    "start_time": "2021-06-15T07:21:43.575Z"
   },
   {
    "duration": 1471,
    "start_time": "2021-06-15T07:22:42.686Z"
   },
   {
    "duration": 729,
    "start_time": "2021-06-15T07:22:44.851Z"
   },
   {
    "duration": 9,
    "start_time": "2021-06-15T07:22:46.308Z"
   },
   {
    "duration": 2669,
    "start_time": "2021-06-15T07:22:47.210Z"
   },
   {
    "duration": 6,
    "start_time": "2021-06-15T07:22:57.186Z"
   },
   {
    "duration": 4,
    "start_time": "2021-06-15T07:26:04.693Z"
   },
   {
    "duration": 751,
    "start_time": "2021-06-15T07:26:56.950Z"
   },
   {
    "duration": 1714,
    "start_time": "2021-06-15T07:28:41.201Z"
   },
   {
    "duration": 1094,
    "start_time": "2021-06-15T07:28:45.042Z"
   },
   {
    "duration": 14,
    "start_time": "2021-06-15T07:28:48.035Z"
   },
   {
    "duration": 138330,
    "start_time": "2021-06-15T07:29:57.482Z"
   },
   {
    "duration": 2887,
    "start_time": "2021-06-15T07:32:22.828Z"
   },
   {
    "duration": 4,
    "start_time": "2021-06-15T07:32:31.203Z"
   },
   {
    "duration": 507,
    "start_time": "2021-06-15T07:32:57.490Z"
   },
   {
    "duration": 494,
    "start_time": "2021-06-15T07:34:03.531Z"
   },
   {
    "duration": 4,
    "start_time": "2021-06-15T07:40:46.545Z"
   },
   {
    "duration": 1262,
    "start_time": "2021-06-15T07:41:04.297Z"
   },
   {
    "duration": 5,
    "start_time": "2021-06-15T07:41:15.507Z"
   },
   {
    "duration": 151095,
    "start_time": "2021-06-15T07:41:17.645Z"
   },
   {
    "duration": 13,
    "start_time": "2021-06-15T07:44:50.897Z"
   },
   {
    "duration": 4,
    "start_time": "2021-06-15T07:45:56.665Z"
   },
   {
    "duration": 1239,
    "start_time": "2021-06-15T07:46:34.570Z"
   },
   {
    "duration": 5,
    "start_time": "2021-06-15T07:46:48.362Z"
   },
   {
    "duration": 3300,
    "start_time": "2021-06-15T07:46:51.229Z"
   },
   {
    "duration": 11,
    "start_time": "2021-06-15T07:47:02.699Z"
   },
   {
    "duration": 1821,
    "start_time": "2021-06-15T07:58:21.264Z"
   },
   {
    "duration": 890,
    "start_time": "2021-06-15T07:58:23.089Z"
   },
   {
    "duration": 11,
    "start_time": "2021-06-15T07:58:23.982Z"
   },
   {
    "duration": 4,
    "start_time": "2021-06-15T07:58:23.996Z"
   },
   {
    "duration": 151015,
    "start_time": "2021-06-15T07:58:24.003Z"
   },
   {
    "duration": 4,
    "start_time": "2021-06-15T08:00:55.020Z"
   },
   {
    "duration": 3019,
    "start_time": "2021-06-15T08:00:55.027Z"
   },
   {
    "duration": 352,
    "start_time": "2021-06-15T08:01:08.719Z"
   },
   {
    "duration": 1421,
    "start_time": "2021-06-15T08:07:44.685Z"
   },
   {
    "duration": 747,
    "start_time": "2021-06-15T08:07:46.994Z"
   },
   {
    "duration": 11,
    "start_time": "2021-06-15T08:07:48.682Z"
   },
   {
    "duration": 4,
    "start_time": "2021-06-15T08:07:49.666Z"
   },
   {
    "duration": 158501,
    "start_time": "2021-06-15T08:07:52.378Z"
   },
   {
    "duration": 5,
    "start_time": "2021-06-15T08:10:32.531Z"
   },
   {
    "duration": 2919,
    "start_time": "2021-06-15T08:10:34.003Z"
   },
   {
    "duration": 33,
    "start_time": "2021-06-15T08:10:38.335Z"
   },
   {
    "duration": 7,
    "start_time": "2021-06-15T08:10:51.851Z"
   },
   {
    "duration": 4,
    "start_time": "2021-06-15T08:11:12.363Z"
   },
   {
    "duration": 20510,
    "start_time": "2021-06-15T08:12:27.317Z"
   },
   {
    "duration": 5070,
    "start_time": "2021-06-15T08:12:50.323Z"
   },
   {
    "duration": 93525,
    "start_time": "2021-06-15T08:19:11.788Z"
   },
   {
    "duration": 6,
    "start_time": "2021-06-15T08:21:03.643Z"
   },
   {
    "duration": 5,
    "start_time": "2021-06-15T08:22:47.711Z"
   },
   {
    "duration": 9495,
    "start_time": "2021-06-15T08:23:31.044Z"
   },
   {
    "duration": 71,
    "start_time": "2021-06-15T08:29:48.605Z"
   },
   {
    "duration": 148143,
    "start_time": "2021-06-15T08:31:57.220Z"
   },
   {
    "duration": 447030,
    "start_time": "2021-06-15T08:34:53.293Z"
   },
   {
    "duration": 1501,
    "start_time": "2021-06-15T08:43:50.473Z"
   },
   {
    "duration": 754,
    "start_time": "2021-06-15T08:43:51.977Z"
   },
   {
    "duration": 10,
    "start_time": "2021-06-15T08:43:52.734Z"
   },
   {
    "duration": 3,
    "start_time": "2021-06-15T08:43:52.747Z"
   },
   {
    "duration": 149011,
    "start_time": "2021-06-15T08:43:52.756Z"
   },
   {
    "duration": 4,
    "start_time": "2021-06-15T08:46:21.770Z"
   },
   {
    "duration": 3329,
    "start_time": "2021-06-15T08:46:21.776Z"
   },
   {
    "duration": 47,
    "start_time": "2021-06-15T08:46:25.110Z"
   },
   {
    "duration": 8187,
    "start_time": "2021-06-15T08:46:25.159Z"
   },
   {
    "duration": 7961,
    "start_time": "2021-06-15T08:46:33.349Z"
   },
   {
    "duration": 79389,
    "start_time": "2021-06-15T08:46:41.312Z"
   },
   {
    "duration": 5,
    "start_time": "2021-06-15T08:48:00.704Z"
   },
   {
    "duration": 8920,
    "start_time": "2021-06-15T08:48:00.711Z"
   },
   {
    "duration": 1477,
    "start_time": "2021-06-15T08:49:30.695Z"
   },
   {
    "duration": 736,
    "start_time": "2021-06-15T08:49:32.175Z"
   },
   {
    "duration": 9,
    "start_time": "2021-06-15T08:49:32.914Z"
   },
   {
    "duration": 4,
    "start_time": "2021-06-15T08:49:32.926Z"
   },
   {
    "duration": 149637,
    "start_time": "2021-06-15T08:49:32.956Z"
   },
   {
    "duration": 4,
    "start_time": "2021-06-15T08:52:02.595Z"
   },
   {
    "duration": 2908,
    "start_time": "2021-06-15T08:52:02.602Z"
   },
   {
    "duration": 45,
    "start_time": "2021-06-15T08:52:05.514Z"
   },
   {
    "duration": 8379,
    "start_time": "2021-06-15T08:52:05.562Z"
   },
   {
    "duration": 7624,
    "start_time": "2021-06-15T08:52:13.944Z"
   },
   {
    "duration": 321,
    "start_time": "2021-06-15T08:52:21.571Z"
   },
   {
    "duration": 246,
    "start_time": "2021-06-15T08:52:21.895Z"
   },
   {
    "duration": 16,
    "start_time": "2021-06-15T08:52:22.129Z"
   },
   {
    "duration": 13127,
    "start_time": "2021-06-15T08:53:34.078Z"
   },
   {
    "duration": 120825,
    "start_time": "2021-06-15T08:53:56.745Z"
   },
   {
    "duration": 50189,
    "start_time": "2021-06-15T08:56:25.512Z"
   },
   {
    "duration": 1530,
    "start_time": "2021-06-15T08:58:11.665Z"
   },
   {
    "duration": 769,
    "start_time": "2021-06-15T08:58:13.943Z"
   },
   {
    "duration": 10,
    "start_time": "2021-06-15T08:58:15.663Z"
   },
   {
    "duration": 4,
    "start_time": "2021-06-15T08:58:17.376Z"
   },
   {
    "duration": 151490,
    "start_time": "2021-06-15T08:58:18.599Z"
   },
   {
    "duration": 5,
    "start_time": "2021-06-15T09:00:57.470Z"
   },
   {
    "duration": 2906,
    "start_time": "2021-06-15T09:00:58.295Z"
   },
   {
    "duration": 34,
    "start_time": "2021-06-15T09:01:01.204Z"
   },
   {
    "duration": 8057,
    "start_time": "2021-06-15T09:01:02.366Z"
   },
   {
    "duration": 7709,
    "start_time": "2021-06-15T09:01:11.655Z"
   },
   {
    "duration": 40191,
    "start_time": "2021-06-15T09:01:20.094Z"
   },
   {
    "duration": 6,
    "start_time": "2021-06-15T09:03:31.279Z"
   },
   {
    "duration": 8450,
    "start_time": "2021-06-15T09:03:35.175Z"
   },
   {
    "duration": 113694,
    "start_time": "2021-06-15T09:04:07.024Z"
   },
   {
    "duration": 88,
    "start_time": "2021-06-15T09:07:17.624Z"
   },
   {
    "duration": 217,
    "start_time": "2021-06-15T09:09:26.159Z"
   },
   {
    "duration": 87,
    "start_time": "2021-06-15T09:13:52.511Z"
   },
   {
    "duration": 222087,
    "start_time": "2021-06-15T09:14:02.758Z"
   },
   {
    "duration": 60,
    "start_time": "2021-06-15T09:18:05.759Z"
   },
   {
    "duration": 177264,
    "start_time": "2021-06-15T09:18:17.719Z"
   },
   {
    "duration": 264,
    "start_time": "2021-06-15T09:21:34.034Z"
   },
   {
    "duration": 6,
    "start_time": "2021-06-15T09:41:19.296Z"
   },
   {
    "duration": 151967,
    "start_time": "2021-06-15T09:41:24.688Z"
   },
   {
    "duration": 40,
    "start_time": "2021-06-15T09:44:44.095Z"
   },
   {
    "duration": 4,
    "start_time": "2021-06-15T09:45:20.872Z"
   },
   {
    "duration": 39578,
    "start_time": "2021-06-15T09:48:40.024Z"
   },
   {
    "duration": 9,
    "start_time": "2021-06-15T09:49:23.038Z"
   },
   {
    "duration": 9056,
    "start_time": "2021-06-15T09:49:23.982Z"
   },
   {
    "duration": 11,
    "start_time": "2021-06-15T09:50:58.326Z"
   },
   {
    "duration": 8,
    "start_time": "2021-06-15T09:51:14.887Z"
   },
   {
    "duration": 53,
    "start_time": "2021-06-15T09:51:53.176Z"
   },
   {
    "duration": 1546,
    "start_time": "2021-06-15T09:52:10.219Z"
   },
   {
    "duration": 796,
    "start_time": "2021-06-15T09:52:11.768Z"
   },
   {
    "duration": 11,
    "start_time": "2021-06-15T09:52:12.567Z"
   },
   {
    "duration": 5,
    "start_time": "2021-06-15T09:52:12.582Z"
   },
   {
    "duration": 152975,
    "start_time": "2021-06-15T09:52:12.589Z"
   },
   {
    "duration": 4,
    "start_time": "2021-06-15T09:54:45.567Z"
   },
   {
    "duration": 2946,
    "start_time": "2021-06-15T09:54:45.573Z"
   },
   {
    "duration": 44,
    "start_time": "2021-06-15T09:54:48.522Z"
   },
   {
    "duration": 13595,
    "start_time": "2021-06-15T09:54:48.569Z"
   },
   {
    "duration": 3163,
    "start_time": "2021-06-15T09:55:02.167Z"
   },
   {
    "duration": 9,
    "start_time": "2021-06-15T09:55:05.333Z"
   },
   {
    "duration": 8,
    "start_time": "2021-06-15T09:55:05.356Z"
   },
   {
    "duration": 47526,
    "start_time": "2021-06-15T09:55:57.204Z"
   },
   {
    "duration": 6,
    "start_time": "2021-06-15T09:56:48.390Z"
   },
   {
    "duration": 8322,
    "start_time": "2021-06-15T09:56:49.710Z"
   },
   {
    "duration": 403,
    "start_time": "2021-06-15T10:20:54.462Z"
   },
   {
    "duration": 224388,
    "start_time": "2021-06-15T10:22:42.038Z"
   },
   {
    "duration": 14761,
    "start_time": "2021-06-15T10:35:58.860Z"
   },
   {
    "duration": 19,
    "start_time": "2021-06-15T10:48:37.710Z"
   },
   {
    "duration": 427123,
    "start_time": "2021-06-15T10:51:35.814Z"
   },
   {
    "duration": 2127,
    "start_time": "2021-06-15T11:09:29.737Z"
   },
   {
    "duration": 758,
    "start_time": "2021-06-15T11:09:31.867Z"
   },
   {
    "duration": 10,
    "start_time": "2021-06-15T11:09:32.629Z"
   },
   {
    "duration": 8,
    "start_time": "2021-06-15T11:09:32.656Z"
   },
   {
    "duration": 161766,
    "start_time": "2021-06-15T11:09:32.667Z"
   },
   {
    "duration": 4,
    "start_time": "2021-06-15T11:12:14.435Z"
   },
   {
    "duration": 3268,
    "start_time": "2021-06-15T11:12:14.441Z"
   },
   {
    "duration": 33,
    "start_time": "2021-06-15T11:12:48.990Z"
   },
   {
    "duration": 11444,
    "start_time": "2021-06-15T11:12:57.115Z"
   },
   {
    "duration": 4971,
    "start_time": "2021-06-15T11:13:09.438Z"
   },
   {
    "duration": 10,
    "start_time": "2021-06-15T11:13:19.987Z"
   },
   {
    "duration": 7,
    "start_time": "2021-06-15T11:13:21.204Z"
   },
   {
    "duration": 5591,
    "start_time": "2021-06-15T11:13:28.652Z"
   },
   {
    "duration": 8,
    "start_time": "2021-06-15T11:15:27.150Z"
   },
   {
    "duration": 3189,
    "start_time": "2021-06-15T11:16:56.252Z"
   },
   {
    "duration": 2421,
    "start_time": "2021-06-15T11:18:13.110Z"
   },
   {
    "duration": 7,
    "start_time": "2021-06-15T11:18:20.132Z"
   },
   {
    "duration": 496,
    "start_time": "2021-06-15T11:18:56.484Z"
   },
   {
    "duration": 3483,
    "start_time": "2021-06-15T11:19:29.693Z"
   },
   {
    "duration": 184,
    "start_time": "2021-06-15T11:19:37.253Z"
   },
   {
    "duration": 55596,
    "start_time": "2021-06-15T11:19:44.998Z"
   },
   {
    "duration": 203277,
    "start_time": "2021-06-15T11:29:48.388Z"
   },
   {
    "duration": 630,
    "start_time": "2021-06-15T11:39:03.397Z"
   },
   {
    "duration": 11787,
    "start_time": "2021-06-15T11:39:43.093Z"
   },
   {
    "duration": 2609,
    "start_time": "2021-06-15T11:40:01.133Z"
   },
   {
    "duration": 263,
    "start_time": "2021-06-15T11:48:42.854Z"
   },
   {
    "duration": 1540,
    "start_time": "2021-06-15T11:50:06.333Z"
   },
   {
    "duration": 724,
    "start_time": "2021-06-15T11:50:07.876Z"
   },
   {
    "duration": 9,
    "start_time": "2021-06-15T11:50:08.603Z"
   },
   {
    "duration": 8,
    "start_time": "2021-06-15T11:50:08.615Z"
   },
   {
    "duration": 148952,
    "start_time": "2021-06-15T11:50:08.625Z"
   },
   {
    "duration": 4,
    "start_time": "2021-06-15T11:52:37.579Z"
   },
   {
    "duration": 2992,
    "start_time": "2021-06-15T11:52:37.586Z"
   },
   {
    "duration": 35,
    "start_time": "2021-06-15T11:52:40.582Z"
   },
   {
    "duration": 18242,
    "start_time": "2021-06-15T11:52:40.619Z"
   },
   {
    "duration": 7851,
    "start_time": "2021-06-15T11:52:58.864Z"
   },
   {
    "duration": 12,
    "start_time": "2021-06-15T11:53:06.718Z"
   },
   {
    "duration": 26,
    "start_time": "2021-06-15T11:53:06.733Z"
   },
   {
    "duration": 224,
    "start_time": "2021-06-15T11:54:29.164Z"
   },
   {
    "duration": 1505,
    "start_time": "2021-06-15T12:03:03.044Z"
   },
   {
    "duration": 741,
    "start_time": "2021-06-15T12:03:04.552Z"
   },
   {
    "duration": 9,
    "start_time": "2021-06-15T12:03:05.296Z"
   },
   {
    "duration": 5,
    "start_time": "2021-06-15T12:03:05.308Z"
   },
   {
    "duration": 149854,
    "start_time": "2021-06-15T12:03:05.315Z"
   },
   {
    "duration": 4,
    "start_time": "2021-06-15T12:05:35.171Z"
   },
   {
    "duration": 5022,
    "start_time": "2021-06-15T12:05:35.178Z"
   },
   {
    "duration": 59,
    "start_time": "2021-06-15T12:05:40.203Z"
   },
   {
    "duration": 12411,
    "start_time": "2021-06-15T12:05:40.268Z"
   },
   {
    "duration": 4918,
    "start_time": "2021-06-15T12:05:52.681Z"
   },
   {
    "duration": 10,
    "start_time": "2021-06-15T12:05:57.601Z"
   },
   {
    "duration": 11,
    "start_time": "2021-06-15T12:05:57.613Z"
   },
   {
    "duration": 549,
    "start_time": "2021-06-15T12:06:04.734Z"
   },
   {
    "duration": 1553,
    "start_time": "2021-06-15T12:29:20.910Z"
   },
   {
    "duration": 724,
    "start_time": "2021-06-15T12:29:22.466Z"
   },
   {
    "duration": 10,
    "start_time": "2021-06-15T12:29:23.193Z"
   },
   {
    "duration": 4,
    "start_time": "2021-06-15T12:29:23.206Z"
   },
   {
    "duration": 152252,
    "start_time": "2021-06-15T12:29:23.212Z"
   },
   {
    "duration": 4,
    "start_time": "2021-06-15T12:31:55.468Z"
   },
   {
    "duration": 3171,
    "start_time": "2021-06-15T12:31:55.475Z"
   },
   {
    "duration": 42,
    "start_time": "2021-06-15T12:31:58.650Z"
   },
   {
    "duration": 11991,
    "start_time": "2021-06-15T12:31:58.695Z"
   },
   {
    "duration": 4908,
    "start_time": "2021-06-15T12:32:10.689Z"
   },
   {
    "duration": 9,
    "start_time": "2021-06-15T12:32:15.600Z"
   },
   {
    "duration": 7,
    "start_time": "2021-06-15T12:32:15.611Z"
   },
   {
    "duration": 1744,
    "start_time": "2021-06-15T12:43:41.425Z"
   },
   {
    "duration": 17857,
    "start_time": "2021-06-15T12:43:43.172Z"
   },
   {
    "duration": 9,
    "start_time": "2021-06-15T12:44:01.032Z"
   },
   {
    "duration": 5,
    "start_time": "2021-06-15T12:44:01.057Z"
   },
   {
    "duration": 193794,
    "start_time": "2021-06-15T12:44:01.064Z"
   },
   {
    "duration": 6,
    "start_time": "2021-06-15T12:47:14.861Z"
   },
   {
    "duration": 24794,
    "start_time": "2021-06-15T12:47:14.871Z"
   },
   {
    "duration": 485,
    "start_time": "2021-06-15T12:47:39.671Z"
   },
   {
    "duration": 23118,
    "start_time": "2021-06-15T12:47:40.160Z"
   },
   {
    "duration": 4897,
    "start_time": "2021-06-15T12:48:03.281Z"
   },
   {
    "duration": 9,
    "start_time": "2021-06-15T12:48:08.180Z"
   },
   {
    "duration": 7,
    "start_time": "2021-06-15T12:48:08.192Z"
   },
   {
    "duration": 300,
    "start_time": "2021-06-15T13:02:40.262Z"
   },
   {
    "duration": 1586,
    "start_time": "2021-06-15T13:02:49.943Z"
   },
   {
    "duration": 14747,
    "start_time": "2021-06-15T13:02:51.531Z"
   },
   {
    "duration": 9,
    "start_time": "2021-06-15T13:03:06.281Z"
   },
   {
    "duration": 4,
    "start_time": "2021-06-15T13:03:06.293Z"
   },
   {
    "duration": 153231,
    "start_time": "2021-06-15T13:03:06.299Z"
   },
   {
    "duration": 4,
    "start_time": "2021-06-15T13:05:39.532Z"
   },
   {
    "duration": 3054,
    "start_time": "2021-06-15T13:05:39.539Z"
   },
   {
    "duration": 35,
    "start_time": "2021-06-15T13:05:42.597Z"
   },
   {
    "duration": 11825,
    "start_time": "2021-06-15T13:05:42.634Z"
   },
   {
    "duration": 5163,
    "start_time": "2021-06-15T13:05:54.462Z"
   },
   {
    "duration": 9,
    "start_time": "2021-06-15T13:05:59.628Z"
   },
   {
    "duration": 21,
    "start_time": "2021-06-15T13:05:59.639Z"
   },
   {
    "duration": 1762,
    "start_time": "2021-06-15T13:14:44.446Z"
   },
   {
    "duration": 14546,
    "start_time": "2021-06-15T13:14:46.211Z"
   },
   {
    "duration": 9,
    "start_time": "2021-06-15T13:15:00.760Z"
   },
   {
    "duration": 13,
    "start_time": "2021-06-15T13:15:00.771Z"
   },
   {
    "duration": 155884,
    "start_time": "2021-06-15T13:15:00.786Z"
   },
   {
    "duration": 4,
    "start_time": "2021-06-15T13:17:36.672Z"
   },
   {
    "duration": 3292,
    "start_time": "2021-06-15T13:17:36.679Z"
   },
   {
    "duration": 35,
    "start_time": "2021-06-15T13:17:39.974Z"
   },
   {
    "duration": 18310,
    "start_time": "2021-06-15T13:17:40.012Z"
   },
   {
    "duration": 8101,
    "start_time": "2021-06-15T13:17:58.324Z"
   },
   {
    "duration": 11,
    "start_time": "2021-06-15T13:18:06.428Z"
   },
   {
    "duration": 22,
    "start_time": "2021-06-15T13:18:06.442Z"
   },
   {
    "duration": 1692,
    "start_time": "2021-06-15T13:22:08.542Z"
   },
   {
    "duration": 16211,
    "start_time": "2021-06-15T13:22:10.237Z"
   },
   {
    "duration": 10,
    "start_time": "2021-06-15T13:22:26.455Z"
   },
   {
    "duration": 4,
    "start_time": "2021-06-15T13:22:26.468Z"
   },
   {
    "duration": 151686,
    "start_time": "2021-06-15T13:22:26.475Z"
   },
   {
    "duration": 9,
    "start_time": "2021-06-15T13:24:58.164Z"
   },
   {
    "duration": 3147,
    "start_time": "2021-06-15T13:24:58.176Z"
   },
   {
    "duration": 43,
    "start_time": "2021-06-15T13:25:01.327Z"
   },
   {
    "duration": 11970,
    "start_time": "2021-06-15T13:25:01.372Z"
   },
   {
    "duration": 4792,
    "start_time": "2021-06-15T13:25:13.344Z"
   },
   {
    "duration": 18,
    "start_time": "2021-06-15T13:25:18.139Z"
   },
   {
    "duration": 7,
    "start_time": "2021-06-15T13:25:18.159Z"
   },
   {
    "duration": 1664,
    "start_time": "2021-06-15T13:31:10.697Z"
   },
   {
    "duration": 16991,
    "start_time": "2021-06-15T13:31:16.282Z"
   },
   {
    "duration": 9,
    "start_time": "2021-06-15T13:31:34.698Z"
   },
   {
    "duration": 4,
    "start_time": "2021-06-15T13:31:35.617Z"
   },
   {
    "duration": 155121,
    "start_time": "2021-06-15T13:31:36.418Z"
   },
   {
    "duration": 4,
    "start_time": "2021-06-15T13:34:11.542Z"
   },
   {
    "duration": 3232,
    "start_time": "2021-06-15T13:34:11.557Z"
   },
   {
    "duration": 36,
    "start_time": "2021-06-15T13:34:14.792Z"
   },
   {
    "duration": 18882,
    "start_time": "2021-06-15T13:34:14.830Z"
   },
   {
    "duration": 4894,
    "start_time": "2021-06-15T13:34:33.715Z"
   },
   {
    "duration": 12,
    "start_time": "2021-06-15T13:34:38.612Z"
   },
   {
    "duration": 30,
    "start_time": "2021-06-15T13:34:38.628Z"
   },
   {
    "duration": 1574,
    "start_time": "2021-06-15T13:40:37.569Z"
   },
   {
    "duration": 778,
    "start_time": "2021-06-15T13:40:39.840Z"
   },
   {
    "duration": 10,
    "start_time": "2021-06-15T13:40:41.472Z"
   },
   {
    "duration": 4,
    "start_time": "2021-06-15T13:40:42.408Z"
   },
   {
    "duration": 153676,
    "start_time": "2021-06-15T13:40:44.672Z"
   },
   {
    "duration": 5,
    "start_time": "2021-06-15T13:43:52.145Z"
   },
   {
    "duration": 3287,
    "start_time": "2021-06-15T13:43:52.986Z"
   },
   {
    "duration": 36,
    "start_time": "2021-06-15T13:43:57.377Z"
   },
   {
    "duration": 18888,
    "start_time": "2021-06-15T13:43:58.857Z"
   },
   {
    "duration": 7994,
    "start_time": "2021-06-15T13:44:17.749Z"
   },
   {
    "duration": 19,
    "start_time": "2021-06-15T13:44:25.747Z"
   },
   {
    "duration": 11,
    "start_time": "2021-06-15T13:44:25.770Z"
   },
   {
    "duration": 265,
    "start_time": "2021-06-15T13:54:03.858Z"
   },
   {
    "duration": 1494,
    "start_time": "2021-06-15T13:54:21.411Z"
   },
   {
    "duration": 11563,
    "start_time": "2021-06-15T13:54:22.908Z"
   },
   {
    "duration": 11,
    "start_time": "2021-06-15T13:54:34.474Z"
   },
   {
    "duration": 5,
    "start_time": "2021-06-15T13:54:34.487Z"
   },
   {
    "duration": 155209,
    "start_time": "2021-06-15T13:54:34.494Z"
   },
   {
    "duration": 5,
    "start_time": "2021-06-15T13:57:09.706Z"
   },
   {
    "duration": 3224,
    "start_time": "2021-06-15T13:57:09.714Z"
   },
   {
    "duration": 40,
    "start_time": "2021-06-15T13:57:12.944Z"
   },
   {
    "duration": 11654,
    "start_time": "2021-06-15T13:57:12.986Z"
   },
   {
    "duration": 4996,
    "start_time": "2021-06-15T13:57:24.643Z"
   },
   {
    "duration": 16,
    "start_time": "2021-06-15T13:57:29.641Z"
   },
   {
    "duration": 19,
    "start_time": "2021-06-15T13:57:29.659Z"
   },
   {
    "duration": 41232,
    "start_time": "2021-06-15T13:57:29.681Z"
   },
   {
    "duration": 6,
    "start_time": "2021-06-15T13:58:10.917Z"
   },
   {
    "duration": 9114,
    "start_time": "2021-06-15T13:58:10.925Z"
   },
   {
    "duration": 2432,
    "start_time": "2021-06-15T14:02:40.442Z"
   },
   {
    "duration": 2020,
    "start_time": "2021-06-15T14:02:53.739Z"
   },
   {
    "duration": 3182,
    "start_time": "2021-06-15T14:03:19.442Z"
   },
   {
    "duration": 2572,
    "start_time": "2021-06-15T14:03:35.977Z"
   },
   {
    "duration": 4600,
    "start_time": "2021-06-15T14:03:48.321Z"
   },
   {
    "duration": 3035,
    "start_time": "2021-06-15T14:03:56.409Z"
   },
   {
    "duration": 2579,
    "start_time": "2021-06-15T14:04:07.369Z"
   },
   {
    "duration": 4780,
    "start_time": "2021-06-15T14:04:15.298Z"
   },
   {
    "duration": 391504,
    "start_time": "2021-06-15T14:04:37.410Z"
   },
   {
    "duration": 101282,
    "start_time": "2021-06-15T14:12:28.907Z"
   },
   {
    "duration": 28,
    "start_time": "2021-06-15T14:14:28.987Z"
   },
   {
    "duration": 41,
    "start_time": "2021-06-15T14:16:02.403Z"
   },
   {
    "duration": 1556,
    "start_time": "2021-06-15T14:46:23.176Z"
   },
   {
    "duration": 9983,
    "start_time": "2021-06-15T14:46:25.520Z"
   },
   {
    "duration": 11,
    "start_time": "2021-06-15T14:47:28.887Z"
   },
   {
    "duration": 9,
    "start_time": "2021-06-15T14:48:09.736Z"
   },
   {
    "duration": 9,
    "start_time": "2021-06-15T14:50:51.639Z"
   },
   {
    "duration": 85,
    "start_time": "2021-06-15T14:52:46.639Z"
   },
   {
    "duration": 7,
    "start_time": "2021-06-15T14:52:55.176Z"
   },
   {
    "duration": 8,
    "start_time": "2021-06-15T14:53:02.526Z"
   },
   {
    "duration": 533,
    "start_time": "2021-06-15T14:54:30.758Z"
   },
   {
    "duration": 58,
    "start_time": "2021-06-15T14:54:38.976Z"
   },
   {
    "duration": 54,
    "start_time": "2021-06-15T14:54:50.768Z"
   },
   {
    "duration": 31,
    "start_time": "2021-06-15T14:55:09.153Z"
   },
   {
    "duration": 5,
    "start_time": "2021-06-15T14:56:47.920Z"
   },
   {
    "duration": 151824,
    "start_time": "2021-06-15T14:56:48.759Z"
   },
   {
    "duration": 4,
    "start_time": "2021-06-15T14:59:20.586Z"
   },
   {
    "duration": 2953,
    "start_time": "2021-06-15T14:59:20.593Z"
   },
   {
    "duration": 39,
    "start_time": "2021-06-15T14:59:23.549Z"
   },
   {
    "duration": 1654,
    "start_time": "2021-06-15T15:03:31.550Z"
   },
   {
    "duration": 883,
    "start_time": "2021-06-15T15:03:33.207Z"
   },
   {
    "duration": 33,
    "start_time": "2021-06-15T15:03:34.094Z"
   },
   {
    "duration": 31,
    "start_time": "2021-06-15T15:03:34.130Z"
   },
   {
    "duration": 6,
    "start_time": "2021-06-15T15:03:34.163Z"
   },
   {
    "duration": 151909,
    "start_time": "2021-06-15T15:03:34.171Z"
   },
   {
    "duration": 4,
    "start_time": "2021-06-15T15:06:06.082Z"
   },
   {
    "duration": 3022,
    "start_time": "2021-06-15T15:06:06.090Z"
   },
   {
    "duration": 47,
    "start_time": "2021-06-15T15:06:09.115Z"
   },
   {
    "duration": 12000,
    "start_time": "2021-06-15T15:06:09.164Z"
   },
   {
    "duration": 5037,
    "start_time": "2021-06-15T15:06:21.166Z"
   },
   {
    "duration": 11,
    "start_time": "2021-06-15T15:06:30.258Z"
   },
   {
    "duration": 91,
    "start_time": "2021-06-15T15:06:46.226Z"
   },
   {
    "duration": 10,
    "start_time": "2021-06-15T15:06:51.554Z"
   },
   {
    "duration": 10,
    "start_time": "2021-06-15T15:06:58.482Z"
   },
   {
    "duration": 10,
    "start_time": "2021-06-15T15:07:09.442Z"
   },
   {
    "duration": 82,
    "start_time": "2021-06-15T15:11:36.667Z"
   },
   {
    "duration": 41696,
    "start_time": "2021-06-15T15:11:51.315Z"
   },
   {
    "duration": 9074,
    "start_time": "2021-06-15T15:12:43.106Z"
   },
   {
    "duration": 1678,
    "start_time": "2021-06-15T15:14:03.038Z"
   },
   {
    "duration": 11516,
    "start_time": "2021-06-15T15:14:04.718Z"
   },
   {
    "duration": 36,
    "start_time": "2021-06-15T15:14:16.237Z"
   },
   {
    "duration": 10,
    "start_time": "2021-06-15T15:14:16.277Z"
   },
   {
    "duration": 7,
    "start_time": "2021-06-15T15:14:16.290Z"
   },
   {
    "duration": 154286,
    "start_time": "2021-06-15T15:14:16.300Z"
   },
   {
    "duration": 4,
    "start_time": "2021-06-15T15:16:50.589Z"
   },
   {
    "duration": 3056,
    "start_time": "2021-06-15T15:16:50.596Z"
   },
   {
    "duration": 36,
    "start_time": "2021-06-15T15:16:53.655Z"
   },
   {
    "duration": 11965,
    "start_time": "2021-06-15T15:16:53.693Z"
   },
   {
    "duration": 7825,
    "start_time": "2021-06-15T15:17:05.661Z"
   },
   {
    "duration": 13,
    "start_time": "2021-06-15T15:17:13.490Z"
   },
   {
    "duration": 44404,
    "start_time": "2021-06-15T15:17:13.505Z"
   },
   {
    "duration": 12327,
    "start_time": "2021-06-15T15:17:57.912Z"
   },
   {
    "duration": 101532,
    "start_time": "2021-06-15T15:18:10.242Z"
   },
   {
    "duration": 27,
    "start_time": "2021-06-15T15:19:51.777Z"
   },
   {
    "duration": 4,
    "start_time": "2021-06-15T15:19:51.806Z"
   },
   {
    "duration": 6,
    "start_time": "2021-06-15T15:23:15.676Z"
   },
   {
    "duration": 429,
    "start_time": "2021-06-15T15:23:30.020Z"
   },
   {
    "duration": 262,
    "start_time": "2021-06-15T15:23:41.676Z"
   },
   {
    "duration": 255,
    "start_time": "2021-06-15T15:23:46.433Z"
   },
   {
    "duration": 6,
    "start_time": "2021-06-15T15:23:52.977Z"
   },
   {
    "duration": 265,
    "start_time": "2021-06-15T15:24:07.978Z"
   },
   {
    "duration": 265,
    "start_time": "2021-06-15T15:24:12.361Z"
   },
   {
    "duration": 6,
    "start_time": "2021-06-15T15:24:21.186Z"
   },
   {
    "duration": 7,
    "start_time": "2021-06-15T15:24:42.898Z"
   },
   {
    "duration": 1160,
    "start_time": "2021-06-16T06:33:46.497Z"
   },
   {
    "duration": 626,
    "start_time": "2021-06-16T06:33:49.513Z"
   },
   {
    "duration": 4,
    "start_time": "2021-06-16T06:34:07.840Z"
   },
   {
    "duration": 3,
    "start_time": "2021-06-16T06:34:12.615Z"
   },
   {
    "duration": 5998,
    "start_time": "2021-06-16T06:34:15.208Z"
   },
   {
    "duration": 1979,
    "start_time": "2021-06-16T06:34:32.424Z"
   },
   {
    "duration": 3,
    "start_time": "2021-06-16T06:38:15.315Z"
   },
   {
    "duration": 36,
    "start_time": "2021-06-16T06:40:00.153Z"
   },
   {
    "duration": 119,
    "start_time": "2021-06-16T06:41:19.266Z"
   },
   {
    "duration": 1729,
    "start_time": "2021-06-16T06:41:25.977Z"
   },
   {
    "duration": 13,
    "start_time": "2021-06-16T06:41:39.193Z"
   },
   {
    "duration": 1098,
    "start_time": "2021-06-16T06:44:36.042Z"
   },
   {
    "duration": 31,
    "start_time": "2021-06-16T06:44:38.257Z"
   },
   {
    "duration": 637,
    "start_time": "2021-06-16T06:44:42.514Z"
   },
   {
    "duration": 28,
    "start_time": "2021-06-16T06:44:44.185Z"
   },
   {
    "duration": 6,
    "start_time": "2021-06-16T06:44:45.273Z"
   },
   {
    "duration": 3,
    "start_time": "2021-06-16T06:44:49.521Z"
   },
   {
    "duration": 4674,
    "start_time": "2021-06-16T06:44:50.329Z"
   },
   {
    "duration": 1393,
    "start_time": "2021-06-16T06:45:04.194Z"
   },
   {
    "duration": 11,
    "start_time": "2021-06-16T06:45:08.178Z"
   },
   {
    "duration": 4,
    "start_time": "2021-06-16T06:46:35.473Z"
   },
   {
    "duration": 4,
    "start_time": "2021-06-16T06:47:53.194Z"
   },
   {
    "duration": 3,
    "start_time": "2021-06-16T06:49:59.362Z"
   },
   {
    "duration": 909,
    "start_time": "2021-06-16T06:50:10.348Z"
   },
   {
    "duration": 72,
    "start_time": "2021-06-16T06:51:29.145Z"
   },
   {
    "duration": 3,
    "start_time": "2021-06-16T06:51:45.298Z"
   },
   {
    "duration": 174695,
    "start_time": "2021-06-16T06:51:48.252Z"
   },
   {
    "duration": 3,
    "start_time": "2021-06-16T06:57:39.225Z"
   },
   {
    "duration": 1991,
    "start_time": "2021-06-16T06:57:41.729Z"
   },
   {
    "duration": 139358,
    "start_time": "2021-06-16T06:57:50.395Z"
   },
   {
    "duration": 13,
    "start_time": "2021-06-16T07:00:21.427Z"
   },
   {
    "duration": 4,
    "start_time": "2021-06-16T07:00:59.761Z"
   },
   {
    "duration": 139297,
    "start_time": "2021-06-16T07:03:41.237Z"
   },
   {
    "duration": 216,
    "start_time": "2021-06-16T07:08:59.579Z"
   },
   {
    "duration": 4,
    "start_time": "2021-06-16T07:09:08.434Z"
   },
   {
    "duration": 140195,
    "start_time": "2021-06-16T07:09:10.558Z"
   },
   {
    "duration": 3,
    "start_time": "2021-06-16T07:11:49.273Z"
   },
   {
    "duration": 1168,
    "start_time": "2021-06-16T07:11:50.075Z"
   },
   {
    "duration": 4,
    "start_time": "2021-06-16T07:12:10.930Z"
   },
   {
    "duration": 139433,
    "start_time": "2021-06-16T07:12:11.531Z"
   },
   {
    "duration": 3,
    "start_time": "2021-06-16T07:27:52.307Z"
   },
   {
    "duration": 251,
    "start_time": "2021-06-16T07:28:03.721Z"
   },
   {
    "duration": 4,
    "start_time": "2021-06-16T07:46:42.283Z"
   },
   {
    "duration": 1204,
    "start_time": "2021-06-16T08:17:45.024Z"
   },
   {
    "duration": 37,
    "start_time": "2021-06-16T08:17:46.958Z"
   },
   {
    "duration": 715,
    "start_time": "2021-06-16T08:17:49.660Z"
   },
   {
    "duration": 26,
    "start_time": "2021-06-16T08:17:51.652Z"
   },
   {
    "duration": 6,
    "start_time": "2021-06-16T08:17:57.836Z"
   },
   {
    "duration": 3,
    "start_time": "2021-06-16T08:18:48.411Z"
   },
   {
    "duration": 2060,
    "start_time": "2021-06-16T08:18:49.594Z"
   },
   {
    "duration": 3,
    "start_time": "2021-06-16T08:18:52.753Z"
   },
   {
    "duration": 156690,
    "start_time": "2021-06-16T08:18:54.865Z"
   },
   {
    "duration": 27,
    "start_time": "2021-06-16T08:21:47.219Z"
   },
   {
    "duration": 7974,
    "start_time": "2021-06-16T08:21:50.691Z"
   },
   {
    "duration": 3450,
    "start_time": "2021-06-16T08:21:59.515Z"
   },
   {
    "duration": 6,
    "start_time": "2021-06-16T08:22:04.715Z"
   },
   {
    "duration": 40446,
    "start_time": "2021-06-16T08:22:11.474Z"
   },
   {
    "duration": 8636,
    "start_time": "2021-06-16T08:22:55.907Z"
   },
   {
    "duration": 85638,
    "start_time": "2021-06-16T08:23:34.019Z"
   },
   {
    "duration": 24,
    "start_time": "2021-06-16T08:25:05.043Z"
   },
   {
    "duration": 1960953,
    "start_time": "2021-06-16T08:25:22.145Z"
   },
   {
    "duration": 221,
    "start_time": "2021-06-16T08:59:33.865Z"
   },
   {
    "duration": 1179,
    "start_time": "2021-09-16T07:54:58.366Z"
   },
   {
    "duration": 37,
    "start_time": "2021-09-16T07:54:59.547Z"
   },
   {
    "duration": 586,
    "start_time": "2021-09-16T07:54:59.588Z"
   },
   {
    "duration": 23,
    "start_time": "2021-09-16T07:55:00.176Z"
   },
   {
    "duration": 460,
    "start_time": "2021-09-16T07:55:00.200Z"
   },
   {
    "duration": 36,
    "start_time": "2021-09-16T07:55:00.627Z"
   },
   {
    "duration": 34,
    "start_time": "2021-09-16T07:55:00.630Z"
   },
   {
    "duration": 32,
    "start_time": "2021-09-16T07:55:00.632Z"
   },
   {
    "duration": 25,
    "start_time": "2021-09-16T07:55:00.640Z"
   },
   {
    "duration": 22,
    "start_time": "2021-09-16T07:55:00.644Z"
   },
   {
    "duration": 20,
    "start_time": "2021-09-16T07:55:00.647Z"
   },
   {
    "duration": 18,
    "start_time": "2021-09-16T07:55:00.650Z"
   },
   {
    "duration": 17,
    "start_time": "2021-09-16T07:55:00.652Z"
   },
   {
    "duration": 15,
    "start_time": "2021-09-16T07:55:00.655Z"
   },
   {
    "duration": 14,
    "start_time": "2021-09-16T07:55:00.657Z"
   },
   {
    "duration": 13,
    "start_time": "2021-09-16T07:55:00.659Z"
   },
   {
    "duration": 6,
    "start_time": "2021-09-16T07:55:00.667Z"
   },
   {
    "duration": 4,
    "start_time": "2021-09-16T07:55:00.670Z"
   },
   {
    "duration": 1117,
    "start_time": "2021-09-16T07:55:18.183Z"
   },
   {
    "duration": 32,
    "start_time": "2021-09-16T07:55:19.302Z"
   },
   {
    "duration": 584,
    "start_time": "2021-09-16T07:55:19.336Z"
   },
   {
    "duration": 28,
    "start_time": "2021-09-16T07:55:19.922Z"
   },
   {
    "duration": 6,
    "start_time": "2021-09-16T07:55:19.952Z"
   },
   {
    "duration": 3,
    "start_time": "2021-09-16T07:55:19.960Z"
   },
   {
    "duration": 1998,
    "start_time": "2021-09-16T07:55:19.965Z"
   },
   {
    "duration": 3,
    "start_time": "2021-09-16T07:55:21.965Z"
   },
   {
    "duration": 137992,
    "start_time": "2021-09-16T07:55:21.970Z"
   },
   {
    "duration": 26,
    "start_time": "2021-09-16T07:57:39.964Z"
   },
   {
    "duration": 7264,
    "start_time": "2021-09-16T07:57:39.991Z"
   },
   {
    "duration": 2965,
    "start_time": "2021-09-16T07:57:47.257Z"
   },
   {
    "duration": 18,
    "start_time": "2021-09-16T07:57:50.224Z"
   },
   {
    "duration": 42234,
    "start_time": "2021-09-16T07:57:50.244Z"
   },
   {
    "duration": 8710,
    "start_time": "2021-09-16T07:58:32.480Z"
   },
   {
    "duration": 78272,
    "start_time": "2021-09-16T07:58:41.191Z"
   },
   {
    "duration": 23,
    "start_time": "2021-09-16T07:59:59.465Z"
   },
   {
    "duration": 247781,
    "start_time": "2021-09-16T07:59:59.490Z"
   }
  ],
  "kernelspec": {
   "display_name": "Python 3",
   "language": "python",
   "name": "python3"
  },
  "language_info": {
   "codemirror_mode": {
    "name": "ipython",
    "version": 3
   },
   "file_extension": ".py",
   "mimetype": "text/x-python",
   "name": "python",
   "nbconvert_exporter": "python",
   "pygments_lexer": "ipython3",
   "version": "3.8.8"
  },
  "toc": {
   "base_numbering": 1,
   "nav_menu": {},
   "number_sections": true,
   "sideBar": true,
   "skip_h1_title": true,
   "title_cell": "Содержание",
   "title_sidebar": "Contents",
   "toc_cell": true,
   "toc_position": {
    "height": "calc(100% - 180px)",
    "left": "10px",
    "top": "150px",
    "width": "302.391px"
   },
   "toc_section_display": true,
   "toc_window_display": false
  }
 },
 "nbformat": 4,
 "nbformat_minor": 2
}
