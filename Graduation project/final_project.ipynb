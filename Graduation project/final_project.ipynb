{
 "cells": [
  {
   "cell_type": "markdown",
   "metadata": {},
   "source": [
    "# Определение температуры стали"
   ]
  },
  {
   "cell_type": "markdown",
   "metadata": {},
   "source": [
    "### Описание этапа обработки\n",
    "\n",
    "Сталь обрабатывают в металлическом ковше вместимостью около 100 тонн. Чтобы ковш выдерживал высокие температуры, изнутри его облицовывают огнеупорным кирпичом. Расплавленную сталь заливают в ковш и подогревают до нужной температуры графитовыми электродами. Они установлены в крышке ковша. \n",
    "\n",
    "Из сплава выводится сера (десульфурация), добавлением примесей корректируется химический состав и отбираются пробы. Сталь легируют — изменяют её состав — подавая куски сплава из бункера для сыпучих материалов или проволоку через специальный трайб-аппарат (англ. tribe, «масса»).\n",
    "\n",
    "Перед тем как первый раз ввести легирующие добавки, измеряют температуру стали и производят её химический анализ. Потом температуру на несколько минут повышают, добавляют легирующие материалы и продувают сплав инертным газом. Затем его перемешивают и снова проводят измерения. Такой цикл повторяется до достижения целевого химического состава и оптимальной температуры плавки.\n",
    "\n",
    "Тогда расплавленная сталь отправляется на доводку металла или поступает в машину непрерывной разливки. Оттуда готовый продукт выходит в виде заготовок-слябов (англ. *slab*, «плита»).\n",
    "\n",
    "### Описание данных\n",
    "\n",
    "Данные состоят из файлов, полученных из разных источников:\n",
    "\n",
    "- `data_arc.csv` — данные об электродах;\n",
    "- `data_bulk.csv` — данные о подаче сыпучих материалов (объём);\n",
    "- `data_bulk_time.csv` *—* данные о подаче сыпучих материалов (время);\n",
    "- `data_gas.csv` — данные о продувке сплава газом;\n",
    "- `data_temp.csv` — результаты измерения температуры;\n",
    "- `data_wire.csv` — данные о проволочных материалах (объём);\n",
    "- `data_wire_time.csv` — данные о проволочных материалах (время)."
   ]
  },
  {
   "cell_type": "code",
   "execution_count": 1,
   "metadata": {},
   "outputs": [],
   "source": [
    "import pandas as pd\n",
    "import numpy as np\n",
    "\n",
    "import matplotlib.pyplot as plt\n",
    "import seaborn as sns\n",
    "\n",
    "from sklearn.feature_selection import mutual_info_regression\n",
    "from sklearn.model_selection import train_test_split, GridSearchCV\n",
    "from sklearn.preprocessing import StandardScaler\n",
    "from sklearn.metrics import mean_absolute_error\n",
    "\n",
    "from sklearn.dummy import DummyRegressor\n",
    "from sklearn.linear_model import LinearRegression, SGDRegressor\n",
    "from sklearn.experimental import enable_hist_gradient_boosting\n",
    "from sklearn.ensemble import RandomForestRegressor, GradientBoostingRegressor, HistGradientBoostingRegressor\n",
    "from lightgbm import LGBMRegressor"
   ]
  },
  {
   "cell_type": "code",
   "execution_count": 2,
   "metadata": {},
   "outputs": [],
   "source": [
    "try:\n",
    "    data_arc = pd.read_csv('final_steel/data_arc.csv')\n",
    "    data_bulk = pd.read_csv('final_steel/data_bulk.csv')\n",
    "    data_bulk_time = pd.read_csv('final_steel/data_bulk_time.csv')\n",
    "    data_gas = pd.read_csv('final_steel/data_gas.csv')\n",
    "    data_temp = pd.read_csv('final_steel/data_temp.csv')\n",
    "    data_wire = pd.read_csv('final_steel/data_wire.csv')\n",
    "    data_wire_time = pd.read_csv('final_steel/data_wire_time.csv')\n",
    "except:\n",
    "    data_arc = pd.read_csv('/datasets/final_steel/data_arc.csv')\n",
    "    data_bulk = pd.read_csv('/datasets/final_steel/data_bulk.csv')\n",
    "    data_bulk_time = pd.read_csv('/datasets/final_steel/data_bulk_time.csv')\n",
    "    data_gas = pd.read_csv('/datasets/final_steel/data_gas.csv')\n",
    "    data_temp = pd.read_csv('/datasets/final_steel/data_temp.csv')\n",
    "    data_wire = pd.read_csv('/datasets/final_steel/data_wire.csv')\n",
    "    data_wire_time = pd.read_csv('/datasets/final_steel/data_wire_time.csv')"
   ]
  },
  {
   "cell_type": "markdown",
   "metadata": {},
   "source": [
    "## Исследовательский анализ."
   ]
  },
  {
   "cell_type": "code",
   "execution_count": 3,
   "metadata": {},
   "outputs": [],
   "source": [
    "def analysis(df):    \n",
    "    display(df.head())\n",
    "    print('')\n",
    "    print('Сводная информация по таблице')\n",
    "    print('')\n",
    "    display(df.info())\n",
    "    print('')\n",
    "    print('Количество пропущенных значений')\n",
    "    report = df.isna().sum().to_frame()\n",
    "    report = report.rename(columns = {0: 'missing_values'})\n",
    "    report['% of total'] = (report['missing_values'] * 100 / df.shape[0]).round(2)\n",
    "    display(report.sort_values(by = 'missing_values', ascending = False))\n",
    "    print('')\n",
    "    print('Распределение значений')\n",
    "    display(df.describe())    "
   ]
  },
  {
   "cell_type": "markdown",
   "metadata": {},
   "source": [
    "### Данные об электродах."
   ]
  },
  {
   "cell_type": "code",
   "execution_count": 4,
   "metadata": {
    "scrolled": true
   },
   "outputs": [
    {
     "data": {
      "text/html": [
       "<div>\n",
       "<style scoped>\n",
       "    .dataframe tbody tr th:only-of-type {\n",
       "        vertical-align: middle;\n",
       "    }\n",
       "\n",
       "    .dataframe tbody tr th {\n",
       "        vertical-align: top;\n",
       "    }\n",
       "\n",
       "    .dataframe thead th {\n",
       "        text-align: right;\n",
       "    }\n",
       "</style>\n",
       "<table border=\"1\" class=\"dataframe\">\n",
       "  <thead>\n",
       "    <tr style=\"text-align: right;\">\n",
       "      <th></th>\n",
       "      <th>key</th>\n",
       "      <th>Начало нагрева дугой</th>\n",
       "      <th>Конец нагрева дугой</th>\n",
       "      <th>Активная мощность</th>\n",
       "      <th>Реактивная мощность</th>\n",
       "    </tr>\n",
       "  </thead>\n",
       "  <tbody>\n",
       "    <tr>\n",
       "      <th>0</th>\n",
       "      <td>1</td>\n",
       "      <td>2019-05-03 11:02:14</td>\n",
       "      <td>2019-05-03 11:06:02</td>\n",
       "      <td>0.976059</td>\n",
       "      <td>0.687084</td>\n",
       "    </tr>\n",
       "    <tr>\n",
       "      <th>1</th>\n",
       "      <td>1</td>\n",
       "      <td>2019-05-03 11:07:28</td>\n",
       "      <td>2019-05-03 11:10:33</td>\n",
       "      <td>0.805607</td>\n",
       "      <td>0.520285</td>\n",
       "    </tr>\n",
       "    <tr>\n",
       "      <th>2</th>\n",
       "      <td>1</td>\n",
       "      <td>2019-05-03 11:11:44</td>\n",
       "      <td>2019-05-03 11:14:36</td>\n",
       "      <td>0.744363</td>\n",
       "      <td>0.498805</td>\n",
       "    </tr>\n",
       "    <tr>\n",
       "      <th>3</th>\n",
       "      <td>1</td>\n",
       "      <td>2019-05-03 11:18:14</td>\n",
       "      <td>2019-05-03 11:24:19</td>\n",
       "      <td>1.659363</td>\n",
       "      <td>1.062669</td>\n",
       "    </tr>\n",
       "    <tr>\n",
       "      <th>4</th>\n",
       "      <td>1</td>\n",
       "      <td>2019-05-03 11:26:09</td>\n",
       "      <td>2019-05-03 11:28:37</td>\n",
       "      <td>0.692755</td>\n",
       "      <td>0.414397</td>\n",
       "    </tr>\n",
       "  </tbody>\n",
       "</table>\n",
       "</div>"
      ],
      "text/plain": [
       "   key Начало нагрева дугой  Конец нагрева дугой  Активная мощность  \\\n",
       "0    1  2019-05-03 11:02:14  2019-05-03 11:06:02           0.976059   \n",
       "1    1  2019-05-03 11:07:28  2019-05-03 11:10:33           0.805607   \n",
       "2    1  2019-05-03 11:11:44  2019-05-03 11:14:36           0.744363   \n",
       "3    1  2019-05-03 11:18:14  2019-05-03 11:24:19           1.659363   \n",
       "4    1  2019-05-03 11:26:09  2019-05-03 11:28:37           0.692755   \n",
       "\n",
       "   Реактивная мощность  \n",
       "0             0.687084  \n",
       "1             0.520285  \n",
       "2             0.498805  \n",
       "3             1.062669  \n",
       "4             0.414397  "
      ]
     },
     "metadata": {},
     "output_type": "display_data"
    },
    {
     "name": "stdout",
     "output_type": "stream",
     "text": [
      "\n",
      "Сводная информация по таблице\n",
      "\n",
      "<class 'pandas.core.frame.DataFrame'>\n",
      "RangeIndex: 14876 entries, 0 to 14875\n",
      "Data columns (total 5 columns):\n",
      " #   Column                Non-Null Count  Dtype  \n",
      "---  ------                --------------  -----  \n",
      " 0   key                   14876 non-null  int64  \n",
      " 1   Начало нагрева дугой  14876 non-null  object \n",
      " 2   Конец нагрева дугой   14876 non-null  object \n",
      " 3   Активная мощность     14876 non-null  float64\n",
      " 4   Реактивная мощность   14876 non-null  float64\n",
      "dtypes: float64(2), int64(1), object(2)\n",
      "memory usage: 581.2+ KB\n"
     ]
    },
    {
     "data": {
      "text/plain": [
       "None"
      ]
     },
     "metadata": {},
     "output_type": "display_data"
    },
    {
     "name": "stdout",
     "output_type": "stream",
     "text": [
      "\n",
      "Количество пропущенных значений\n"
     ]
    },
    {
     "data": {
      "text/html": [
       "<div>\n",
       "<style scoped>\n",
       "    .dataframe tbody tr th:only-of-type {\n",
       "        vertical-align: middle;\n",
       "    }\n",
       "\n",
       "    .dataframe tbody tr th {\n",
       "        vertical-align: top;\n",
       "    }\n",
       "\n",
       "    .dataframe thead th {\n",
       "        text-align: right;\n",
       "    }\n",
       "</style>\n",
       "<table border=\"1\" class=\"dataframe\">\n",
       "  <thead>\n",
       "    <tr style=\"text-align: right;\">\n",
       "      <th></th>\n",
       "      <th>missing_values</th>\n",
       "      <th>% of total</th>\n",
       "    </tr>\n",
       "  </thead>\n",
       "  <tbody>\n",
       "    <tr>\n",
       "      <th>key</th>\n",
       "      <td>0</td>\n",
       "      <td>0.0</td>\n",
       "    </tr>\n",
       "    <tr>\n",
       "      <th>Начало нагрева дугой</th>\n",
       "      <td>0</td>\n",
       "      <td>0.0</td>\n",
       "    </tr>\n",
       "    <tr>\n",
       "      <th>Конец нагрева дугой</th>\n",
       "      <td>0</td>\n",
       "      <td>0.0</td>\n",
       "    </tr>\n",
       "    <tr>\n",
       "      <th>Активная мощность</th>\n",
       "      <td>0</td>\n",
       "      <td>0.0</td>\n",
       "    </tr>\n",
       "    <tr>\n",
       "      <th>Реактивная мощность</th>\n",
       "      <td>0</td>\n",
       "      <td>0.0</td>\n",
       "    </tr>\n",
       "  </tbody>\n",
       "</table>\n",
       "</div>"
      ],
      "text/plain": [
       "                      missing_values  % of total\n",
       "key                                0         0.0\n",
       "Начало нагрева дугой               0         0.0\n",
       "Конец нагрева дугой                0         0.0\n",
       "Активная мощность                  0         0.0\n",
       "Реактивная мощность                0         0.0"
      ]
     },
     "metadata": {},
     "output_type": "display_data"
    },
    {
     "name": "stdout",
     "output_type": "stream",
     "text": [
      "\n",
      "Распределение значений\n"
     ]
    },
    {
     "data": {
      "text/html": [
       "<div>\n",
       "<style scoped>\n",
       "    .dataframe tbody tr th:only-of-type {\n",
       "        vertical-align: middle;\n",
       "    }\n",
       "\n",
       "    .dataframe tbody tr th {\n",
       "        vertical-align: top;\n",
       "    }\n",
       "\n",
       "    .dataframe thead th {\n",
       "        text-align: right;\n",
       "    }\n",
       "</style>\n",
       "<table border=\"1\" class=\"dataframe\">\n",
       "  <thead>\n",
       "    <tr style=\"text-align: right;\">\n",
       "      <th></th>\n",
       "      <th>key</th>\n",
       "      <th>Активная мощность</th>\n",
       "      <th>Реактивная мощность</th>\n",
       "    </tr>\n",
       "  </thead>\n",
       "  <tbody>\n",
       "    <tr>\n",
       "      <th>count</th>\n",
       "      <td>14876.000000</td>\n",
       "      <td>14876.000000</td>\n",
       "      <td>14876.000000</td>\n",
       "    </tr>\n",
       "    <tr>\n",
       "      <th>mean</th>\n",
       "      <td>1615.220422</td>\n",
       "      <td>0.670441</td>\n",
       "      <td>0.452592</td>\n",
       "    </tr>\n",
       "    <tr>\n",
       "      <th>std</th>\n",
       "      <td>934.571502</td>\n",
       "      <td>0.408159</td>\n",
       "      <td>5.878702</td>\n",
       "    </tr>\n",
       "    <tr>\n",
       "      <th>min</th>\n",
       "      <td>1.000000</td>\n",
       "      <td>0.030002</td>\n",
       "      <td>-715.504924</td>\n",
       "    </tr>\n",
       "    <tr>\n",
       "      <th>25%</th>\n",
       "      <td>806.000000</td>\n",
       "      <td>0.395297</td>\n",
       "      <td>0.290991</td>\n",
       "    </tr>\n",
       "    <tr>\n",
       "      <th>50%</th>\n",
       "      <td>1617.000000</td>\n",
       "      <td>0.555517</td>\n",
       "      <td>0.415962</td>\n",
       "    </tr>\n",
       "    <tr>\n",
       "      <th>75%</th>\n",
       "      <td>2429.000000</td>\n",
       "      <td>0.857034</td>\n",
       "      <td>0.637371</td>\n",
       "    </tr>\n",
       "    <tr>\n",
       "      <th>max</th>\n",
       "      <td>3241.000000</td>\n",
       "      <td>3.731596</td>\n",
       "      <td>2.676388</td>\n",
       "    </tr>\n",
       "  </tbody>\n",
       "</table>\n",
       "</div>"
      ],
      "text/plain": [
       "                key  Активная мощность  Реактивная мощность\n",
       "count  14876.000000       14876.000000         14876.000000\n",
       "mean    1615.220422           0.670441             0.452592\n",
       "std      934.571502           0.408159             5.878702\n",
       "min        1.000000           0.030002          -715.504924\n",
       "25%      806.000000           0.395297             0.290991\n",
       "50%     1617.000000           0.555517             0.415962\n",
       "75%     2429.000000           0.857034             0.637371\n",
       "max     3241.000000           3.731596             2.676388"
      ]
     },
     "metadata": {},
     "output_type": "display_data"
    }
   ],
   "source": [
    "analysis(data_arc)"
   ]
  },
  {
   "cell_type": "markdown",
   "metadata": {},
   "source": [
    "На данном этапе выбивается только наличие отрицательных значений реактивной мощности. Проверим как много таких значений:"
   ]
  },
  {
   "cell_type": "code",
   "execution_count": 5,
   "metadata": {},
   "outputs": [
    {
     "data": {
      "text/html": [
       "<div>\n",
       "<style scoped>\n",
       "    .dataframe tbody tr th:only-of-type {\n",
       "        vertical-align: middle;\n",
       "    }\n",
       "\n",
       "    .dataframe tbody tr th {\n",
       "        vertical-align: top;\n",
       "    }\n",
       "\n",
       "    .dataframe thead th {\n",
       "        text-align: right;\n",
       "    }\n",
       "</style>\n",
       "<table border=\"1\" class=\"dataframe\">\n",
       "  <thead>\n",
       "    <tr style=\"text-align: right;\">\n",
       "      <th></th>\n",
       "      <th>key</th>\n",
       "      <th>Начало нагрева дугой</th>\n",
       "      <th>Конец нагрева дугой</th>\n",
       "      <th>Активная мощность</th>\n",
       "      <th>Реактивная мощность</th>\n",
       "    </tr>\n",
       "  </thead>\n",
       "  <tbody>\n",
       "    <tr>\n",
       "      <th>9780</th>\n",
       "      <td>2116</td>\n",
       "      <td>2019-07-24 00:44:48</td>\n",
       "      <td>2019-07-24 00:46:37</td>\n",
       "      <td>0.495782</td>\n",
       "      <td>-715.504924</td>\n",
       "    </tr>\n",
       "  </tbody>\n",
       "</table>\n",
       "</div>"
      ],
      "text/plain": [
       "       key Начало нагрева дугой  Конец нагрева дугой  Активная мощность  \\\n",
       "9780  2116  2019-07-24 00:44:48  2019-07-24 00:46:37           0.495782   \n",
       "\n",
       "      Реактивная мощность  \n",
       "9780          -715.504924  "
      ]
     },
     "execution_count": 5,
     "metadata": {},
     "output_type": "execute_result"
    }
   ],
   "source": [
    "data_arc[data_arc['Реактивная мощность'] <= 0]"
   ]
  },
  {
   "cell_type": "code",
   "execution_count": 6,
   "metadata": {},
   "outputs": [
    {
     "data": {
      "text/html": [
       "<div>\n",
       "<style scoped>\n",
       "    .dataframe tbody tr th:only-of-type {\n",
       "        vertical-align: middle;\n",
       "    }\n",
       "\n",
       "    .dataframe tbody tr th {\n",
       "        vertical-align: top;\n",
       "    }\n",
       "\n",
       "    .dataframe thead th {\n",
       "        text-align: right;\n",
       "    }\n",
       "</style>\n",
       "<table border=\"1\" class=\"dataframe\">\n",
       "  <thead>\n",
       "    <tr style=\"text-align: right;\">\n",
       "      <th></th>\n",
       "      <th>key</th>\n",
       "      <th>Начало нагрева дугой</th>\n",
       "      <th>Конец нагрева дугой</th>\n",
       "      <th>Активная мощность</th>\n",
       "      <th>Реактивная мощность</th>\n",
       "    </tr>\n",
       "  </thead>\n",
       "  <tbody>\n",
       "    <tr>\n",
       "      <th>9778</th>\n",
       "      <td>2116</td>\n",
       "      <td>2019-07-24 00:29:52</td>\n",
       "      <td>2019-07-24 00:31:54</td>\n",
       "      <td>0.433266</td>\n",
       "      <td>0.306141</td>\n",
       "    </tr>\n",
       "    <tr>\n",
       "      <th>9779</th>\n",
       "      <td>2116</td>\n",
       "      <td>2019-07-24 00:35:50</td>\n",
       "      <td>2019-07-24 00:38:05</td>\n",
       "      <td>0.620265</td>\n",
       "      <td>0.408352</td>\n",
       "    </tr>\n",
       "    <tr>\n",
       "      <th>9780</th>\n",
       "      <td>2116</td>\n",
       "      <td>2019-07-24 00:44:48</td>\n",
       "      <td>2019-07-24 00:46:37</td>\n",
       "      <td>0.495782</td>\n",
       "      <td>-715.504924</td>\n",
       "    </tr>\n",
       "    <tr>\n",
       "      <th>9781</th>\n",
       "      <td>2116</td>\n",
       "      <td>2019-07-24 00:51:51</td>\n",
       "      <td>2019-07-24 00:52:58</td>\n",
       "      <td>0.299368</td>\n",
       "      <td>0.198796</td>\n",
       "    </tr>\n",
       "  </tbody>\n",
       "</table>\n",
       "</div>"
      ],
      "text/plain": [
       "       key Начало нагрева дугой  Конец нагрева дугой  Активная мощность  \\\n",
       "9778  2116  2019-07-24 00:29:52  2019-07-24 00:31:54           0.433266   \n",
       "9779  2116  2019-07-24 00:35:50  2019-07-24 00:38:05           0.620265   \n",
       "9780  2116  2019-07-24 00:44:48  2019-07-24 00:46:37           0.495782   \n",
       "9781  2116  2019-07-24 00:51:51  2019-07-24 00:52:58           0.299368   \n",
       "\n",
       "      Реактивная мощность  \n",
       "9778             0.306141  \n",
       "9779             0.408352  \n",
       "9780          -715.504924  \n",
       "9781             0.198796  "
      ]
     },
     "execution_count": 6,
     "metadata": {},
     "output_type": "execute_result"
    }
   ],
   "source": [
    "data_arc[data_arc['key'] == 2116]"
   ]
  },
  {
   "cell_type": "markdown",
   "metadata": {},
   "source": [
    "Это похоже на ошибку измерительных приборов. Предлагаю вычислить данное значение пропорцией с помощью соседних измерений."
   ]
  },
  {
   "cell_type": "code",
   "execution_count": 7,
   "metadata": {},
   "outputs": [],
   "source": [
    " data_arc = data_arc.replace(\n",
    "    data_arc['Реактивная мощность'][9780],\n",
    "    data_arc['Реактивная мощность'][9781] * data_arc['Активная мощность'][9780] / data_arc['Активная мощность'][9781]\n",
    ")"
   ]
  },
  {
   "cell_type": "code",
   "execution_count": 8,
   "metadata": {},
   "outputs": [
    {
     "data": {
      "text/html": [
       "<div>\n",
       "<style scoped>\n",
       "    .dataframe tbody tr th:only-of-type {\n",
       "        vertical-align: middle;\n",
       "    }\n",
       "\n",
       "    .dataframe tbody tr th {\n",
       "        vertical-align: top;\n",
       "    }\n",
       "\n",
       "    .dataframe thead th {\n",
       "        text-align: right;\n",
       "    }\n",
       "</style>\n",
       "<table border=\"1\" class=\"dataframe\">\n",
       "  <thead>\n",
       "    <tr style=\"text-align: right;\">\n",
       "      <th></th>\n",
       "      <th>key</th>\n",
       "      <th>Начало нагрева дугой</th>\n",
       "      <th>Конец нагрева дугой</th>\n",
       "      <th>Активная мощность</th>\n",
       "      <th>Реактивная мощность</th>\n",
       "    </tr>\n",
       "  </thead>\n",
       "  <tbody>\n",
       "    <tr>\n",
       "      <th>9778</th>\n",
       "      <td>2116</td>\n",
       "      <td>2019-07-24 00:29:52</td>\n",
       "      <td>2019-07-24 00:31:54</td>\n",
       "      <td>0.433266</td>\n",
       "      <td>0.306141</td>\n",
       "    </tr>\n",
       "    <tr>\n",
       "      <th>9779</th>\n",
       "      <td>2116</td>\n",
       "      <td>2019-07-24 00:35:50</td>\n",
       "      <td>2019-07-24 00:38:05</td>\n",
       "      <td>0.620265</td>\n",
       "      <td>0.408352</td>\n",
       "    </tr>\n",
       "    <tr>\n",
       "      <th>9780</th>\n",
       "      <td>2116</td>\n",
       "      <td>2019-07-24 00:44:48</td>\n",
       "      <td>2019-07-24 00:46:37</td>\n",
       "      <td>0.495782</td>\n",
       "      <td>0.329225</td>\n",
       "    </tr>\n",
       "    <tr>\n",
       "      <th>9781</th>\n",
       "      <td>2116</td>\n",
       "      <td>2019-07-24 00:51:51</td>\n",
       "      <td>2019-07-24 00:52:58</td>\n",
       "      <td>0.299368</td>\n",
       "      <td>0.198796</td>\n",
       "    </tr>\n",
       "  </tbody>\n",
       "</table>\n",
       "</div>"
      ],
      "text/plain": [
       "       key Начало нагрева дугой  Конец нагрева дугой  Активная мощность  \\\n",
       "9778  2116  2019-07-24 00:29:52  2019-07-24 00:31:54           0.433266   \n",
       "9779  2116  2019-07-24 00:35:50  2019-07-24 00:38:05           0.620265   \n",
       "9780  2116  2019-07-24 00:44:48  2019-07-24 00:46:37           0.495782   \n",
       "9781  2116  2019-07-24 00:51:51  2019-07-24 00:52:58           0.299368   \n",
       "\n",
       "      Реактивная мощность  \n",
       "9778             0.306141  \n",
       "9779             0.408352  \n",
       "9780             0.329225  \n",
       "9781             0.198796  "
      ]
     },
     "execution_count": 8,
     "metadata": {},
     "output_type": "execute_result"
    }
   ],
   "source": [
    "data_arc[data_arc['key'] == 2116]"
   ]
  },
  {
   "cell_type": "markdown",
   "metadata": {},
   "source": [
    "Посмотрим, различается ли число включений электродов между партиями."
   ]
  },
  {
   "cell_type": "code",
   "execution_count": 9,
   "metadata": {},
   "outputs": [
    {
     "data": {
      "text/plain": [
       "2108    16\n",
       "1689    15\n",
       "1513    15\n",
       "2567    14\n",
       "46      13\n",
       "        ..\n",
       "977      1\n",
       "247      1\n",
       "2582     1\n",
       "248      1\n",
       "530      1\n",
       "Name: key, Length: 3214, dtype: int64"
      ]
     },
     "execution_count": 9,
     "metadata": {},
     "output_type": "execute_result"
    }
   ],
   "source": [
    "data_arc['key'].value_counts()"
   ]
  },
  {
   "cell_type": "markdown",
   "metadata": {},
   "source": [
    "Возможно, данное различие можно будет использовать как один из признаков при обучении модели. Также, теоретически, из данной таблицы можно будет \"достать\" для каждой партии суммарное время нагрева, суммарные активную и реактивную мощности. Судя по информации из общедоступных источников (например, https://khomovelectro.ru/articles/aktivnaya-reaktivnaya-i-polnaya-kazhushchayasya-moshchnosti.html) можно дополнительно посчитать ещё и полную мощность."
   ]
  },
  {
   "cell_type": "markdown",
   "metadata": {},
   "source": [
    "### Данные о подаче сыпучих материалов (объём)."
   ]
  },
  {
   "cell_type": "code",
   "execution_count": 10,
   "metadata": {
    "scrolled": true
   },
   "outputs": [
    {
     "data": {
      "text/html": [
       "<div>\n",
       "<style scoped>\n",
       "    .dataframe tbody tr th:only-of-type {\n",
       "        vertical-align: middle;\n",
       "    }\n",
       "\n",
       "    .dataframe tbody tr th {\n",
       "        vertical-align: top;\n",
       "    }\n",
       "\n",
       "    .dataframe thead th {\n",
       "        text-align: right;\n",
       "    }\n",
       "</style>\n",
       "<table border=\"1\" class=\"dataframe\">\n",
       "  <thead>\n",
       "    <tr style=\"text-align: right;\">\n",
       "      <th></th>\n",
       "      <th>key</th>\n",
       "      <th>Bulk 1</th>\n",
       "      <th>Bulk 2</th>\n",
       "      <th>Bulk 3</th>\n",
       "      <th>Bulk 4</th>\n",
       "      <th>Bulk 5</th>\n",
       "      <th>Bulk 6</th>\n",
       "      <th>Bulk 7</th>\n",
       "      <th>Bulk 8</th>\n",
       "      <th>Bulk 9</th>\n",
       "      <th>Bulk 10</th>\n",
       "      <th>Bulk 11</th>\n",
       "      <th>Bulk 12</th>\n",
       "      <th>Bulk 13</th>\n",
       "      <th>Bulk 14</th>\n",
       "      <th>Bulk 15</th>\n",
       "    </tr>\n",
       "  </thead>\n",
       "  <tbody>\n",
       "    <tr>\n",
       "      <th>0</th>\n",
       "      <td>1</td>\n",
       "      <td>NaN</td>\n",
       "      <td>NaN</td>\n",
       "      <td>NaN</td>\n",
       "      <td>43.0</td>\n",
       "      <td>NaN</td>\n",
       "      <td>NaN</td>\n",
       "      <td>NaN</td>\n",
       "      <td>NaN</td>\n",
       "      <td>NaN</td>\n",
       "      <td>NaN</td>\n",
       "      <td>NaN</td>\n",
       "      <td>206.0</td>\n",
       "      <td>NaN</td>\n",
       "      <td>150.0</td>\n",
       "      <td>154.0</td>\n",
       "    </tr>\n",
       "    <tr>\n",
       "      <th>1</th>\n",
       "      <td>2</td>\n",
       "      <td>NaN</td>\n",
       "      <td>NaN</td>\n",
       "      <td>NaN</td>\n",
       "      <td>73.0</td>\n",
       "      <td>NaN</td>\n",
       "      <td>NaN</td>\n",
       "      <td>NaN</td>\n",
       "      <td>NaN</td>\n",
       "      <td>NaN</td>\n",
       "      <td>NaN</td>\n",
       "      <td>NaN</td>\n",
       "      <td>206.0</td>\n",
       "      <td>NaN</td>\n",
       "      <td>149.0</td>\n",
       "      <td>154.0</td>\n",
       "    </tr>\n",
       "    <tr>\n",
       "      <th>2</th>\n",
       "      <td>3</td>\n",
       "      <td>NaN</td>\n",
       "      <td>NaN</td>\n",
       "      <td>NaN</td>\n",
       "      <td>34.0</td>\n",
       "      <td>NaN</td>\n",
       "      <td>NaN</td>\n",
       "      <td>NaN</td>\n",
       "      <td>NaN</td>\n",
       "      <td>NaN</td>\n",
       "      <td>NaN</td>\n",
       "      <td>NaN</td>\n",
       "      <td>205.0</td>\n",
       "      <td>NaN</td>\n",
       "      <td>152.0</td>\n",
       "      <td>153.0</td>\n",
       "    </tr>\n",
       "    <tr>\n",
       "      <th>3</th>\n",
       "      <td>4</td>\n",
       "      <td>NaN</td>\n",
       "      <td>NaN</td>\n",
       "      <td>NaN</td>\n",
       "      <td>81.0</td>\n",
       "      <td>NaN</td>\n",
       "      <td>NaN</td>\n",
       "      <td>NaN</td>\n",
       "      <td>NaN</td>\n",
       "      <td>NaN</td>\n",
       "      <td>NaN</td>\n",
       "      <td>NaN</td>\n",
       "      <td>207.0</td>\n",
       "      <td>NaN</td>\n",
       "      <td>153.0</td>\n",
       "      <td>154.0</td>\n",
       "    </tr>\n",
       "    <tr>\n",
       "      <th>4</th>\n",
       "      <td>5</td>\n",
       "      <td>NaN</td>\n",
       "      <td>NaN</td>\n",
       "      <td>NaN</td>\n",
       "      <td>78.0</td>\n",
       "      <td>NaN</td>\n",
       "      <td>NaN</td>\n",
       "      <td>NaN</td>\n",
       "      <td>NaN</td>\n",
       "      <td>NaN</td>\n",
       "      <td>NaN</td>\n",
       "      <td>NaN</td>\n",
       "      <td>203.0</td>\n",
       "      <td>NaN</td>\n",
       "      <td>151.0</td>\n",
       "      <td>152.0</td>\n",
       "    </tr>\n",
       "  </tbody>\n",
       "</table>\n",
       "</div>"
      ],
      "text/plain": [
       "   key  Bulk 1  Bulk 2  Bulk 3  Bulk 4  Bulk 5  Bulk 6  Bulk 7  Bulk 8  \\\n",
       "0    1     NaN     NaN     NaN    43.0     NaN     NaN     NaN     NaN   \n",
       "1    2     NaN     NaN     NaN    73.0     NaN     NaN     NaN     NaN   \n",
       "2    3     NaN     NaN     NaN    34.0     NaN     NaN     NaN     NaN   \n",
       "3    4     NaN     NaN     NaN    81.0     NaN     NaN     NaN     NaN   \n",
       "4    5     NaN     NaN     NaN    78.0     NaN     NaN     NaN     NaN   \n",
       "\n",
       "   Bulk 9  Bulk 10  Bulk 11  Bulk 12  Bulk 13  Bulk 14  Bulk 15  \n",
       "0     NaN      NaN      NaN    206.0      NaN    150.0    154.0  \n",
       "1     NaN      NaN      NaN    206.0      NaN    149.0    154.0  \n",
       "2     NaN      NaN      NaN    205.0      NaN    152.0    153.0  \n",
       "3     NaN      NaN      NaN    207.0      NaN    153.0    154.0  \n",
       "4     NaN      NaN      NaN    203.0      NaN    151.0    152.0  "
      ]
     },
     "metadata": {},
     "output_type": "display_data"
    },
    {
     "name": "stdout",
     "output_type": "stream",
     "text": [
      "\n",
      "Сводная информация по таблице\n",
      "\n",
      "<class 'pandas.core.frame.DataFrame'>\n",
      "RangeIndex: 3129 entries, 0 to 3128\n",
      "Data columns (total 16 columns):\n",
      " #   Column   Non-Null Count  Dtype  \n",
      "---  ------   --------------  -----  \n",
      " 0   key      3129 non-null   int64  \n",
      " 1   Bulk 1   252 non-null    float64\n",
      " 2   Bulk 2   22 non-null     float64\n",
      " 3   Bulk 3   1298 non-null   float64\n",
      " 4   Bulk 4   1014 non-null   float64\n",
      " 5   Bulk 5   77 non-null     float64\n",
      " 6   Bulk 6   576 non-null    float64\n",
      " 7   Bulk 7   25 non-null     float64\n",
      " 8   Bulk 8   1 non-null      float64\n",
      " 9   Bulk 9   19 non-null     float64\n",
      " 10  Bulk 10  176 non-null    float64\n",
      " 11  Bulk 11  177 non-null    float64\n",
      " 12  Bulk 12  2450 non-null   float64\n",
      " 13  Bulk 13  18 non-null     float64\n",
      " 14  Bulk 14  2806 non-null   float64\n",
      " 15  Bulk 15  2248 non-null   float64\n",
      "dtypes: float64(15), int64(1)\n",
      "memory usage: 391.2 KB\n"
     ]
    },
    {
     "data": {
      "text/plain": [
       "None"
      ]
     },
     "metadata": {},
     "output_type": "display_data"
    },
    {
     "name": "stdout",
     "output_type": "stream",
     "text": [
      "\n",
      "Количество пропущенных значений\n"
     ]
    },
    {
     "data": {
      "text/html": [
       "<div>\n",
       "<style scoped>\n",
       "    .dataframe tbody tr th:only-of-type {\n",
       "        vertical-align: middle;\n",
       "    }\n",
       "\n",
       "    .dataframe tbody tr th {\n",
       "        vertical-align: top;\n",
       "    }\n",
       "\n",
       "    .dataframe thead th {\n",
       "        text-align: right;\n",
       "    }\n",
       "</style>\n",
       "<table border=\"1\" class=\"dataframe\">\n",
       "  <thead>\n",
       "    <tr style=\"text-align: right;\">\n",
       "      <th></th>\n",
       "      <th>missing_values</th>\n",
       "      <th>% of total</th>\n",
       "    </tr>\n",
       "  </thead>\n",
       "  <tbody>\n",
       "    <tr>\n",
       "      <th>Bulk 8</th>\n",
       "      <td>3128</td>\n",
       "      <td>99.97</td>\n",
       "    </tr>\n",
       "    <tr>\n",
       "      <th>Bulk 13</th>\n",
       "      <td>3111</td>\n",
       "      <td>99.42</td>\n",
       "    </tr>\n",
       "    <tr>\n",
       "      <th>Bulk 9</th>\n",
       "      <td>3110</td>\n",
       "      <td>99.39</td>\n",
       "    </tr>\n",
       "    <tr>\n",
       "      <th>Bulk 2</th>\n",
       "      <td>3107</td>\n",
       "      <td>99.30</td>\n",
       "    </tr>\n",
       "    <tr>\n",
       "      <th>Bulk 7</th>\n",
       "      <td>3104</td>\n",
       "      <td>99.20</td>\n",
       "    </tr>\n",
       "    <tr>\n",
       "      <th>Bulk 5</th>\n",
       "      <td>3052</td>\n",
       "      <td>97.54</td>\n",
       "    </tr>\n",
       "    <tr>\n",
       "      <th>Bulk 10</th>\n",
       "      <td>2953</td>\n",
       "      <td>94.38</td>\n",
       "    </tr>\n",
       "    <tr>\n",
       "      <th>Bulk 11</th>\n",
       "      <td>2952</td>\n",
       "      <td>94.34</td>\n",
       "    </tr>\n",
       "    <tr>\n",
       "      <th>Bulk 1</th>\n",
       "      <td>2877</td>\n",
       "      <td>91.95</td>\n",
       "    </tr>\n",
       "    <tr>\n",
       "      <th>Bulk 6</th>\n",
       "      <td>2553</td>\n",
       "      <td>81.59</td>\n",
       "    </tr>\n",
       "    <tr>\n",
       "      <th>Bulk 4</th>\n",
       "      <td>2115</td>\n",
       "      <td>67.59</td>\n",
       "    </tr>\n",
       "    <tr>\n",
       "      <th>Bulk 3</th>\n",
       "      <td>1831</td>\n",
       "      <td>58.52</td>\n",
       "    </tr>\n",
       "    <tr>\n",
       "      <th>Bulk 15</th>\n",
       "      <td>881</td>\n",
       "      <td>28.16</td>\n",
       "    </tr>\n",
       "    <tr>\n",
       "      <th>Bulk 12</th>\n",
       "      <td>679</td>\n",
       "      <td>21.70</td>\n",
       "    </tr>\n",
       "    <tr>\n",
       "      <th>Bulk 14</th>\n",
       "      <td>323</td>\n",
       "      <td>10.32</td>\n",
       "    </tr>\n",
       "    <tr>\n",
       "      <th>key</th>\n",
       "      <td>0</td>\n",
       "      <td>0.00</td>\n",
       "    </tr>\n",
       "  </tbody>\n",
       "</table>\n",
       "</div>"
      ],
      "text/plain": [
       "         missing_values  % of total\n",
       "Bulk 8             3128       99.97\n",
       "Bulk 13            3111       99.42\n",
       "Bulk 9             3110       99.39\n",
       "Bulk 2             3107       99.30\n",
       "Bulk 7             3104       99.20\n",
       "Bulk 5             3052       97.54\n",
       "Bulk 10            2953       94.38\n",
       "Bulk 11            2952       94.34\n",
       "Bulk 1             2877       91.95\n",
       "Bulk 6             2553       81.59\n",
       "Bulk 4             2115       67.59\n",
       "Bulk 3             1831       58.52\n",
       "Bulk 15             881       28.16\n",
       "Bulk 12             679       21.70\n",
       "Bulk 14             323       10.32\n",
       "key                   0        0.00"
      ]
     },
     "metadata": {},
     "output_type": "display_data"
    },
    {
     "name": "stdout",
     "output_type": "stream",
     "text": [
      "\n",
      "Распределение значений\n"
     ]
    },
    {
     "data": {
      "text/html": [
       "<div>\n",
       "<style scoped>\n",
       "    .dataframe tbody tr th:only-of-type {\n",
       "        vertical-align: middle;\n",
       "    }\n",
       "\n",
       "    .dataframe tbody tr th {\n",
       "        vertical-align: top;\n",
       "    }\n",
       "\n",
       "    .dataframe thead th {\n",
       "        text-align: right;\n",
       "    }\n",
       "</style>\n",
       "<table border=\"1\" class=\"dataframe\">\n",
       "  <thead>\n",
       "    <tr style=\"text-align: right;\">\n",
       "      <th></th>\n",
       "      <th>key</th>\n",
       "      <th>Bulk 1</th>\n",
       "      <th>Bulk 2</th>\n",
       "      <th>Bulk 3</th>\n",
       "      <th>Bulk 4</th>\n",
       "      <th>Bulk 5</th>\n",
       "      <th>Bulk 6</th>\n",
       "      <th>Bulk 7</th>\n",
       "      <th>Bulk 8</th>\n",
       "      <th>Bulk 9</th>\n",
       "      <th>Bulk 10</th>\n",
       "      <th>Bulk 11</th>\n",
       "      <th>Bulk 12</th>\n",
       "      <th>Bulk 13</th>\n",
       "      <th>Bulk 14</th>\n",
       "      <th>Bulk 15</th>\n",
       "    </tr>\n",
       "  </thead>\n",
       "  <tbody>\n",
       "    <tr>\n",
       "      <th>count</th>\n",
       "      <td>3129.000000</td>\n",
       "      <td>252.000000</td>\n",
       "      <td>22.000000</td>\n",
       "      <td>1298.000000</td>\n",
       "      <td>1014.000000</td>\n",
       "      <td>77.000000</td>\n",
       "      <td>576.000000</td>\n",
       "      <td>25.000000</td>\n",
       "      <td>1.0</td>\n",
       "      <td>19.000000</td>\n",
       "      <td>176.000000</td>\n",
       "      <td>177.000000</td>\n",
       "      <td>2450.000000</td>\n",
       "      <td>18.000000</td>\n",
       "      <td>2806.000000</td>\n",
       "      <td>2248.000000</td>\n",
       "    </tr>\n",
       "    <tr>\n",
       "      <th>mean</th>\n",
       "      <td>1624.383509</td>\n",
       "      <td>39.242063</td>\n",
       "      <td>253.045455</td>\n",
       "      <td>113.879045</td>\n",
       "      <td>104.394477</td>\n",
       "      <td>107.025974</td>\n",
       "      <td>118.925347</td>\n",
       "      <td>305.600000</td>\n",
       "      <td>49.0</td>\n",
       "      <td>76.315789</td>\n",
       "      <td>83.284091</td>\n",
       "      <td>76.819209</td>\n",
       "      <td>260.471020</td>\n",
       "      <td>181.111111</td>\n",
       "      <td>170.284747</td>\n",
       "      <td>160.513345</td>\n",
       "    </tr>\n",
       "    <tr>\n",
       "      <th>std</th>\n",
       "      <td>933.337642</td>\n",
       "      <td>18.277654</td>\n",
       "      <td>21.180578</td>\n",
       "      <td>75.483494</td>\n",
       "      <td>48.184126</td>\n",
       "      <td>81.790646</td>\n",
       "      <td>72.057776</td>\n",
       "      <td>191.022904</td>\n",
       "      <td>NaN</td>\n",
       "      <td>21.720581</td>\n",
       "      <td>26.060347</td>\n",
       "      <td>59.655365</td>\n",
       "      <td>120.649269</td>\n",
       "      <td>46.088009</td>\n",
       "      <td>65.868652</td>\n",
       "      <td>51.765319</td>\n",
       "    </tr>\n",
       "    <tr>\n",
       "      <th>min</th>\n",
       "      <td>1.000000</td>\n",
       "      <td>10.000000</td>\n",
       "      <td>228.000000</td>\n",
       "      <td>6.000000</td>\n",
       "      <td>12.000000</td>\n",
       "      <td>11.000000</td>\n",
       "      <td>17.000000</td>\n",
       "      <td>47.000000</td>\n",
       "      <td>49.0</td>\n",
       "      <td>63.000000</td>\n",
       "      <td>24.000000</td>\n",
       "      <td>8.000000</td>\n",
       "      <td>53.000000</td>\n",
       "      <td>151.000000</td>\n",
       "      <td>16.000000</td>\n",
       "      <td>1.000000</td>\n",
       "    </tr>\n",
       "    <tr>\n",
       "      <th>25%</th>\n",
       "      <td>816.000000</td>\n",
       "      <td>27.000000</td>\n",
       "      <td>242.000000</td>\n",
       "      <td>58.000000</td>\n",
       "      <td>72.000000</td>\n",
       "      <td>70.000000</td>\n",
       "      <td>69.750000</td>\n",
       "      <td>155.000000</td>\n",
       "      <td>49.0</td>\n",
       "      <td>66.000000</td>\n",
       "      <td>64.000000</td>\n",
       "      <td>25.000000</td>\n",
       "      <td>204.000000</td>\n",
       "      <td>153.250000</td>\n",
       "      <td>119.000000</td>\n",
       "      <td>105.000000</td>\n",
       "    </tr>\n",
       "    <tr>\n",
       "      <th>50%</th>\n",
       "      <td>1622.000000</td>\n",
       "      <td>31.000000</td>\n",
       "      <td>251.500000</td>\n",
       "      <td>97.500000</td>\n",
       "      <td>102.000000</td>\n",
       "      <td>86.000000</td>\n",
       "      <td>100.000000</td>\n",
       "      <td>298.000000</td>\n",
       "      <td>49.0</td>\n",
       "      <td>68.000000</td>\n",
       "      <td>86.500000</td>\n",
       "      <td>64.000000</td>\n",
       "      <td>208.000000</td>\n",
       "      <td>155.500000</td>\n",
       "      <td>151.000000</td>\n",
       "      <td>160.000000</td>\n",
       "    </tr>\n",
       "    <tr>\n",
       "      <th>75%</th>\n",
       "      <td>2431.000000</td>\n",
       "      <td>46.000000</td>\n",
       "      <td>257.750000</td>\n",
       "      <td>152.000000</td>\n",
       "      <td>133.000000</td>\n",
       "      <td>132.000000</td>\n",
       "      <td>157.000000</td>\n",
       "      <td>406.000000</td>\n",
       "      <td>49.0</td>\n",
       "      <td>70.500000</td>\n",
       "      <td>102.000000</td>\n",
       "      <td>106.000000</td>\n",
       "      <td>316.000000</td>\n",
       "      <td>203.500000</td>\n",
       "      <td>205.750000</td>\n",
       "      <td>205.000000</td>\n",
       "    </tr>\n",
       "    <tr>\n",
       "      <th>max</th>\n",
       "      <td>3241.000000</td>\n",
       "      <td>185.000000</td>\n",
       "      <td>325.000000</td>\n",
       "      <td>454.000000</td>\n",
       "      <td>281.000000</td>\n",
       "      <td>603.000000</td>\n",
       "      <td>503.000000</td>\n",
       "      <td>772.000000</td>\n",
       "      <td>49.0</td>\n",
       "      <td>147.000000</td>\n",
       "      <td>159.000000</td>\n",
       "      <td>313.000000</td>\n",
       "      <td>1849.000000</td>\n",
       "      <td>305.000000</td>\n",
       "      <td>636.000000</td>\n",
       "      <td>405.000000</td>\n",
       "    </tr>\n",
       "  </tbody>\n",
       "</table>\n",
       "</div>"
      ],
      "text/plain": [
       "               key      Bulk 1      Bulk 2       Bulk 3       Bulk 4  \\\n",
       "count  3129.000000  252.000000   22.000000  1298.000000  1014.000000   \n",
       "mean   1624.383509   39.242063  253.045455   113.879045   104.394477   \n",
       "std     933.337642   18.277654   21.180578    75.483494    48.184126   \n",
       "min       1.000000   10.000000  228.000000     6.000000    12.000000   \n",
       "25%     816.000000   27.000000  242.000000    58.000000    72.000000   \n",
       "50%    1622.000000   31.000000  251.500000    97.500000   102.000000   \n",
       "75%    2431.000000   46.000000  257.750000   152.000000   133.000000   \n",
       "max    3241.000000  185.000000  325.000000   454.000000   281.000000   \n",
       "\n",
       "           Bulk 5      Bulk 6      Bulk 7  Bulk 8      Bulk 9     Bulk 10  \\\n",
       "count   77.000000  576.000000   25.000000     1.0   19.000000  176.000000   \n",
       "mean   107.025974  118.925347  305.600000    49.0   76.315789   83.284091   \n",
       "std     81.790646   72.057776  191.022904     NaN   21.720581   26.060347   \n",
       "min     11.000000   17.000000   47.000000    49.0   63.000000   24.000000   \n",
       "25%     70.000000   69.750000  155.000000    49.0   66.000000   64.000000   \n",
       "50%     86.000000  100.000000  298.000000    49.0   68.000000   86.500000   \n",
       "75%    132.000000  157.000000  406.000000    49.0   70.500000  102.000000   \n",
       "max    603.000000  503.000000  772.000000    49.0  147.000000  159.000000   \n",
       "\n",
       "          Bulk 11      Bulk 12     Bulk 13      Bulk 14      Bulk 15  \n",
       "count  177.000000  2450.000000   18.000000  2806.000000  2248.000000  \n",
       "mean    76.819209   260.471020  181.111111   170.284747   160.513345  \n",
       "std     59.655365   120.649269   46.088009    65.868652    51.765319  \n",
       "min      8.000000    53.000000  151.000000    16.000000     1.000000  \n",
       "25%     25.000000   204.000000  153.250000   119.000000   105.000000  \n",
       "50%     64.000000   208.000000  155.500000   151.000000   160.000000  \n",
       "75%    106.000000   316.000000  203.500000   205.750000   205.000000  \n",
       "max    313.000000  1849.000000  305.000000   636.000000   405.000000  "
      ]
     },
     "metadata": {},
     "output_type": "display_data"
    }
   ],
   "source": [
    "analysis(data_bulk)"
   ]
  },
  {
   "cell_type": "markdown",
   "metadata": {},
   "source": [
    "Из тех. задания можно понять, что в столбцах Bulk 1-15 указан объём легирующих добавок, добавляемых на определённой стадии. Пропуски означают, что добавка не использовалась при производстве партии. Являются эти данные разными объёмами одного компонента, загруженного в определённый момент времени, или все они различаются по составу, установить не удалось. Возможно, для обучения можно попробовать использовать как все по тодельности, так и сумму компонентов."
   ]
  },
  {
   "cell_type": "markdown",
   "metadata": {},
   "source": [
    "### Данные о подаче сыпучих материалов (время)."
   ]
  },
  {
   "cell_type": "code",
   "execution_count": 11,
   "metadata": {
    "scrolled": true
   },
   "outputs": [
    {
     "data": {
      "text/html": [
       "<div>\n",
       "<style scoped>\n",
       "    .dataframe tbody tr th:only-of-type {\n",
       "        vertical-align: middle;\n",
       "    }\n",
       "\n",
       "    .dataframe tbody tr th {\n",
       "        vertical-align: top;\n",
       "    }\n",
       "\n",
       "    .dataframe thead th {\n",
       "        text-align: right;\n",
       "    }\n",
       "</style>\n",
       "<table border=\"1\" class=\"dataframe\">\n",
       "  <thead>\n",
       "    <tr style=\"text-align: right;\">\n",
       "      <th></th>\n",
       "      <th>key</th>\n",
       "      <th>Bulk 1</th>\n",
       "      <th>Bulk 2</th>\n",
       "      <th>Bulk 3</th>\n",
       "      <th>Bulk 4</th>\n",
       "      <th>Bulk 5</th>\n",
       "      <th>Bulk 6</th>\n",
       "      <th>Bulk 7</th>\n",
       "      <th>Bulk 8</th>\n",
       "      <th>Bulk 9</th>\n",
       "      <th>Bulk 10</th>\n",
       "      <th>Bulk 11</th>\n",
       "      <th>Bulk 12</th>\n",
       "      <th>Bulk 13</th>\n",
       "      <th>Bulk 14</th>\n",
       "      <th>Bulk 15</th>\n",
       "    </tr>\n",
       "  </thead>\n",
       "  <tbody>\n",
       "    <tr>\n",
       "      <th>0</th>\n",
       "      <td>1</td>\n",
       "      <td>NaN</td>\n",
       "      <td>NaN</td>\n",
       "      <td>NaN</td>\n",
       "      <td>2019-05-03 11:21:30</td>\n",
       "      <td>NaN</td>\n",
       "      <td>NaN</td>\n",
       "      <td>NaN</td>\n",
       "      <td>NaN</td>\n",
       "      <td>NaN</td>\n",
       "      <td>NaN</td>\n",
       "      <td>NaN</td>\n",
       "      <td>2019-05-03 11:03:52</td>\n",
       "      <td>NaN</td>\n",
       "      <td>2019-05-03 11:03:52</td>\n",
       "      <td>2019-05-03 11:03:52</td>\n",
       "    </tr>\n",
       "    <tr>\n",
       "      <th>1</th>\n",
       "      <td>2</td>\n",
       "      <td>NaN</td>\n",
       "      <td>NaN</td>\n",
       "      <td>NaN</td>\n",
       "      <td>2019-05-03 11:46:38</td>\n",
       "      <td>NaN</td>\n",
       "      <td>NaN</td>\n",
       "      <td>NaN</td>\n",
       "      <td>NaN</td>\n",
       "      <td>NaN</td>\n",
       "      <td>NaN</td>\n",
       "      <td>NaN</td>\n",
       "      <td>2019-05-03 11:40:20</td>\n",
       "      <td>NaN</td>\n",
       "      <td>2019-05-03 11:40:20</td>\n",
       "      <td>2019-05-03 11:40:20</td>\n",
       "    </tr>\n",
       "    <tr>\n",
       "      <th>2</th>\n",
       "      <td>3</td>\n",
       "      <td>NaN</td>\n",
       "      <td>NaN</td>\n",
       "      <td>NaN</td>\n",
       "      <td>2019-05-03 12:31:06</td>\n",
       "      <td>NaN</td>\n",
       "      <td>NaN</td>\n",
       "      <td>NaN</td>\n",
       "      <td>NaN</td>\n",
       "      <td>NaN</td>\n",
       "      <td>NaN</td>\n",
       "      <td>NaN</td>\n",
       "      <td>2019-05-03 12:09:40</td>\n",
       "      <td>NaN</td>\n",
       "      <td>2019-05-03 12:09:40</td>\n",
       "      <td>2019-05-03 12:09:40</td>\n",
       "    </tr>\n",
       "    <tr>\n",
       "      <th>3</th>\n",
       "      <td>4</td>\n",
       "      <td>NaN</td>\n",
       "      <td>NaN</td>\n",
       "      <td>NaN</td>\n",
       "      <td>2019-05-03 12:48:43</td>\n",
       "      <td>NaN</td>\n",
       "      <td>NaN</td>\n",
       "      <td>NaN</td>\n",
       "      <td>NaN</td>\n",
       "      <td>NaN</td>\n",
       "      <td>NaN</td>\n",
       "      <td>NaN</td>\n",
       "      <td>2019-05-03 12:41:24</td>\n",
       "      <td>NaN</td>\n",
       "      <td>2019-05-03 12:41:24</td>\n",
       "      <td>2019-05-03 12:41:24</td>\n",
       "    </tr>\n",
       "    <tr>\n",
       "      <th>4</th>\n",
       "      <td>5</td>\n",
       "      <td>NaN</td>\n",
       "      <td>NaN</td>\n",
       "      <td>NaN</td>\n",
       "      <td>2019-05-03 13:18:50</td>\n",
       "      <td>NaN</td>\n",
       "      <td>NaN</td>\n",
       "      <td>NaN</td>\n",
       "      <td>NaN</td>\n",
       "      <td>NaN</td>\n",
       "      <td>NaN</td>\n",
       "      <td>NaN</td>\n",
       "      <td>2019-05-03 13:12:56</td>\n",
       "      <td>NaN</td>\n",
       "      <td>2019-05-03 13:12:56</td>\n",
       "      <td>2019-05-03 13:12:56</td>\n",
       "    </tr>\n",
       "  </tbody>\n",
       "</table>\n",
       "</div>"
      ],
      "text/plain": [
       "   key Bulk 1 Bulk 2 Bulk 3               Bulk 4 Bulk 5 Bulk 6 Bulk 7 Bulk 8  \\\n",
       "0    1    NaN    NaN    NaN  2019-05-03 11:21:30    NaN    NaN    NaN    NaN   \n",
       "1    2    NaN    NaN    NaN  2019-05-03 11:46:38    NaN    NaN    NaN    NaN   \n",
       "2    3    NaN    NaN    NaN  2019-05-03 12:31:06    NaN    NaN    NaN    NaN   \n",
       "3    4    NaN    NaN    NaN  2019-05-03 12:48:43    NaN    NaN    NaN    NaN   \n",
       "4    5    NaN    NaN    NaN  2019-05-03 13:18:50    NaN    NaN    NaN    NaN   \n",
       "\n",
       "  Bulk 9 Bulk 10 Bulk 11              Bulk 12 Bulk 13              Bulk 14  \\\n",
       "0    NaN     NaN     NaN  2019-05-03 11:03:52     NaN  2019-05-03 11:03:52   \n",
       "1    NaN     NaN     NaN  2019-05-03 11:40:20     NaN  2019-05-03 11:40:20   \n",
       "2    NaN     NaN     NaN  2019-05-03 12:09:40     NaN  2019-05-03 12:09:40   \n",
       "3    NaN     NaN     NaN  2019-05-03 12:41:24     NaN  2019-05-03 12:41:24   \n",
       "4    NaN     NaN     NaN  2019-05-03 13:12:56     NaN  2019-05-03 13:12:56   \n",
       "\n",
       "               Bulk 15  \n",
       "0  2019-05-03 11:03:52  \n",
       "1  2019-05-03 11:40:20  \n",
       "2  2019-05-03 12:09:40  \n",
       "3  2019-05-03 12:41:24  \n",
       "4  2019-05-03 13:12:56  "
      ]
     },
     "metadata": {},
     "output_type": "display_data"
    },
    {
     "name": "stdout",
     "output_type": "stream",
     "text": [
      "\n",
      "Сводная информация по таблице\n",
      "\n",
      "<class 'pandas.core.frame.DataFrame'>\n",
      "RangeIndex: 3129 entries, 0 to 3128\n",
      "Data columns (total 16 columns):\n",
      " #   Column   Non-Null Count  Dtype \n",
      "---  ------   --------------  ----- \n",
      " 0   key      3129 non-null   int64 \n",
      " 1   Bulk 1   252 non-null    object\n",
      " 2   Bulk 2   22 non-null     object\n",
      " 3   Bulk 3   1298 non-null   object\n",
      " 4   Bulk 4   1014 non-null   object\n",
      " 5   Bulk 5   77 non-null     object\n",
      " 6   Bulk 6   576 non-null    object\n",
      " 7   Bulk 7   25 non-null     object\n",
      " 8   Bulk 8   1 non-null      object\n",
      " 9   Bulk 9   19 non-null     object\n",
      " 10  Bulk 10  176 non-null    object\n",
      " 11  Bulk 11  177 non-null    object\n",
      " 12  Bulk 12  2450 non-null   object\n",
      " 13  Bulk 13  18 non-null     object\n",
      " 14  Bulk 14  2806 non-null   object\n",
      " 15  Bulk 15  2248 non-null   object\n",
      "dtypes: int64(1), object(15)\n",
      "memory usage: 391.2+ KB\n"
     ]
    },
    {
     "data": {
      "text/plain": [
       "None"
      ]
     },
     "metadata": {},
     "output_type": "display_data"
    },
    {
     "name": "stdout",
     "output_type": "stream",
     "text": [
      "\n",
      "Количество пропущенных значений\n"
     ]
    },
    {
     "data": {
      "text/html": [
       "<div>\n",
       "<style scoped>\n",
       "    .dataframe tbody tr th:only-of-type {\n",
       "        vertical-align: middle;\n",
       "    }\n",
       "\n",
       "    .dataframe tbody tr th {\n",
       "        vertical-align: top;\n",
       "    }\n",
       "\n",
       "    .dataframe thead th {\n",
       "        text-align: right;\n",
       "    }\n",
       "</style>\n",
       "<table border=\"1\" class=\"dataframe\">\n",
       "  <thead>\n",
       "    <tr style=\"text-align: right;\">\n",
       "      <th></th>\n",
       "      <th>missing_values</th>\n",
       "      <th>% of total</th>\n",
       "    </tr>\n",
       "  </thead>\n",
       "  <tbody>\n",
       "    <tr>\n",
       "      <th>Bulk 8</th>\n",
       "      <td>3128</td>\n",
       "      <td>99.97</td>\n",
       "    </tr>\n",
       "    <tr>\n",
       "      <th>Bulk 13</th>\n",
       "      <td>3111</td>\n",
       "      <td>99.42</td>\n",
       "    </tr>\n",
       "    <tr>\n",
       "      <th>Bulk 9</th>\n",
       "      <td>3110</td>\n",
       "      <td>99.39</td>\n",
       "    </tr>\n",
       "    <tr>\n",
       "      <th>Bulk 2</th>\n",
       "      <td>3107</td>\n",
       "      <td>99.30</td>\n",
       "    </tr>\n",
       "    <tr>\n",
       "      <th>Bulk 7</th>\n",
       "      <td>3104</td>\n",
       "      <td>99.20</td>\n",
       "    </tr>\n",
       "    <tr>\n",
       "      <th>Bulk 5</th>\n",
       "      <td>3052</td>\n",
       "      <td>97.54</td>\n",
       "    </tr>\n",
       "    <tr>\n",
       "      <th>Bulk 10</th>\n",
       "      <td>2953</td>\n",
       "      <td>94.38</td>\n",
       "    </tr>\n",
       "    <tr>\n",
       "      <th>Bulk 11</th>\n",
       "      <td>2952</td>\n",
       "      <td>94.34</td>\n",
       "    </tr>\n",
       "    <tr>\n",
       "      <th>Bulk 1</th>\n",
       "      <td>2877</td>\n",
       "      <td>91.95</td>\n",
       "    </tr>\n",
       "    <tr>\n",
       "      <th>Bulk 6</th>\n",
       "      <td>2553</td>\n",
       "      <td>81.59</td>\n",
       "    </tr>\n",
       "    <tr>\n",
       "      <th>Bulk 4</th>\n",
       "      <td>2115</td>\n",
       "      <td>67.59</td>\n",
       "    </tr>\n",
       "    <tr>\n",
       "      <th>Bulk 3</th>\n",
       "      <td>1831</td>\n",
       "      <td>58.52</td>\n",
       "    </tr>\n",
       "    <tr>\n",
       "      <th>Bulk 15</th>\n",
       "      <td>881</td>\n",
       "      <td>28.16</td>\n",
       "    </tr>\n",
       "    <tr>\n",
       "      <th>Bulk 12</th>\n",
       "      <td>679</td>\n",
       "      <td>21.70</td>\n",
       "    </tr>\n",
       "    <tr>\n",
       "      <th>Bulk 14</th>\n",
       "      <td>323</td>\n",
       "      <td>10.32</td>\n",
       "    </tr>\n",
       "    <tr>\n",
       "      <th>key</th>\n",
       "      <td>0</td>\n",
       "      <td>0.00</td>\n",
       "    </tr>\n",
       "  </tbody>\n",
       "</table>\n",
       "</div>"
      ],
      "text/plain": [
       "         missing_values  % of total\n",
       "Bulk 8             3128       99.97\n",
       "Bulk 13            3111       99.42\n",
       "Bulk 9             3110       99.39\n",
       "Bulk 2             3107       99.30\n",
       "Bulk 7             3104       99.20\n",
       "Bulk 5             3052       97.54\n",
       "Bulk 10            2953       94.38\n",
       "Bulk 11            2952       94.34\n",
       "Bulk 1             2877       91.95\n",
       "Bulk 6             2553       81.59\n",
       "Bulk 4             2115       67.59\n",
       "Bulk 3             1831       58.52\n",
       "Bulk 15             881       28.16\n",
       "Bulk 12             679       21.70\n",
       "Bulk 14             323       10.32\n",
       "key                   0        0.00"
      ]
     },
     "metadata": {},
     "output_type": "display_data"
    },
    {
     "name": "stdout",
     "output_type": "stream",
     "text": [
      "\n",
      "Распределение значений\n"
     ]
    },
    {
     "data": {
      "text/html": [
       "<div>\n",
       "<style scoped>\n",
       "    .dataframe tbody tr th:only-of-type {\n",
       "        vertical-align: middle;\n",
       "    }\n",
       "\n",
       "    .dataframe tbody tr th {\n",
       "        vertical-align: top;\n",
       "    }\n",
       "\n",
       "    .dataframe thead th {\n",
       "        text-align: right;\n",
       "    }\n",
       "</style>\n",
       "<table border=\"1\" class=\"dataframe\">\n",
       "  <thead>\n",
       "    <tr style=\"text-align: right;\">\n",
       "      <th></th>\n",
       "      <th>key</th>\n",
       "    </tr>\n",
       "  </thead>\n",
       "  <tbody>\n",
       "    <tr>\n",
       "      <th>count</th>\n",
       "      <td>3129.000000</td>\n",
       "    </tr>\n",
       "    <tr>\n",
       "      <th>mean</th>\n",
       "      <td>1624.383509</td>\n",
       "    </tr>\n",
       "    <tr>\n",
       "      <th>std</th>\n",
       "      <td>933.337642</td>\n",
       "    </tr>\n",
       "    <tr>\n",
       "      <th>min</th>\n",
       "      <td>1.000000</td>\n",
       "    </tr>\n",
       "    <tr>\n",
       "      <th>25%</th>\n",
       "      <td>816.000000</td>\n",
       "    </tr>\n",
       "    <tr>\n",
       "      <th>50%</th>\n",
       "      <td>1622.000000</td>\n",
       "    </tr>\n",
       "    <tr>\n",
       "      <th>75%</th>\n",
       "      <td>2431.000000</td>\n",
       "    </tr>\n",
       "    <tr>\n",
       "      <th>max</th>\n",
       "      <td>3241.000000</td>\n",
       "    </tr>\n",
       "  </tbody>\n",
       "</table>\n",
       "</div>"
      ],
      "text/plain": [
       "               key\n",
       "count  3129.000000\n",
       "mean   1624.383509\n",
       "std     933.337642\n",
       "min       1.000000\n",
       "25%     816.000000\n",
       "50%    1622.000000\n",
       "75%    2431.000000\n",
       "max    3241.000000"
      ]
     },
     "metadata": {},
     "output_type": "display_data"
    }
   ],
   "source": [
    "analysis(data_bulk_time)"
   ]
  },
  {
   "cell_type": "markdown",
   "metadata": {},
   "source": [
    "В таблице указано время ввода легирующих добавок в расплав. После обсуждения, данную информацию решено не использовать."
   ]
  },
  {
   "cell_type": "markdown",
   "metadata": {},
   "source": [
    "### Данные о продувке сплава газом."
   ]
  },
  {
   "cell_type": "code",
   "execution_count": 12,
   "metadata": {
    "scrolled": true
   },
   "outputs": [
    {
     "data": {
      "text/html": [
       "<div>\n",
       "<style scoped>\n",
       "    .dataframe tbody tr th:only-of-type {\n",
       "        vertical-align: middle;\n",
       "    }\n",
       "\n",
       "    .dataframe tbody tr th {\n",
       "        vertical-align: top;\n",
       "    }\n",
       "\n",
       "    .dataframe thead th {\n",
       "        text-align: right;\n",
       "    }\n",
       "</style>\n",
       "<table border=\"1\" class=\"dataframe\">\n",
       "  <thead>\n",
       "    <tr style=\"text-align: right;\">\n",
       "      <th></th>\n",
       "      <th>key</th>\n",
       "      <th>Газ 1</th>\n",
       "    </tr>\n",
       "  </thead>\n",
       "  <tbody>\n",
       "    <tr>\n",
       "      <th>0</th>\n",
       "      <td>1</td>\n",
       "      <td>29.749986</td>\n",
       "    </tr>\n",
       "    <tr>\n",
       "      <th>1</th>\n",
       "      <td>2</td>\n",
       "      <td>12.555561</td>\n",
       "    </tr>\n",
       "    <tr>\n",
       "      <th>2</th>\n",
       "      <td>3</td>\n",
       "      <td>28.554793</td>\n",
       "    </tr>\n",
       "    <tr>\n",
       "      <th>3</th>\n",
       "      <td>4</td>\n",
       "      <td>18.841219</td>\n",
       "    </tr>\n",
       "    <tr>\n",
       "      <th>4</th>\n",
       "      <td>5</td>\n",
       "      <td>5.413692</td>\n",
       "    </tr>\n",
       "  </tbody>\n",
       "</table>\n",
       "</div>"
      ],
      "text/plain": [
       "   key      Газ 1\n",
       "0    1  29.749986\n",
       "1    2  12.555561\n",
       "2    3  28.554793\n",
       "3    4  18.841219\n",
       "4    5   5.413692"
      ]
     },
     "metadata": {},
     "output_type": "display_data"
    },
    {
     "name": "stdout",
     "output_type": "stream",
     "text": [
      "\n",
      "Сводная информация по таблице\n",
      "\n",
      "<class 'pandas.core.frame.DataFrame'>\n",
      "RangeIndex: 3239 entries, 0 to 3238\n",
      "Data columns (total 2 columns):\n",
      " #   Column  Non-Null Count  Dtype  \n",
      "---  ------  --------------  -----  \n",
      " 0   key     3239 non-null   int64  \n",
      " 1   Газ 1   3239 non-null   float64\n",
      "dtypes: float64(1), int64(1)\n",
      "memory usage: 50.7 KB\n"
     ]
    },
    {
     "data": {
      "text/plain": [
       "None"
      ]
     },
     "metadata": {},
     "output_type": "display_data"
    },
    {
     "name": "stdout",
     "output_type": "stream",
     "text": [
      "\n",
      "Количество пропущенных значений\n"
     ]
    },
    {
     "data": {
      "text/html": [
       "<div>\n",
       "<style scoped>\n",
       "    .dataframe tbody tr th:only-of-type {\n",
       "        vertical-align: middle;\n",
       "    }\n",
       "\n",
       "    .dataframe tbody tr th {\n",
       "        vertical-align: top;\n",
       "    }\n",
       "\n",
       "    .dataframe thead th {\n",
       "        text-align: right;\n",
       "    }\n",
       "</style>\n",
       "<table border=\"1\" class=\"dataframe\">\n",
       "  <thead>\n",
       "    <tr style=\"text-align: right;\">\n",
       "      <th></th>\n",
       "      <th>missing_values</th>\n",
       "      <th>% of total</th>\n",
       "    </tr>\n",
       "  </thead>\n",
       "  <tbody>\n",
       "    <tr>\n",
       "      <th>key</th>\n",
       "      <td>0</td>\n",
       "      <td>0.0</td>\n",
       "    </tr>\n",
       "    <tr>\n",
       "      <th>Газ 1</th>\n",
       "      <td>0</td>\n",
       "      <td>0.0</td>\n",
       "    </tr>\n",
       "  </tbody>\n",
       "</table>\n",
       "</div>"
      ],
      "text/plain": [
       "       missing_values  % of total\n",
       "key                 0         0.0\n",
       "Газ 1               0         0.0"
      ]
     },
     "metadata": {},
     "output_type": "display_data"
    },
    {
     "name": "stdout",
     "output_type": "stream",
     "text": [
      "\n",
      "Распределение значений\n"
     ]
    },
    {
     "data": {
      "text/html": [
       "<div>\n",
       "<style scoped>\n",
       "    .dataframe tbody tr th:only-of-type {\n",
       "        vertical-align: middle;\n",
       "    }\n",
       "\n",
       "    .dataframe tbody tr th {\n",
       "        vertical-align: top;\n",
       "    }\n",
       "\n",
       "    .dataframe thead th {\n",
       "        text-align: right;\n",
       "    }\n",
       "</style>\n",
       "<table border=\"1\" class=\"dataframe\">\n",
       "  <thead>\n",
       "    <tr style=\"text-align: right;\">\n",
       "      <th></th>\n",
       "      <th>key</th>\n",
       "      <th>Газ 1</th>\n",
       "    </tr>\n",
       "  </thead>\n",
       "  <tbody>\n",
       "    <tr>\n",
       "      <th>count</th>\n",
       "      <td>3239.000000</td>\n",
       "      <td>3239.000000</td>\n",
       "    </tr>\n",
       "    <tr>\n",
       "      <th>mean</th>\n",
       "      <td>1621.861377</td>\n",
       "      <td>11.002062</td>\n",
       "    </tr>\n",
       "    <tr>\n",
       "      <th>std</th>\n",
       "      <td>935.386334</td>\n",
       "      <td>6.220327</td>\n",
       "    </tr>\n",
       "    <tr>\n",
       "      <th>min</th>\n",
       "      <td>1.000000</td>\n",
       "      <td>0.008399</td>\n",
       "    </tr>\n",
       "    <tr>\n",
       "      <th>25%</th>\n",
       "      <td>812.500000</td>\n",
       "      <td>7.043089</td>\n",
       "    </tr>\n",
       "    <tr>\n",
       "      <th>50%</th>\n",
       "      <td>1622.000000</td>\n",
       "      <td>9.836267</td>\n",
       "    </tr>\n",
       "    <tr>\n",
       "      <th>75%</th>\n",
       "      <td>2431.500000</td>\n",
       "      <td>13.769915</td>\n",
       "    </tr>\n",
       "    <tr>\n",
       "      <th>max</th>\n",
       "      <td>3241.000000</td>\n",
       "      <td>77.995040</td>\n",
       "    </tr>\n",
       "  </tbody>\n",
       "</table>\n",
       "</div>"
      ],
      "text/plain": [
       "               key        Газ 1\n",
       "count  3239.000000  3239.000000\n",
       "mean   1621.861377    11.002062\n",
       "std     935.386334     6.220327\n",
       "min       1.000000     0.008399\n",
       "25%     812.500000     7.043089\n",
       "50%    1622.000000     9.836267\n",
       "75%    2431.500000    13.769915\n",
       "max    3241.000000    77.995040"
      ]
     },
     "metadata": {},
     "output_type": "display_data"
    }
   ],
   "source": [
    "analysis(data_gas)"
   ]
  },
  {
   "cell_type": "code",
   "execution_count": 13,
   "metadata": {},
   "outputs": [
    {
     "data": {
      "image/png": "[encoded data removed]",
      "text/plain": [
       "<Figure size 720x360 with 1 Axes>"
      ]
     },
     "metadata": {
      "needs_background": "light"
     },
     "output_type": "display_data"
    }
   ],
   "source": [
    "plt.figure(figsize=(10,5))\n",
    "sns.set_style('darkgrid')\n",
    "\n",
    "sns.boxplot(x=data_gas['Газ 1'])\n",
    "\n",
    "plt.xlabel('Объём')\n",
    "plt.title('Объём газа, используемого при продувке')\n",
    "\n",
    "plt.show()"
   ]
  },
  {
   "cell_type": "markdown",
   "metadata": {},
   "source": [
    "Исходя из тех. задания продув сплава инертным газом может производиться несколько раз. Однако, в отличие от таблицы с данными по сыпучим компонентам, здесь дан суммарный объём. Выбивающиеся значения (> 40) скорее всего являются особенностями марок стали, производящихся редко. Оставим их для обучения."
   ]
  },
  {
   "cell_type": "markdown",
   "metadata": {},
   "source": [
    "### Результаты измерения температуры."
   ]
  },
  {
   "cell_type": "code",
   "execution_count": 14,
   "metadata": {
    "scrolled": true
   },
   "outputs": [
    {
     "data": {
      "text/html": [
       "<div>\n",
       "<style scoped>\n",
       "    .dataframe tbody tr th:only-of-type {\n",
       "        vertical-align: middle;\n",
       "    }\n",
       "\n",
       "    .dataframe tbody tr th {\n",
       "        vertical-align: top;\n",
       "    }\n",
       "\n",
       "    .dataframe thead th {\n",
       "        text-align: right;\n",
       "    }\n",
       "</style>\n",
       "<table border=\"1\" class=\"dataframe\">\n",
       "  <thead>\n",
       "    <tr style=\"text-align: right;\">\n",
       "      <th></th>\n",
       "      <th>key</th>\n",
       "      <th>Время замера</th>\n",
       "      <th>Температура</th>\n",
       "    </tr>\n",
       "  </thead>\n",
       "  <tbody>\n",
       "    <tr>\n",
       "      <th>0</th>\n",
       "      <td>1</td>\n",
       "      <td>2019-05-03 11:16:18</td>\n",
       "      <td>1571.0</td>\n",
       "    </tr>\n",
       "    <tr>\n",
       "      <th>1</th>\n",
       "      <td>1</td>\n",
       "      <td>2019-05-03 11:25:53</td>\n",
       "      <td>1604.0</td>\n",
       "    </tr>\n",
       "    <tr>\n",
       "      <th>2</th>\n",
       "      <td>1</td>\n",
       "      <td>2019-05-03 11:29:11</td>\n",
       "      <td>1618.0</td>\n",
       "    </tr>\n",
       "    <tr>\n",
       "      <th>3</th>\n",
       "      <td>1</td>\n",
       "      <td>2019-05-03 11:30:01</td>\n",
       "      <td>1601.0</td>\n",
       "    </tr>\n",
       "    <tr>\n",
       "      <th>4</th>\n",
       "      <td>1</td>\n",
       "      <td>2019-05-03 11:30:39</td>\n",
       "      <td>1613.0</td>\n",
       "    </tr>\n",
       "  </tbody>\n",
       "</table>\n",
       "</div>"
      ],
      "text/plain": [
       "   key         Время замера  Температура\n",
       "0    1  2019-05-03 11:16:18       1571.0\n",
       "1    1  2019-05-03 11:25:53       1604.0\n",
       "2    1  2019-05-03 11:29:11       1618.0\n",
       "3    1  2019-05-03 11:30:01       1601.0\n",
       "4    1  2019-05-03 11:30:39       1613.0"
      ]
     },
     "metadata": {},
     "output_type": "display_data"
    },
    {
     "name": "stdout",
     "output_type": "stream",
     "text": [
      "\n",
      "Сводная информация по таблице\n",
      "\n",
      "<class 'pandas.core.frame.DataFrame'>\n",
      "RangeIndex: 15907 entries, 0 to 15906\n",
      "Data columns (total 3 columns):\n",
      " #   Column        Non-Null Count  Dtype  \n",
      "---  ------        --------------  -----  \n",
      " 0   key           15907 non-null  int64  \n",
      " 1   Время замера  15907 non-null  object \n",
      " 2   Температура   13006 non-null  float64\n",
      "dtypes: float64(1), int64(1), object(1)\n",
      "memory usage: 372.9+ KB\n"
     ]
    },
    {
     "data": {
      "text/plain": [
       "None"
      ]
     },
     "metadata": {},
     "output_type": "display_data"
    },
    {
     "name": "stdout",
     "output_type": "stream",
     "text": [
      "\n",
      "Количество пропущенных значений\n"
     ]
    },
    {
     "data": {
      "text/html": [
       "<div>\n",
       "<style scoped>\n",
       "    .dataframe tbody tr th:only-of-type {\n",
       "        vertical-align: middle;\n",
       "    }\n",
       "\n",
       "    .dataframe tbody tr th {\n",
       "        vertical-align: top;\n",
       "    }\n",
       "\n",
       "    .dataframe thead th {\n",
       "        text-align: right;\n",
       "    }\n",
       "</style>\n",
       "<table border=\"1\" class=\"dataframe\">\n",
       "  <thead>\n",
       "    <tr style=\"text-align: right;\">\n",
       "      <th></th>\n",
       "      <th>missing_values</th>\n",
       "      <th>% of total</th>\n",
       "    </tr>\n",
       "  </thead>\n",
       "  <tbody>\n",
       "    <tr>\n",
       "      <th>Температура</th>\n",
       "      <td>2901</td>\n",
       "      <td>18.24</td>\n",
       "    </tr>\n",
       "    <tr>\n",
       "      <th>key</th>\n",
       "      <td>0</td>\n",
       "      <td>0.00</td>\n",
       "    </tr>\n",
       "    <tr>\n",
       "      <th>Время замера</th>\n",
       "      <td>0</td>\n",
       "      <td>0.00</td>\n",
       "    </tr>\n",
       "  </tbody>\n",
       "</table>\n",
       "</div>"
      ],
      "text/plain": [
       "              missing_values  % of total\n",
       "Температура             2901       18.24\n",
       "key                        0        0.00\n",
       "Время замера               0        0.00"
      ]
     },
     "metadata": {},
     "output_type": "display_data"
    },
    {
     "name": "stdout",
     "output_type": "stream",
     "text": [
      "\n",
      "Распределение значений\n"
     ]
    },
    {
     "data": {
      "text/html": [
       "<div>\n",
       "<style scoped>\n",
       "    .dataframe tbody tr th:only-of-type {\n",
       "        vertical-align: middle;\n",
       "    }\n",
       "\n",
       "    .dataframe tbody tr th {\n",
       "        vertical-align: top;\n",
       "    }\n",
       "\n",
       "    .dataframe thead th {\n",
       "        text-align: right;\n",
       "    }\n",
       "</style>\n",
       "<table border=\"1\" class=\"dataframe\">\n",
       "  <thead>\n",
       "    <tr style=\"text-align: right;\">\n",
       "      <th></th>\n",
       "      <th>key</th>\n",
       "      <th>Температура</th>\n",
       "    </tr>\n",
       "  </thead>\n",
       "  <tbody>\n",
       "    <tr>\n",
       "      <th>count</th>\n",
       "      <td>15907.000000</td>\n",
       "      <td>13006.000000</td>\n",
       "    </tr>\n",
       "    <tr>\n",
       "      <th>mean</th>\n",
       "      <td>1607.880870</td>\n",
       "      <td>1591.840920</td>\n",
       "    </tr>\n",
       "    <tr>\n",
       "      <th>std</th>\n",
       "      <td>942.212073</td>\n",
       "      <td>21.375851</td>\n",
       "    </tr>\n",
       "    <tr>\n",
       "      <th>min</th>\n",
       "      <td>1.000000</td>\n",
       "      <td>1191.000000</td>\n",
       "    </tr>\n",
       "    <tr>\n",
       "      <th>25%</th>\n",
       "      <td>790.000000</td>\n",
       "      <td>1581.000000</td>\n",
       "    </tr>\n",
       "    <tr>\n",
       "      <th>50%</th>\n",
       "      <td>1618.000000</td>\n",
       "      <td>1591.000000</td>\n",
       "    </tr>\n",
       "    <tr>\n",
       "      <th>75%</th>\n",
       "      <td>2427.000000</td>\n",
       "      <td>1601.000000</td>\n",
       "    </tr>\n",
       "    <tr>\n",
       "      <th>max</th>\n",
       "      <td>3241.000000</td>\n",
       "      <td>1705.000000</td>\n",
       "    </tr>\n",
       "  </tbody>\n",
       "</table>\n",
       "</div>"
      ],
      "text/plain": [
       "                key   Температура\n",
       "count  15907.000000  13006.000000\n",
       "mean    1607.880870   1591.840920\n",
       "std      942.212073     21.375851\n",
       "min        1.000000   1191.000000\n",
       "25%      790.000000   1581.000000\n",
       "50%     1618.000000   1591.000000\n",
       "75%     2427.000000   1601.000000\n",
       "max     3241.000000   1705.000000"
      ]
     },
     "metadata": {},
     "output_type": "display_data"
    }
   ],
   "source": [
    "analysis(data_temp)"
   ]
  },
  {
   "cell_type": "markdown",
   "metadata": {},
   "source": [
    "При обсуждении задачи решено, что  в качестве целевого признака нужно использовать последний замер температуры, а первый как один из признаков. Присутствуют пропуски в ~18% данных."
   ]
  },
  {
   "cell_type": "code",
   "execution_count": 15,
   "metadata": {
    "scrolled": true
   },
   "outputs": [
    {
     "data": {
      "text/html": [
       "<div>\n",
       "<style scoped>\n",
       "    .dataframe tbody tr th:only-of-type {\n",
       "        vertical-align: middle;\n",
       "    }\n",
       "\n",
       "    .dataframe tbody tr th {\n",
       "        vertical-align: top;\n",
       "    }\n",
       "\n",
       "    .dataframe thead th {\n",
       "        text-align: right;\n",
       "    }\n",
       "</style>\n",
       "<table border=\"1\" class=\"dataframe\">\n",
       "  <thead>\n",
       "    <tr style=\"text-align: right;\">\n",
       "      <th></th>\n",
       "      <th>key</th>\n",
       "      <th>Время замера</th>\n",
       "      <th>Температура</th>\n",
       "    </tr>\n",
       "  </thead>\n",
       "  <tbody>\n",
       "    <tr>\n",
       "      <th>12268</th>\n",
       "      <td>2500</td>\n",
       "      <td>2019-08-06 03:24:43</td>\n",
       "      <td>NaN</td>\n",
       "    </tr>\n",
       "    <tr>\n",
       "      <th>12269</th>\n",
       "      <td>2500</td>\n",
       "      <td>2019-08-06 03:25:16</td>\n",
       "      <td>NaN</td>\n",
       "    </tr>\n",
       "    <tr>\n",
       "      <th>12270</th>\n",
       "      <td>2500</td>\n",
       "      <td>2019-08-06 03:28:21</td>\n",
       "      <td>NaN</td>\n",
       "    </tr>\n",
       "    <tr>\n",
       "      <th>12272</th>\n",
       "      <td>2501</td>\n",
       "      <td>2019-08-06 04:01:59</td>\n",
       "      <td>NaN</td>\n",
       "    </tr>\n",
       "    <tr>\n",
       "      <th>12273</th>\n",
       "      <td>2501</td>\n",
       "      <td>2019-08-06 04:14:35</td>\n",
       "      <td>NaN</td>\n",
       "    </tr>\n",
       "    <tr>\n",
       "      <th>...</th>\n",
       "      <td>...</td>\n",
       "      <td>...</td>\n",
       "      <td>...</td>\n",
       "    </tr>\n",
       "    <tr>\n",
       "      <th>15901</th>\n",
       "      <td>3240</td>\n",
       "      <td>2019-09-01 03:35:16</td>\n",
       "      <td>NaN</td>\n",
       "    </tr>\n",
       "    <tr>\n",
       "      <th>15903</th>\n",
       "      <td>3241</td>\n",
       "      <td>2019-09-01 04:16:12</td>\n",
       "      <td>NaN</td>\n",
       "    </tr>\n",
       "    <tr>\n",
       "      <th>15904</th>\n",
       "      <td>3241</td>\n",
       "      <td>2019-09-01 04:22:39</td>\n",
       "      <td>NaN</td>\n",
       "    </tr>\n",
       "    <tr>\n",
       "      <th>15905</th>\n",
       "      <td>3241</td>\n",
       "      <td>2019-09-01 04:33:42</td>\n",
       "      <td>NaN</td>\n",
       "    </tr>\n",
       "    <tr>\n",
       "      <th>15906</th>\n",
       "      <td>3241</td>\n",
       "      <td>2019-09-01 04:38:08</td>\n",
       "      <td>NaN</td>\n",
       "    </tr>\n",
       "  </tbody>\n",
       "</table>\n",
       "<p>2901 rows × 3 columns</p>\n",
       "</div>"
      ],
      "text/plain": [
       "        key         Время замера  Температура\n",
       "12268  2500  2019-08-06 03:24:43          NaN\n",
       "12269  2500  2019-08-06 03:25:16          NaN\n",
       "12270  2500  2019-08-06 03:28:21          NaN\n",
       "12272  2501  2019-08-06 04:01:59          NaN\n",
       "12273  2501  2019-08-06 04:14:35          NaN\n",
       "...     ...                  ...          ...\n",
       "15901  3240  2019-09-01 03:35:16          NaN\n",
       "15903  3241  2019-09-01 04:16:12          NaN\n",
       "15904  3241  2019-09-01 04:22:39          NaN\n",
       "15905  3241  2019-09-01 04:33:42          NaN\n",
       "15906  3241  2019-09-01 04:38:08          NaN\n",
       "\n",
       "[2901 rows x 3 columns]"
      ]
     },
     "execution_count": 15,
     "metadata": {},
     "output_type": "execute_result"
    }
   ],
   "source": [
    "data_temp[data_temp['Температура'].isna()]"
   ]
  },
  {
   "cell_type": "markdown",
   "metadata": {},
   "source": [
    "На примере партии 3241 проверим, какие именно значения пропущены."
   ]
  },
  {
   "cell_type": "code",
   "execution_count": 16,
   "metadata": {
    "scrolled": true
   },
   "outputs": [
    {
     "data": {
      "text/html": [
       "<div>\n",
       "<style scoped>\n",
       "    .dataframe tbody tr th:only-of-type {\n",
       "        vertical-align: middle;\n",
       "    }\n",
       "\n",
       "    .dataframe tbody tr th {\n",
       "        vertical-align: top;\n",
       "    }\n",
       "\n",
       "    .dataframe thead th {\n",
       "        text-align: right;\n",
       "    }\n",
       "</style>\n",
       "<table border=\"1\" class=\"dataframe\">\n",
       "  <thead>\n",
       "    <tr style=\"text-align: right;\">\n",
       "      <th></th>\n",
       "      <th>key</th>\n",
       "      <th>Время замера</th>\n",
       "      <th>Температура</th>\n",
       "    </tr>\n",
       "  </thead>\n",
       "  <tbody>\n",
       "    <tr>\n",
       "      <th>15902</th>\n",
       "      <td>3241</td>\n",
       "      <td>2019-09-01 04:03:30</td>\n",
       "      <td>1586.0</td>\n",
       "    </tr>\n",
       "    <tr>\n",
       "      <th>15903</th>\n",
       "      <td>3241</td>\n",
       "      <td>2019-09-01 04:16:12</td>\n",
       "      <td>NaN</td>\n",
       "    </tr>\n",
       "    <tr>\n",
       "      <th>15904</th>\n",
       "      <td>3241</td>\n",
       "      <td>2019-09-01 04:22:39</td>\n",
       "      <td>NaN</td>\n",
       "    </tr>\n",
       "    <tr>\n",
       "      <th>15905</th>\n",
       "      <td>3241</td>\n",
       "      <td>2019-09-01 04:33:42</td>\n",
       "      <td>NaN</td>\n",
       "    </tr>\n",
       "    <tr>\n",
       "      <th>15906</th>\n",
       "      <td>3241</td>\n",
       "      <td>2019-09-01 04:38:08</td>\n",
       "      <td>NaN</td>\n",
       "    </tr>\n",
       "  </tbody>\n",
       "</table>\n",
       "</div>"
      ],
      "text/plain": [
       "        key         Время замера  Температура\n",
       "15902  3241  2019-09-01 04:03:30       1586.0\n",
       "15903  3241  2019-09-01 04:16:12          NaN\n",
       "15904  3241  2019-09-01 04:22:39          NaN\n",
       "15905  3241  2019-09-01 04:33:42          NaN\n",
       "15906  3241  2019-09-01 04:38:08          NaN"
      ]
     },
     "execution_count": 16,
     "metadata": {},
     "output_type": "execute_result"
    }
   ],
   "source": [
    "data_temp[data_temp['key'] == 3241]"
   ]
  },
  {
   "cell_type": "markdown",
   "metadata": {},
   "source": [
    "Необходимо выяснить, в чём может быть причина отсутствия замеров.\n",
    "\n",
    "Посмотрим на распределение температур в таблице."
   ]
  },
  {
   "cell_type": "code",
   "execution_count": 17,
   "metadata": {
    "scrolled": false
   },
   "outputs": [
    {
     "data": {
      "image/png": "[encoded data removed]",
      "text/plain": [
       "<Figure size 720x360 with 1 Axes>"
      ]
     },
     "metadata": {},
     "output_type": "display_data"
    }
   ],
   "source": [
    "plt.figure(figsize=(10,5))\n",
    "sns.set_style('darkgrid')\n",
    "\n",
    "sns.boxplot(x=data_temp['Температура'])\n",
    "\n",
    "plt.xlabel('Темпрература, *С')\n",
    "plt.title('Распредедение температуры внутри ковша')\n",
    "\n",
    "plt.show()"
   ]
  },
  {
   "cell_type": "markdown",
   "metadata": {},
   "source": [
    "Имеется несколько значений сильно меньше среднего."
   ]
  },
  {
   "cell_type": "code",
   "execution_count": 18,
   "metadata": {},
   "outputs": [
    {
     "data": {
      "text/html": [
       "<div>\n",
       "<style scoped>\n",
       "    .dataframe tbody tr th:only-of-type {\n",
       "        vertical-align: middle;\n",
       "    }\n",
       "\n",
       "    .dataframe tbody tr th {\n",
       "        vertical-align: top;\n",
       "    }\n",
       "\n",
       "    .dataframe thead th {\n",
       "        text-align: right;\n",
       "    }\n",
       "</style>\n",
       "<table border=\"1\" class=\"dataframe\">\n",
       "  <thead>\n",
       "    <tr style=\"text-align: right;\">\n",
       "      <th></th>\n",
       "      <th>key</th>\n",
       "      <th>Время замера</th>\n",
       "      <th>Температура</th>\n",
       "    </tr>\n",
       "  </thead>\n",
       "  <tbody>\n",
       "    <tr>\n",
       "      <th>4350</th>\n",
       "      <td>867</td>\n",
       "      <td>2019-06-04 14:21:00</td>\n",
       "      <td>1191.0</td>\n",
       "    </tr>\n",
       "    <tr>\n",
       "      <th>5978</th>\n",
       "      <td>1214</td>\n",
       "      <td>2019-06-16 05:32:00</td>\n",
       "      <td>1208.0</td>\n",
       "    </tr>\n",
       "    <tr>\n",
       "      <th>7958</th>\n",
       "      <td>1619</td>\n",
       "      <td>2019-06-30 11:03:54</td>\n",
       "      <td>1218.0</td>\n",
       "    </tr>\n",
       "    <tr>\n",
       "      <th>8913</th>\n",
       "      <td>1818</td>\n",
       "      <td>2019-07-07 00:30:49</td>\n",
       "      <td>1383.0</td>\n",
       "    </tr>\n",
       "    <tr>\n",
       "      <th>8914</th>\n",
       "      <td>1818</td>\n",
       "      <td>2019-07-07 00:31:40</td>\n",
       "      <td>1383.0</td>\n",
       "    </tr>\n",
       "    <tr>\n",
       "      <th>10127</th>\n",
       "      <td>2052</td>\n",
       "      <td>2019-07-21 14:51:40</td>\n",
       "      <td>1227.0</td>\n",
       "    </tr>\n",
       "    <tr>\n",
       "      <th>12564</th>\n",
       "      <td>2561</td>\n",
       "      <td>2019-08-08 07:34:15</td>\n",
       "      <td>1204.0</td>\n",
       "    </tr>\n",
       "  </tbody>\n",
       "</table>\n",
       "</div>"
      ],
      "text/plain": [
       "        key         Время замера  Температура\n",
       "4350    867  2019-06-04 14:21:00       1191.0\n",
       "5978   1214  2019-06-16 05:32:00       1208.0\n",
       "7958   1619  2019-06-30 11:03:54       1218.0\n",
       "8913   1818  2019-07-07 00:30:49       1383.0\n",
       "8914   1818  2019-07-07 00:31:40       1383.0\n",
       "10127  2052  2019-07-21 14:51:40       1227.0\n",
       "12564  2561  2019-08-08 07:34:15       1204.0"
      ]
     },
     "execution_count": 18,
     "metadata": {},
     "output_type": "execute_result"
    }
   ],
   "source": [
    "data_temp[data_temp['Температура'] < 1500]"
   ]
  },
  {
   "cell_type": "markdown",
   "metadata": {},
   "source": [
    "Исходя из доступной информации установлено, что температура плавления стали ~1500 °С. Данные температуры являются ошибкой. Т.к. для обучения нужны только первый и последний замер, на этапе предобработки удалим все партии, в которых ошибочные замеры являются таковыми."
   ]
  },
  {
   "cell_type": "markdown",
   "metadata": {},
   "source": [
    "### Данные о проволочных материалах (объём)."
   ]
  },
  {
   "cell_type": "code",
   "execution_count": 19,
   "metadata": {
    "scrolled": true
   },
   "outputs": [
    {
     "data": {
      "text/html": [
       "<div>\n",
       "<style scoped>\n",
       "    .dataframe tbody tr th:only-of-type {\n",
       "        vertical-align: middle;\n",
       "    }\n",
       "\n",
       "    .dataframe tbody tr th {\n",
       "        vertical-align: top;\n",
       "    }\n",
       "\n",
       "    .dataframe thead th {\n",
       "        text-align: right;\n",
       "    }\n",
       "</style>\n",
       "<table border=\"1\" class=\"dataframe\">\n",
       "  <thead>\n",
       "    <tr style=\"text-align: right;\">\n",
       "      <th></th>\n",
       "      <th>key</th>\n",
       "      <th>Wire 1</th>\n",
       "      <th>Wire 2</th>\n",
       "      <th>Wire 3</th>\n",
       "      <th>Wire 4</th>\n",
       "      <th>Wire 5</th>\n",
       "      <th>Wire 6</th>\n",
       "      <th>Wire 7</th>\n",
       "      <th>Wire 8</th>\n",
       "      <th>Wire 9</th>\n",
       "    </tr>\n",
       "  </thead>\n",
       "  <tbody>\n",
       "    <tr>\n",
       "      <th>0</th>\n",
       "      <td>1</td>\n",
       "      <td>60.059998</td>\n",
       "      <td>NaN</td>\n",
       "      <td>NaN</td>\n",
       "      <td>NaN</td>\n",
       "      <td>NaN</td>\n",
       "      <td>NaN</td>\n",
       "      <td>NaN</td>\n",
       "      <td>NaN</td>\n",
       "      <td>NaN</td>\n",
       "    </tr>\n",
       "    <tr>\n",
       "      <th>1</th>\n",
       "      <td>2</td>\n",
       "      <td>96.052315</td>\n",
       "      <td>NaN</td>\n",
       "      <td>NaN</td>\n",
       "      <td>NaN</td>\n",
       "      <td>NaN</td>\n",
       "      <td>NaN</td>\n",
       "      <td>NaN</td>\n",
       "      <td>NaN</td>\n",
       "      <td>NaN</td>\n",
       "    </tr>\n",
       "    <tr>\n",
       "      <th>2</th>\n",
       "      <td>3</td>\n",
       "      <td>91.160157</td>\n",
       "      <td>NaN</td>\n",
       "      <td>NaN</td>\n",
       "      <td>NaN</td>\n",
       "      <td>NaN</td>\n",
       "      <td>NaN</td>\n",
       "      <td>NaN</td>\n",
       "      <td>NaN</td>\n",
       "      <td>NaN</td>\n",
       "    </tr>\n",
       "    <tr>\n",
       "      <th>3</th>\n",
       "      <td>4</td>\n",
       "      <td>89.063515</td>\n",
       "      <td>NaN</td>\n",
       "      <td>NaN</td>\n",
       "      <td>NaN</td>\n",
       "      <td>NaN</td>\n",
       "      <td>NaN</td>\n",
       "      <td>NaN</td>\n",
       "      <td>NaN</td>\n",
       "      <td>NaN</td>\n",
       "    </tr>\n",
       "    <tr>\n",
       "      <th>4</th>\n",
       "      <td>5</td>\n",
       "      <td>89.238236</td>\n",
       "      <td>9.11456</td>\n",
       "      <td>NaN</td>\n",
       "      <td>NaN</td>\n",
       "      <td>NaN</td>\n",
       "      <td>NaN</td>\n",
       "      <td>NaN</td>\n",
       "      <td>NaN</td>\n",
       "      <td>NaN</td>\n",
       "    </tr>\n",
       "  </tbody>\n",
       "</table>\n",
       "</div>"
      ],
      "text/plain": [
       "   key     Wire 1   Wire 2  Wire 3  Wire 4  Wire 5  Wire 6  Wire 7  Wire 8  \\\n",
       "0    1  60.059998      NaN     NaN     NaN     NaN     NaN     NaN     NaN   \n",
       "1    2  96.052315      NaN     NaN     NaN     NaN     NaN     NaN     NaN   \n",
       "2    3  91.160157      NaN     NaN     NaN     NaN     NaN     NaN     NaN   \n",
       "3    4  89.063515      NaN     NaN     NaN     NaN     NaN     NaN     NaN   \n",
       "4    5  89.238236  9.11456     NaN     NaN     NaN     NaN     NaN     NaN   \n",
       "\n",
       "   Wire 9  \n",
       "0     NaN  \n",
       "1     NaN  \n",
       "2     NaN  \n",
       "3     NaN  \n",
       "4     NaN  "
      ]
     },
     "metadata": {},
     "output_type": "display_data"
    },
    {
     "name": "stdout",
     "output_type": "stream",
     "text": [
      "\n",
      "Сводная информация по таблице\n",
      "\n",
      "<class 'pandas.core.frame.DataFrame'>\n",
      "RangeIndex: 3081 entries, 0 to 3080\n",
      "Data columns (total 10 columns):\n",
      " #   Column  Non-Null Count  Dtype  \n",
      "---  ------  --------------  -----  \n",
      " 0   key     3081 non-null   int64  \n",
      " 1   Wire 1  3055 non-null   float64\n",
      " 2   Wire 2  1079 non-null   float64\n",
      " 3   Wire 3  63 non-null     float64\n",
      " 4   Wire 4  14 non-null     float64\n",
      " 5   Wire 5  1 non-null      float64\n",
      " 6   Wire 6  73 non-null     float64\n",
      " 7   Wire 7  11 non-null     float64\n",
      " 8   Wire 8  19 non-null     float64\n",
      " 9   Wire 9  29 non-null     float64\n",
      "dtypes: float64(9), int64(1)\n",
      "memory usage: 240.8 KB\n"
     ]
    },
    {
     "data": {
      "text/plain": [
       "None"
      ]
     },
     "metadata": {},
     "output_type": "display_data"
    },
    {
     "name": "stdout",
     "output_type": "stream",
     "text": [
      "\n",
      "Количество пропущенных значений\n"
     ]
    },
    {
     "data": {
      "text/html": [
       "<div>\n",
       "<style scoped>\n",
       "    .dataframe tbody tr th:only-of-type {\n",
       "        vertical-align: middle;\n",
       "    }\n",
       "\n",
       "    .dataframe tbody tr th {\n",
       "        vertical-align: top;\n",
       "    }\n",
       "\n",
       "    .dataframe thead th {\n",
       "        text-align: right;\n",
       "    }\n",
       "</style>\n",
       "<table border=\"1\" class=\"dataframe\">\n",
       "  <thead>\n",
       "    <tr style=\"text-align: right;\">\n",
       "      <th></th>\n",
       "      <th>missing_values</th>\n",
       "      <th>% of total</th>\n",
       "    </tr>\n",
       "  </thead>\n",
       "  <tbody>\n",
       "    <tr>\n",
       "      <th>Wire 5</th>\n",
       "      <td>3080</td>\n",
       "      <td>99.97</td>\n",
       "    </tr>\n",
       "    <tr>\n",
       "      <th>Wire 7</th>\n",
       "      <td>3070</td>\n",
       "      <td>99.64</td>\n",
       "    </tr>\n",
       "    <tr>\n",
       "      <th>Wire 4</th>\n",
       "      <td>3067</td>\n",
       "      <td>99.55</td>\n",
       "    </tr>\n",
       "    <tr>\n",
       "      <th>Wire 8</th>\n",
       "      <td>3062</td>\n",
       "      <td>99.38</td>\n",
       "    </tr>\n",
       "    <tr>\n",
       "      <th>Wire 9</th>\n",
       "      <td>3052</td>\n",
       "      <td>99.06</td>\n",
       "    </tr>\n",
       "    <tr>\n",
       "      <th>Wire 3</th>\n",
       "      <td>3018</td>\n",
       "      <td>97.96</td>\n",
       "    </tr>\n",
       "    <tr>\n",
       "      <th>Wire 6</th>\n",
       "      <td>3008</td>\n",
       "      <td>97.63</td>\n",
       "    </tr>\n",
       "    <tr>\n",
       "      <th>Wire 2</th>\n",
       "      <td>2002</td>\n",
       "      <td>64.98</td>\n",
       "    </tr>\n",
       "    <tr>\n",
       "      <th>Wire 1</th>\n",
       "      <td>26</td>\n",
       "      <td>0.84</td>\n",
       "    </tr>\n",
       "    <tr>\n",
       "      <th>key</th>\n",
       "      <td>0</td>\n",
       "      <td>0.00</td>\n",
       "    </tr>\n",
       "  </tbody>\n",
       "</table>\n",
       "</div>"
      ],
      "text/plain": [
       "        missing_values  % of total\n",
       "Wire 5            3080       99.97\n",
       "Wire 7            3070       99.64\n",
       "Wire 4            3067       99.55\n",
       "Wire 8            3062       99.38\n",
       "Wire 9            3052       99.06\n",
       "Wire 3            3018       97.96\n",
       "Wire 6            3008       97.63\n",
       "Wire 2            2002       64.98\n",
       "Wire 1              26        0.84\n",
       "key                  0        0.00"
      ]
     },
     "metadata": {},
     "output_type": "display_data"
    },
    {
     "name": "stdout",
     "output_type": "stream",
     "text": [
      "\n",
      "Распределение значений\n"
     ]
    },
    {
     "data": {
      "text/html": [
       "<div>\n",
       "<style scoped>\n",
       "    .dataframe tbody tr th:only-of-type {\n",
       "        vertical-align: middle;\n",
       "    }\n",
       "\n",
       "    .dataframe tbody tr th {\n",
       "        vertical-align: top;\n",
       "    }\n",
       "\n",
       "    .dataframe thead th {\n",
       "        text-align: right;\n",
       "    }\n",
       "</style>\n",
       "<table border=\"1\" class=\"dataframe\">\n",
       "  <thead>\n",
       "    <tr style=\"text-align: right;\">\n",
       "      <th></th>\n",
       "      <th>key</th>\n",
       "      <th>Wire 1</th>\n",
       "      <th>Wire 2</th>\n",
       "      <th>Wire 3</th>\n",
       "      <th>Wire 4</th>\n",
       "      <th>Wire 5</th>\n",
       "      <th>Wire 6</th>\n",
       "      <th>Wire 7</th>\n",
       "      <th>Wire 8</th>\n",
       "      <th>Wire 9</th>\n",
       "    </tr>\n",
       "  </thead>\n",
       "  <tbody>\n",
       "    <tr>\n",
       "      <th>count</th>\n",
       "      <td>3081.000000</td>\n",
       "      <td>3055.000000</td>\n",
       "      <td>1079.000000</td>\n",
       "      <td>63.000000</td>\n",
       "      <td>14.000000</td>\n",
       "      <td>1.000</td>\n",
       "      <td>73.000000</td>\n",
       "      <td>11.000000</td>\n",
       "      <td>19.000000</td>\n",
       "      <td>29.000000</td>\n",
       "    </tr>\n",
       "    <tr>\n",
       "      <th>mean</th>\n",
       "      <td>1623.426485</td>\n",
       "      <td>100.895853</td>\n",
       "      <td>50.577323</td>\n",
       "      <td>189.482681</td>\n",
       "      <td>57.442842</td>\n",
       "      <td>15.132</td>\n",
       "      <td>48.016974</td>\n",
       "      <td>10.039007</td>\n",
       "      <td>53.625193</td>\n",
       "      <td>34.155752</td>\n",
       "    </tr>\n",
       "    <tr>\n",
       "      <th>std</th>\n",
       "      <td>932.996726</td>\n",
       "      <td>42.012518</td>\n",
       "      <td>39.320216</td>\n",
       "      <td>99.513444</td>\n",
       "      <td>28.824667</td>\n",
       "      <td>NaN</td>\n",
       "      <td>33.919845</td>\n",
       "      <td>8.610584</td>\n",
       "      <td>16.881728</td>\n",
       "      <td>19.931616</td>\n",
       "    </tr>\n",
       "    <tr>\n",
       "      <th>min</th>\n",
       "      <td>1.000000</td>\n",
       "      <td>1.918800</td>\n",
       "      <td>0.030160</td>\n",
       "      <td>0.144144</td>\n",
       "      <td>24.148801</td>\n",
       "      <td>15.132</td>\n",
       "      <td>0.034320</td>\n",
       "      <td>0.234208</td>\n",
       "      <td>45.076721</td>\n",
       "      <td>4.622800</td>\n",
       "    </tr>\n",
       "    <tr>\n",
       "      <th>25%</th>\n",
       "      <td>823.000000</td>\n",
       "      <td>72.115684</td>\n",
       "      <td>20.193680</td>\n",
       "      <td>95.135044</td>\n",
       "      <td>40.807002</td>\n",
       "      <td>15.132</td>\n",
       "      <td>25.053600</td>\n",
       "      <td>6.762756</td>\n",
       "      <td>46.094879</td>\n",
       "      <td>22.058401</td>\n",
       "    </tr>\n",
       "    <tr>\n",
       "      <th>50%</th>\n",
       "      <td>1619.000000</td>\n",
       "      <td>100.158234</td>\n",
       "      <td>40.142956</td>\n",
       "      <td>235.194977</td>\n",
       "      <td>45.234282</td>\n",
       "      <td>15.132</td>\n",
       "      <td>42.076324</td>\n",
       "      <td>9.017009</td>\n",
       "      <td>46.279999</td>\n",
       "      <td>30.066399</td>\n",
       "    </tr>\n",
       "    <tr>\n",
       "      <th>75%</th>\n",
       "      <td>2434.000000</td>\n",
       "      <td>126.060483</td>\n",
       "      <td>70.227558</td>\n",
       "      <td>276.252014</td>\n",
       "      <td>76.124619</td>\n",
       "      <td>15.132</td>\n",
       "      <td>64.212723</td>\n",
       "      <td>11.886057</td>\n",
       "      <td>48.089603</td>\n",
       "      <td>43.862003</td>\n",
       "    </tr>\n",
       "    <tr>\n",
       "      <th>max</th>\n",
       "      <td>3241.000000</td>\n",
       "      <td>330.314424</td>\n",
       "      <td>282.780152</td>\n",
       "      <td>385.008668</td>\n",
       "      <td>113.231044</td>\n",
       "      <td>15.132</td>\n",
       "      <td>180.454575</td>\n",
       "      <td>32.847674</td>\n",
       "      <td>102.762401</td>\n",
       "      <td>90.053604</td>\n",
       "    </tr>\n",
       "  </tbody>\n",
       "</table>\n",
       "</div>"
      ],
      "text/plain": [
       "               key       Wire 1       Wire 2      Wire 3      Wire 4  Wire 5  \\\n",
       "count  3081.000000  3055.000000  1079.000000   63.000000   14.000000   1.000   \n",
       "mean   1623.426485   100.895853    50.577323  189.482681   57.442842  15.132   \n",
       "std     932.996726    42.012518    39.320216   99.513444   28.824667     NaN   \n",
       "min       1.000000     1.918800     0.030160    0.144144   24.148801  15.132   \n",
       "25%     823.000000    72.115684    20.193680   95.135044   40.807002  15.132   \n",
       "50%    1619.000000   100.158234    40.142956  235.194977   45.234282  15.132   \n",
       "75%    2434.000000   126.060483    70.227558  276.252014   76.124619  15.132   \n",
       "max    3241.000000   330.314424   282.780152  385.008668  113.231044  15.132   \n",
       "\n",
       "           Wire 6     Wire 7      Wire 8     Wire 9  \n",
       "count   73.000000  11.000000   19.000000  29.000000  \n",
       "mean    48.016974  10.039007   53.625193  34.155752  \n",
       "std     33.919845   8.610584   16.881728  19.931616  \n",
       "min      0.034320   0.234208   45.076721   4.622800  \n",
       "25%     25.053600   6.762756   46.094879  22.058401  \n",
       "50%     42.076324   9.017009   46.279999  30.066399  \n",
       "75%     64.212723  11.886057   48.089603  43.862003  \n",
       "max    180.454575  32.847674  102.762401  90.053604  "
      ]
     },
     "metadata": {},
     "output_type": "display_data"
    }
   ],
   "source": [
    "analysis(data_wire)"
   ]
  },
  {
   "cell_type": "markdown",
   "metadata": {},
   "source": [
    "Аналогично с данными по сыпучим материалам, пропуски означают, что проволока не загружалась (подобные значения заменим на 0)."
   ]
  },
  {
   "cell_type": "markdown",
   "metadata": {},
   "source": [
    "### Данные о проволочных материалах (время)."
   ]
  },
  {
   "cell_type": "code",
   "execution_count": 20,
   "metadata": {
    "scrolled": true
   },
   "outputs": [
    {
     "data": {
      "text/html": [
       "<div>\n",
       "<style scoped>\n",
       "    .dataframe tbody tr th:only-of-type {\n",
       "        vertical-align: middle;\n",
       "    }\n",
       "\n",
       "    .dataframe tbody tr th {\n",
       "        vertical-align: top;\n",
       "    }\n",
       "\n",
       "    .dataframe thead th {\n",
       "        text-align: right;\n",
       "    }\n",
       "</style>\n",
       "<table border=\"1\" class=\"dataframe\">\n",
       "  <thead>\n",
       "    <tr style=\"text-align: right;\">\n",
       "      <th></th>\n",
       "      <th>key</th>\n",
       "      <th>Wire 1</th>\n",
       "      <th>Wire 2</th>\n",
       "      <th>Wire 3</th>\n",
       "      <th>Wire 4</th>\n",
       "      <th>Wire 5</th>\n",
       "      <th>Wire 6</th>\n",
       "      <th>Wire 7</th>\n",
       "      <th>Wire 8</th>\n",
       "      <th>Wire 9</th>\n",
       "    </tr>\n",
       "  </thead>\n",
       "  <tbody>\n",
       "    <tr>\n",
       "      <th>0</th>\n",
       "      <td>1</td>\n",
       "      <td>2019-05-03 11:11:41</td>\n",
       "      <td>NaN</td>\n",
       "      <td>NaN</td>\n",
       "      <td>NaN</td>\n",
       "      <td>NaN</td>\n",
       "      <td>NaN</td>\n",
       "      <td>NaN</td>\n",
       "      <td>NaN</td>\n",
       "      <td>NaN</td>\n",
       "    </tr>\n",
       "    <tr>\n",
       "      <th>1</th>\n",
       "      <td>2</td>\n",
       "      <td>2019-05-03 11:46:10</td>\n",
       "      <td>NaN</td>\n",
       "      <td>NaN</td>\n",
       "      <td>NaN</td>\n",
       "      <td>NaN</td>\n",
       "      <td>NaN</td>\n",
       "      <td>NaN</td>\n",
       "      <td>NaN</td>\n",
       "      <td>NaN</td>\n",
       "    </tr>\n",
       "    <tr>\n",
       "      <th>2</th>\n",
       "      <td>3</td>\n",
       "      <td>2019-05-03 12:13:47</td>\n",
       "      <td>NaN</td>\n",
       "      <td>NaN</td>\n",
       "      <td>NaN</td>\n",
       "      <td>NaN</td>\n",
       "      <td>NaN</td>\n",
       "      <td>NaN</td>\n",
       "      <td>NaN</td>\n",
       "      <td>NaN</td>\n",
       "    </tr>\n",
       "    <tr>\n",
       "      <th>3</th>\n",
       "      <td>4</td>\n",
       "      <td>2019-05-03 12:48:05</td>\n",
       "      <td>NaN</td>\n",
       "      <td>NaN</td>\n",
       "      <td>NaN</td>\n",
       "      <td>NaN</td>\n",
       "      <td>NaN</td>\n",
       "      <td>NaN</td>\n",
       "      <td>NaN</td>\n",
       "      <td>NaN</td>\n",
       "    </tr>\n",
       "    <tr>\n",
       "      <th>4</th>\n",
       "      <td>5</td>\n",
       "      <td>2019-05-03 13:18:15</td>\n",
       "      <td>2019-05-03 13:32:06</td>\n",
       "      <td>NaN</td>\n",
       "      <td>NaN</td>\n",
       "      <td>NaN</td>\n",
       "      <td>NaN</td>\n",
       "      <td>NaN</td>\n",
       "      <td>NaN</td>\n",
       "      <td>NaN</td>\n",
       "    </tr>\n",
       "  </tbody>\n",
       "</table>\n",
       "</div>"
      ],
      "text/plain": [
       "   key               Wire 1               Wire 2 Wire 3 Wire 4 Wire 5 Wire 6  \\\n",
       "0    1  2019-05-03 11:11:41                  NaN    NaN    NaN    NaN    NaN   \n",
       "1    2  2019-05-03 11:46:10                  NaN    NaN    NaN    NaN    NaN   \n",
       "2    3  2019-05-03 12:13:47                  NaN    NaN    NaN    NaN    NaN   \n",
       "3    4  2019-05-03 12:48:05                  NaN    NaN    NaN    NaN    NaN   \n",
       "4    5  2019-05-03 13:18:15  2019-05-03 13:32:06    NaN    NaN    NaN    NaN   \n",
       "\n",
       "  Wire 7 Wire 8 Wire 9  \n",
       "0    NaN    NaN    NaN  \n",
       "1    NaN    NaN    NaN  \n",
       "2    NaN    NaN    NaN  \n",
       "3    NaN    NaN    NaN  \n",
       "4    NaN    NaN    NaN  "
      ]
     },
     "metadata": {},
     "output_type": "display_data"
    },
    {
     "name": "stdout",
     "output_type": "stream",
     "text": [
      "\n",
      "Сводная информация по таблице\n",
      "\n",
      "<class 'pandas.core.frame.DataFrame'>\n",
      "RangeIndex: 3081 entries, 0 to 3080\n",
      "Data columns (total 10 columns):\n",
      " #   Column  Non-Null Count  Dtype \n",
      "---  ------  --------------  ----- \n",
      " 0   key     3081 non-null   int64 \n",
      " 1   Wire 1  3055 non-null   object\n",
      " 2   Wire 2  1079 non-null   object\n",
      " 3   Wire 3  63 non-null     object\n",
      " 4   Wire 4  14 non-null     object\n",
      " 5   Wire 5  1 non-null      object\n",
      " 6   Wire 6  73 non-null     object\n",
      " 7   Wire 7  11 non-null     object\n",
      " 8   Wire 8  19 non-null     object\n",
      " 9   Wire 9  29 non-null     object\n",
      "dtypes: int64(1), object(9)\n",
      "memory usage: 240.8+ KB\n"
     ]
    },
    {
     "data": {
      "text/plain": [
       "None"
      ]
     },
     "metadata": {},
     "output_type": "display_data"
    },
    {
     "name": "stdout",
     "output_type": "stream",
     "text": [
      "\n",
      "Количество пропущенных значений\n"
     ]
    },
    {
     "data": {
      "text/html": [
       "<div>\n",
       "<style scoped>\n",
       "    .dataframe tbody tr th:only-of-type {\n",
       "        vertical-align: middle;\n",
       "    }\n",
       "\n",
       "    .dataframe tbody tr th {\n",
       "        vertical-align: top;\n",
       "    }\n",
       "\n",
       "    .dataframe thead th {\n",
       "        text-align: right;\n",
       "    }\n",
       "</style>\n",
       "<table border=\"1\" class=\"dataframe\">\n",
       "  <thead>\n",
       "    <tr style=\"text-align: right;\">\n",
       "      <th></th>\n",
       "      <th>missing_values</th>\n",
       "      <th>% of total</th>\n",
       "    </tr>\n",
       "  </thead>\n",
       "  <tbody>\n",
       "    <tr>\n",
       "      <th>Wire 5</th>\n",
       "      <td>3080</td>\n",
       "      <td>99.97</td>\n",
       "    </tr>\n",
       "    <tr>\n",
       "      <th>Wire 7</th>\n",
       "      <td>3070</td>\n",
       "      <td>99.64</td>\n",
       "    </tr>\n",
       "    <tr>\n",
       "      <th>Wire 4</th>\n",
       "      <td>3067</td>\n",
       "      <td>99.55</td>\n",
       "    </tr>\n",
       "    <tr>\n",
       "      <th>Wire 8</th>\n",
       "      <td>3062</td>\n",
       "      <td>99.38</td>\n",
       "    </tr>\n",
       "    <tr>\n",
       "      <th>Wire 9</th>\n",
       "      <td>3052</td>\n",
       "      <td>99.06</td>\n",
       "    </tr>\n",
       "    <tr>\n",
       "      <th>Wire 3</th>\n",
       "      <td>3018</td>\n",
       "      <td>97.96</td>\n",
       "    </tr>\n",
       "    <tr>\n",
       "      <th>Wire 6</th>\n",
       "      <td>3008</td>\n",
       "      <td>97.63</td>\n",
       "    </tr>\n",
       "    <tr>\n",
       "      <th>Wire 2</th>\n",
       "      <td>2002</td>\n",
       "      <td>64.98</td>\n",
       "    </tr>\n",
       "    <tr>\n",
       "      <th>Wire 1</th>\n",
       "      <td>26</td>\n",
       "      <td>0.84</td>\n",
       "    </tr>\n",
       "    <tr>\n",
       "      <th>key</th>\n",
       "      <td>0</td>\n",
       "      <td>0.00</td>\n",
       "    </tr>\n",
       "  </tbody>\n",
       "</table>\n",
       "</div>"
      ],
      "text/plain": [
       "        missing_values  % of total\n",
       "Wire 5            3080       99.97\n",
       "Wire 7            3070       99.64\n",
       "Wire 4            3067       99.55\n",
       "Wire 8            3062       99.38\n",
       "Wire 9            3052       99.06\n",
       "Wire 3            3018       97.96\n",
       "Wire 6            3008       97.63\n",
       "Wire 2            2002       64.98\n",
       "Wire 1              26        0.84\n",
       "key                  0        0.00"
      ]
     },
     "metadata": {},
     "output_type": "display_data"
    },
    {
     "name": "stdout",
     "output_type": "stream",
     "text": [
      "\n",
      "Распределение значений\n"
     ]
    },
    {
     "data": {
      "text/html": [
       "<div>\n",
       "<style scoped>\n",
       "    .dataframe tbody tr th:only-of-type {\n",
       "        vertical-align: middle;\n",
       "    }\n",
       "\n",
       "    .dataframe tbody tr th {\n",
       "        vertical-align: top;\n",
       "    }\n",
       "\n",
       "    .dataframe thead th {\n",
       "        text-align: right;\n",
       "    }\n",
       "</style>\n",
       "<table border=\"1\" class=\"dataframe\">\n",
       "  <thead>\n",
       "    <tr style=\"text-align: right;\">\n",
       "      <th></th>\n",
       "      <th>key</th>\n",
       "    </tr>\n",
       "  </thead>\n",
       "  <tbody>\n",
       "    <tr>\n",
       "      <th>count</th>\n",
       "      <td>3081.000000</td>\n",
       "    </tr>\n",
       "    <tr>\n",
       "      <th>mean</th>\n",
       "      <td>1623.426485</td>\n",
       "    </tr>\n",
       "    <tr>\n",
       "      <th>std</th>\n",
       "      <td>932.996726</td>\n",
       "    </tr>\n",
       "    <tr>\n",
       "      <th>min</th>\n",
       "      <td>1.000000</td>\n",
       "    </tr>\n",
       "    <tr>\n",
       "      <th>25%</th>\n",
       "      <td>823.000000</td>\n",
       "    </tr>\n",
       "    <tr>\n",
       "      <th>50%</th>\n",
       "      <td>1619.000000</td>\n",
       "    </tr>\n",
       "    <tr>\n",
       "      <th>75%</th>\n",
       "      <td>2434.000000</td>\n",
       "    </tr>\n",
       "    <tr>\n",
       "      <th>max</th>\n",
       "      <td>3241.000000</td>\n",
       "    </tr>\n",
       "  </tbody>\n",
       "</table>\n",
       "</div>"
      ],
      "text/plain": [
       "               key\n",
       "count  3081.000000\n",
       "mean   1623.426485\n",
       "std     932.996726\n",
       "min       1.000000\n",
       "25%     823.000000\n",
       "50%    1619.000000\n",
       "75%    2434.000000\n",
       "max    3241.000000"
      ]
     },
     "metadata": {},
     "output_type": "display_data"
    }
   ],
   "source": [
    "analysis(data_wire_time)"
   ]
  },
  {
   "cell_type": "markdown",
   "metadata": {},
   "source": [
    "Как и в случае со временем добавления сыпучих веществ, время добавления пролочных материалов использовано не будет."
   ]
  },
  {
   "cell_type": "markdown",
   "metadata": {},
   "source": [
    "## Предобработка данных."
   ]
  },
  {
   "cell_type": "markdown",
   "metadata": {},
   "source": [
    "### Данные об электродах."
   ]
  },
  {
   "cell_type": "markdown",
   "metadata": {},
   "source": [
    "Приведём время включения и выключения электродов к формату даты."
   ]
  },
  {
   "cell_type": "code",
   "execution_count": 21,
   "metadata": {},
   "outputs": [],
   "source": [
    "def datetime(df):   \n",
    "    date_columns = df.select_dtypes(include='object').columns.to_list()    \n",
    "    for column in date_columns:\n",
    "        df[column] = pd.to_datetime(df[column], format='%Y-%m-%d %H:%M:%S')\n",
    "        \n",
    "datetime(data_arc)"
   ]
  },
  {
   "cell_type": "markdown",
   "metadata": {},
   "source": [
    "Рассчитаем в секундах время нагрева каждого цикла:"
   ]
  },
  {
   "cell_type": "code",
   "execution_count": 22,
   "metadata": {},
   "outputs": [],
   "source": [
    "data_arc['heating_time'] = data_arc['Конец нагрева дугой'] - data_arc['Начало нагрева дугой']\n",
    "data_arc['heating_time'] = pd.TimedeltaIndex(data_arc['heating_time']).total_seconds()"
   ]
  },
  {
   "cell_type": "markdown",
   "metadata": {},
   "source": [
    "Рассчитаем для каждой партии суммарные активную и реактивную мощности, а также суммарное время нагрева и число включений электродов:"
   ]
  },
  {
   "cell_type": "code",
   "execution_count": 23,
   "metadata": {},
   "outputs": [
    {
     "data": {
      "text/html": [
       "<div>\n",
       "<style scoped>\n",
       "    .dataframe tbody tr th:only-of-type {\n",
       "        vertical-align: middle;\n",
       "    }\n",
       "\n",
       "    .dataframe tbody tr th {\n",
       "        vertical-align: top;\n",
       "    }\n",
       "\n",
       "    .dataframe thead th {\n",
       "        text-align: right;\n",
       "    }\n",
       "</style>\n",
       "<table border=\"1\" class=\"dataframe\">\n",
       "  <thead>\n",
       "    <tr style=\"text-align: right;\">\n",
       "      <th></th>\n",
       "      <th>key</th>\n",
       "      <th>active_power</th>\n",
       "      <th>reactive_power</th>\n",
       "      <th>heating_time</th>\n",
       "      <th>heating_ammount</th>\n",
       "    </tr>\n",
       "  </thead>\n",
       "  <tbody>\n",
       "    <tr>\n",
       "      <th>0</th>\n",
       "      <td>1</td>\n",
       "      <td>4.878147</td>\n",
       "      <td>3.183241</td>\n",
       "      <td>1098.0</td>\n",
       "      <td>5</td>\n",
       "    </tr>\n",
       "    <tr>\n",
       "      <th>1</th>\n",
       "      <td>2</td>\n",
       "      <td>3.052598</td>\n",
       "      <td>1.998112</td>\n",
       "      <td>811.0</td>\n",
       "      <td>4</td>\n",
       "    </tr>\n",
       "    <tr>\n",
       "      <th>2</th>\n",
       "      <td>3</td>\n",
       "      <td>2.525882</td>\n",
       "      <td>1.599076</td>\n",
       "      <td>655.0</td>\n",
       "      <td>5</td>\n",
       "    </tr>\n",
       "    <tr>\n",
       "      <th>3</th>\n",
       "      <td>4</td>\n",
       "      <td>3.209250</td>\n",
       "      <td>2.060298</td>\n",
       "      <td>741.0</td>\n",
       "      <td>4</td>\n",
       "    </tr>\n",
       "    <tr>\n",
       "      <th>4</th>\n",
       "      <td>5</td>\n",
       "      <td>3.347173</td>\n",
       "      <td>2.252643</td>\n",
       "      <td>869.0</td>\n",
       "      <td>4</td>\n",
       "    </tr>\n",
       "    <tr>\n",
       "      <th>...</th>\n",
       "      <td>...</td>\n",
       "      <td>...</td>\n",
       "      <td>...</td>\n",
       "      <td>...</td>\n",
       "      <td>...</td>\n",
       "    </tr>\n",
       "    <tr>\n",
       "      <th>3209</th>\n",
       "      <td>3237</td>\n",
       "      <td>3.932467</td>\n",
       "      <td>2.828459</td>\n",
       "      <td>909.0</td>\n",
       "      <td>5</td>\n",
       "    </tr>\n",
       "    <tr>\n",
       "      <th>3210</th>\n",
       "      <td>3238</td>\n",
       "      <td>2.106529</td>\n",
       "      <td>1.681182</td>\n",
       "      <td>546.0</td>\n",
       "      <td>3</td>\n",
       "    </tr>\n",
       "    <tr>\n",
       "      <th>3211</th>\n",
       "      <td>3239</td>\n",
       "      <td>4.666754</td>\n",
       "      <td>3.111617</td>\n",
       "      <td>1216.0</td>\n",
       "      <td>8</td>\n",
       "    </tr>\n",
       "    <tr>\n",
       "      <th>3212</th>\n",
       "      <td>3240</td>\n",
       "      <td>2.984083</td>\n",
       "      <td>2.483267</td>\n",
       "      <td>839.0</td>\n",
       "      <td>5</td>\n",
       "    </tr>\n",
       "    <tr>\n",
       "      <th>3213</th>\n",
       "      <td>3241</td>\n",
       "      <td>2.471447</td>\n",
       "      <td>1.696199</td>\n",
       "      <td>659.0</td>\n",
       "      <td>5</td>\n",
       "    </tr>\n",
       "  </tbody>\n",
       "</table>\n",
       "<p>3214 rows × 5 columns</p>\n",
       "</div>"
      ],
      "text/plain": [
       "       key  active_power  reactive_power  heating_time  heating_ammount\n",
       "0        1      4.878147        3.183241        1098.0                5\n",
       "1        2      3.052598        1.998112         811.0                4\n",
       "2        3      2.525882        1.599076         655.0                5\n",
       "3        4      3.209250        2.060298         741.0                4\n",
       "4        5      3.347173        2.252643         869.0                4\n",
       "...    ...           ...             ...           ...              ...\n",
       "3209  3237      3.932467        2.828459         909.0                5\n",
       "3210  3238      2.106529        1.681182         546.0                3\n",
       "3211  3239      4.666754        3.111617        1216.0                8\n",
       "3212  3240      2.984083        2.483267         839.0                5\n",
       "3213  3241      2.471447        1.696199         659.0                5\n",
       "\n",
       "[3214 rows x 5 columns]"
      ]
     },
     "execution_count": 23,
     "metadata": {},
     "output_type": "execute_result"
    }
   ],
   "source": [
    "arc_features = (\n",
    "    data_arc\n",
    "    .groupby('key')\n",
    "    .agg({'Активная мощность': 'sum', 'Реактивная мощность': 'sum', 'heating_time': ('sum', 'count')})\n",
    "    .reset_index()\n",
    ")\n",
    "\n",
    "arc_features.columns = ['key', 'active_power', 'reactive_power', 'heating_time', 'heating_ammount']\n",
    "arc_features"
   ]
  },
  {
   "cell_type": "markdown",
   "metadata": {},
   "source": [
    "Добавим ещё один признак - полную мощность:"
   ]
  },
  {
   "cell_type": "code",
   "execution_count": 24,
   "metadata": {},
   "outputs": [],
   "source": [
    "arc_features['apparent_power'] = (arc_features['active_power']**2 + arc_features['reactive_power']**2)**0.5"
   ]
  },
  {
   "cell_type": "markdown",
   "metadata": {},
   "source": [
    "### Данные о подаче сыпучих материалов (объём)."
   ]
  },
  {
   "cell_type": "markdown",
   "metadata": {},
   "source": [
    "Заменим пропуски нулевыми значения и рассчитаем для каждой партии суммарное количество добавленных сыпучих материалов."
   ]
  },
  {
   "cell_type": "code",
   "execution_count": 25,
   "metadata": {},
   "outputs": [],
   "source": [
    "data_bulk = data_bulk.fillna(0)\n",
    "\n",
    "data_bulk['bulk_sum'] = (\n",
    "    data_bulk['Bulk 1'] + data_bulk['Bulk 2'] + data_bulk['Bulk 3'] + data_bulk['Bulk 4'] +\n",
    "    data_bulk['Bulk 5'] + data_bulk['Bulk 6'] + data_bulk['Bulk 7'] + data_bulk['Bulk 8'] +\n",
    "    data_bulk['Bulk 9'] + data_bulk['Bulk 10'] + data_bulk['Bulk 11'] + data_bulk['Bulk 12'] + \n",
    "    data_bulk['Bulk 13'] + data_bulk['Bulk 14'] + data_bulk['Bulk 15']\n",
    ")"
   ]
  },
  {
   "cell_type": "markdown",
   "metadata": {},
   "source": [
    "### Данные о подаче проволочных материалов (объём)."
   ]
  },
  {
   "cell_type": "markdown",
   "metadata": {},
   "source": [
    "По аналогии с сыпучими материалами заменим пропуски нулями и рассчитаем суммарное количество."
   ]
  },
  {
   "cell_type": "code",
   "execution_count": 26,
   "metadata": {},
   "outputs": [],
   "source": [
    "data_wire = data_wire.fillna(0)\n",
    "\n",
    "data_wire['wire_sum'] = (\n",
    "    data_wire['Wire 1'] + data_wire['Wire 2'] + data_wire['Wire 3'] + data_wire['Wire 4'] + data_wire['Wire 5'] + \n",
    "    data_wire['Wire 6'] + data_wire['Wire 7'] + data_wire['Wire 8'] + data_wire['Wire 9']\n",
    ")"
   ]
  },
  {
   "cell_type": "markdown",
   "metadata": {},
   "source": [
    "### Данные о продувке сплава газом."
   ]
  },
  {
   "cell_type": "markdown",
   "metadata": {},
   "source": [
    "Переименуем название столбца."
   ]
  },
  {
   "cell_type": "code",
   "execution_count": 27,
   "metadata": {},
   "outputs": [],
   "source": [
    "data_gas = data_gas.rename(columns={'Газ 1': 'gas_volume'})"
   ]
  },
  {
   "cell_type": "markdown",
   "metadata": {},
   "source": [
    "### Результаты измерения температуры."
   ]
  },
  {
   "cell_type": "markdown",
   "metadata": {},
   "source": [
    "Рассмотрим значения температуры ниже 1500 °С."
   ]
  },
  {
   "cell_type": "code",
   "execution_count": 28,
   "metadata": {
    "scrolled": true
   },
   "outputs": [
    {
     "data": {
      "text/html": [
       "<div>\n",
       "<style scoped>\n",
       "    .dataframe tbody tr th:only-of-type {\n",
       "        vertical-align: middle;\n",
       "    }\n",
       "\n",
       "    .dataframe tbody tr th {\n",
       "        vertical-align: top;\n",
       "    }\n",
       "\n",
       "    .dataframe thead th {\n",
       "        text-align: right;\n",
       "    }\n",
       "</style>\n",
       "<table border=\"1\" class=\"dataframe\">\n",
       "  <thead>\n",
       "    <tr style=\"text-align: right;\">\n",
       "      <th></th>\n",
       "      <th>key</th>\n",
       "      <th>Время замера</th>\n",
       "      <th>Температура</th>\n",
       "    </tr>\n",
       "  </thead>\n",
       "  <tbody>\n",
       "    <tr>\n",
       "      <th>4350</th>\n",
       "      <td>867</td>\n",
       "      <td>2019-06-04 14:21:00</td>\n",
       "      <td>1191.0</td>\n",
       "    </tr>\n",
       "    <tr>\n",
       "      <th>5978</th>\n",
       "      <td>1214</td>\n",
       "      <td>2019-06-16 05:32:00</td>\n",
       "      <td>1208.0</td>\n",
       "    </tr>\n",
       "    <tr>\n",
       "      <th>7958</th>\n",
       "      <td>1619</td>\n",
       "      <td>2019-06-30 11:03:54</td>\n",
       "      <td>1218.0</td>\n",
       "    </tr>\n",
       "    <tr>\n",
       "      <th>8913</th>\n",
       "      <td>1818</td>\n",
       "      <td>2019-07-07 00:30:49</td>\n",
       "      <td>1383.0</td>\n",
       "    </tr>\n",
       "    <tr>\n",
       "      <th>8914</th>\n",
       "      <td>1818</td>\n",
       "      <td>2019-07-07 00:31:40</td>\n",
       "      <td>1383.0</td>\n",
       "    </tr>\n",
       "    <tr>\n",
       "      <th>10127</th>\n",
       "      <td>2052</td>\n",
       "      <td>2019-07-21 14:51:40</td>\n",
       "      <td>1227.0</td>\n",
       "    </tr>\n",
       "    <tr>\n",
       "      <th>12564</th>\n",
       "      <td>2561</td>\n",
       "      <td>2019-08-08 07:34:15</td>\n",
       "      <td>1204.0</td>\n",
       "    </tr>\n",
       "  </tbody>\n",
       "</table>\n",
       "</div>"
      ],
      "text/plain": [
       "        key         Время замера  Температура\n",
       "4350    867  2019-06-04 14:21:00       1191.0\n",
       "5978   1214  2019-06-16 05:32:00       1208.0\n",
       "7958   1619  2019-06-30 11:03:54       1218.0\n",
       "8913   1818  2019-07-07 00:30:49       1383.0\n",
       "8914   1818  2019-07-07 00:31:40       1383.0\n",
       "10127  2052  2019-07-21 14:51:40       1227.0\n",
       "12564  2561  2019-08-08 07:34:15       1204.0"
      ]
     },
     "execution_count": 28,
     "metadata": {},
     "output_type": "execute_result"
    }
   ],
   "source": [
    "data_temp[data_temp['Температура'] < 1500]"
   ]
  },
  {
   "cell_type": "markdown",
   "metadata": {},
   "source": [
    "Посмотрим, какими по счёту для своей партии они являются."
   ]
  },
  {
   "cell_type": "code",
   "execution_count": 29,
   "metadata": {
    "scrolled": true
   },
   "outputs": [
    {
     "data": {
      "text/html": [
       "<div>\n",
       "<style scoped>\n",
       "    .dataframe tbody tr th:only-of-type {\n",
       "        vertical-align: middle;\n",
       "    }\n",
       "\n",
       "    .dataframe tbody tr th {\n",
       "        vertical-align: top;\n",
       "    }\n",
       "\n",
       "    .dataframe thead th {\n",
       "        text-align: right;\n",
       "    }\n",
       "</style>\n",
       "<table border=\"1\" class=\"dataframe\">\n",
       "  <thead>\n",
       "    <tr style=\"text-align: right;\">\n",
       "      <th></th>\n",
       "      <th>key</th>\n",
       "      <th>Время замера</th>\n",
       "      <th>Температура</th>\n",
       "    </tr>\n",
       "  </thead>\n",
       "  <tbody>\n",
       "    <tr>\n",
       "      <th>4350</th>\n",
       "      <td>867</td>\n",
       "      <td>2019-06-04 14:21:00</td>\n",
       "      <td>1191.0</td>\n",
       "    </tr>\n",
       "    <tr>\n",
       "      <th>4351</th>\n",
       "      <td>867</td>\n",
       "      <td>2019-06-04 14:29:35</td>\n",
       "      <td>1575.0</td>\n",
       "    </tr>\n",
       "    <tr>\n",
       "      <th>4352</th>\n",
       "      <td>867</td>\n",
       "      <td>2019-06-04 14:30:29</td>\n",
       "      <td>1576.0</td>\n",
       "    </tr>\n",
       "    <tr>\n",
       "      <th>4353</th>\n",
       "      <td>867</td>\n",
       "      <td>2019-06-04 14:43:10</td>\n",
       "      <td>1571.0</td>\n",
       "    </tr>\n",
       "    <tr>\n",
       "      <th>4354</th>\n",
       "      <td>867</td>\n",
       "      <td>2019-06-04 14:52:54</td>\n",
       "      <td>1600.0</td>\n",
       "    </tr>\n",
       "    <tr>\n",
       "      <th>4355</th>\n",
       "      <td>867</td>\n",
       "      <td>2019-06-04 14:57:17</td>\n",
       "      <td>1599.0</td>\n",
       "    </tr>\n",
       "    <tr>\n",
       "      <th>5978</th>\n",
       "      <td>1214</td>\n",
       "      <td>2019-06-16 05:32:00</td>\n",
       "      <td>1208.0</td>\n",
       "    </tr>\n",
       "    <tr>\n",
       "      <th>5979</th>\n",
       "      <td>1214</td>\n",
       "      <td>2019-06-16 05:49:01</td>\n",
       "      <td>1608.0</td>\n",
       "    </tr>\n",
       "    <tr>\n",
       "      <th>5980</th>\n",
       "      <td>1214</td>\n",
       "      <td>2019-06-16 05:51:28</td>\n",
       "      <td>1608.0</td>\n",
       "    </tr>\n",
       "    <tr>\n",
       "      <th>5981</th>\n",
       "      <td>1214</td>\n",
       "      <td>2019-06-16 05:51:38</td>\n",
       "      <td>1608.0</td>\n",
       "    </tr>\n",
       "    <tr>\n",
       "      <th>5982</th>\n",
       "      <td>1214</td>\n",
       "      <td>2019-06-16 05:52:41</td>\n",
       "      <td>1608.0</td>\n",
       "    </tr>\n",
       "    <tr>\n",
       "      <th>5983</th>\n",
       "      <td>1214</td>\n",
       "      <td>2019-06-16 05:53:03</td>\n",
       "      <td>1608.0</td>\n",
       "    </tr>\n",
       "    <tr>\n",
       "      <th>5984</th>\n",
       "      <td>1214</td>\n",
       "      <td>2019-06-16 05:53:13</td>\n",
       "      <td>1608.0</td>\n",
       "    </tr>\n",
       "    <tr>\n",
       "      <th>5985</th>\n",
       "      <td>1214</td>\n",
       "      <td>2019-06-16 05:54:48</td>\n",
       "      <td>1604.0</td>\n",
       "    </tr>\n",
       "    <tr>\n",
       "      <th>5986</th>\n",
       "      <td>1214</td>\n",
       "      <td>2019-06-16 05:57:21</td>\n",
       "      <td>1604.0</td>\n",
       "    </tr>\n",
       "    <tr>\n",
       "      <th>5987</th>\n",
       "      <td>1214</td>\n",
       "      <td>2019-06-16 06:00:25</td>\n",
       "      <td>1604.0</td>\n",
       "    </tr>\n",
       "    <tr>\n",
       "      <th>5988</th>\n",
       "      <td>1214</td>\n",
       "      <td>2019-06-16 06:06:12</td>\n",
       "      <td>1600.0</td>\n",
       "    </tr>\n",
       "    <tr>\n",
       "      <th>5989</th>\n",
       "      <td>1214</td>\n",
       "      <td>2019-06-16 06:07:28</td>\n",
       "      <td>1596.0</td>\n",
       "    </tr>\n",
       "    <tr>\n",
       "      <th>5990</th>\n",
       "      <td>1214</td>\n",
       "      <td>2019-06-16 06:08:28</td>\n",
       "      <td>1596.0</td>\n",
       "    </tr>\n",
       "    <tr>\n",
       "      <th>5991</th>\n",
       "      <td>1214</td>\n",
       "      <td>2019-06-16 06:09:10</td>\n",
       "      <td>1603.0</td>\n",
       "    </tr>\n",
       "    <tr>\n",
       "      <th>5992</th>\n",
       "      <td>1214</td>\n",
       "      <td>2019-06-16 06:12:25</td>\n",
       "      <td>1591.0</td>\n",
       "    </tr>\n",
       "    <tr>\n",
       "      <th>5993</th>\n",
       "      <td>1214</td>\n",
       "      <td>2019-06-16 06:14:45</td>\n",
       "      <td>1591.0</td>\n",
       "    </tr>\n",
       "    <tr>\n",
       "      <th>7958</th>\n",
       "      <td>1619</td>\n",
       "      <td>2019-06-30 11:03:54</td>\n",
       "      <td>1218.0</td>\n",
       "    </tr>\n",
       "    <tr>\n",
       "      <th>7959</th>\n",
       "      <td>1619</td>\n",
       "      <td>2019-06-30 11:04:39</td>\n",
       "      <td>1623.0</td>\n",
       "    </tr>\n",
       "    <tr>\n",
       "      <th>7960</th>\n",
       "      <td>1619</td>\n",
       "      <td>2019-06-30 11:10:01</td>\n",
       "      <td>1611.0</td>\n",
       "    </tr>\n",
       "    <tr>\n",
       "      <th>7961</th>\n",
       "      <td>1619</td>\n",
       "      <td>2019-06-30 11:16:03</td>\n",
       "      <td>1603.0</td>\n",
       "    </tr>\n",
       "    <tr>\n",
       "      <th>7962</th>\n",
       "      <td>1619</td>\n",
       "      <td>2019-06-30 11:21:54</td>\n",
       "      <td>1590.0</td>\n",
       "    </tr>\n",
       "    <tr>\n",
       "      <th>8907</th>\n",
       "      <td>1818</td>\n",
       "      <td>2019-07-07 00:00:14</td>\n",
       "      <td>1627.0</td>\n",
       "    </tr>\n",
       "    <tr>\n",
       "      <th>8908</th>\n",
       "      <td>1818</td>\n",
       "      <td>2019-07-07 00:13:02</td>\n",
       "      <td>1650.0</td>\n",
       "    </tr>\n",
       "    <tr>\n",
       "      <th>8909</th>\n",
       "      <td>1818</td>\n",
       "      <td>2019-07-07 00:25:28</td>\n",
       "      <td>1650.0</td>\n",
       "    </tr>\n",
       "    <tr>\n",
       "      <th>8910</th>\n",
       "      <td>1818</td>\n",
       "      <td>2019-07-07 00:26:03</td>\n",
       "      <td>1650.0</td>\n",
       "    </tr>\n",
       "    <tr>\n",
       "      <th>8911</th>\n",
       "      <td>1818</td>\n",
       "      <td>2019-07-07 00:26:42</td>\n",
       "      <td>1650.0</td>\n",
       "    </tr>\n",
       "    <tr>\n",
       "      <th>8912</th>\n",
       "      <td>1818</td>\n",
       "      <td>2019-07-07 00:27:23</td>\n",
       "      <td>1663.0</td>\n",
       "    </tr>\n",
       "    <tr>\n",
       "      <th>8913</th>\n",
       "      <td>1818</td>\n",
       "      <td>2019-07-07 00:30:49</td>\n",
       "      <td>1383.0</td>\n",
       "    </tr>\n",
       "    <tr>\n",
       "      <th>8914</th>\n",
       "      <td>1818</td>\n",
       "      <td>2019-07-07 00:31:40</td>\n",
       "      <td>1383.0</td>\n",
       "    </tr>\n",
       "    <tr>\n",
       "      <th>8915</th>\n",
       "      <td>1818</td>\n",
       "      <td>2019-07-07 00:32:55</td>\n",
       "      <td>1680.0</td>\n",
       "    </tr>\n",
       "    <tr>\n",
       "      <th>8916</th>\n",
       "      <td>1818</td>\n",
       "      <td>2019-07-07 00:36:11</td>\n",
       "      <td>1667.0</td>\n",
       "    </tr>\n",
       "    <tr>\n",
       "      <th>8917</th>\n",
       "      <td>1818</td>\n",
       "      <td>2019-07-07 00:36:45</td>\n",
       "      <td>1667.0</td>\n",
       "    </tr>\n",
       "    <tr>\n",
       "      <th>8918</th>\n",
       "      <td>1818</td>\n",
       "      <td>2019-07-07 00:38:50</td>\n",
       "      <td>1671.0</td>\n",
       "    </tr>\n",
       "    <tr>\n",
       "      <th>10127</th>\n",
       "      <td>2052</td>\n",
       "      <td>2019-07-21 14:51:40</td>\n",
       "      <td>1227.0</td>\n",
       "    </tr>\n",
       "    <tr>\n",
       "      <th>10128</th>\n",
       "      <td>2052</td>\n",
       "      <td>2019-07-21 14:52:21</td>\n",
       "      <td>1592.0</td>\n",
       "    </tr>\n",
       "    <tr>\n",
       "      <th>10129</th>\n",
       "      <td>2052</td>\n",
       "      <td>2019-07-21 15:06:31</td>\n",
       "      <td>1590.0</td>\n",
       "    </tr>\n",
       "    <tr>\n",
       "      <th>10130</th>\n",
       "      <td>2052</td>\n",
       "      <td>2019-07-21 15:15:24</td>\n",
       "      <td>1591.0</td>\n",
       "    </tr>\n",
       "    <tr>\n",
       "      <th>10131</th>\n",
       "      <td>2052</td>\n",
       "      <td>2019-07-21 15:24:06</td>\n",
       "      <td>1592.0</td>\n",
       "    </tr>\n",
       "    <tr>\n",
       "      <th>12564</th>\n",
       "      <td>2561</td>\n",
       "      <td>2019-08-08 07:34:15</td>\n",
       "      <td>1204.0</td>\n",
       "    </tr>\n",
       "    <tr>\n",
       "      <th>12565</th>\n",
       "      <td>2561</td>\n",
       "      <td>2019-08-08 07:35:02</td>\n",
       "      <td>NaN</td>\n",
       "    </tr>\n",
       "    <tr>\n",
       "      <th>12566</th>\n",
       "      <td>2561</td>\n",
       "      <td>2019-08-08 07:35:38</td>\n",
       "      <td>NaN</td>\n",
       "    </tr>\n",
       "    <tr>\n",
       "      <th>12567</th>\n",
       "      <td>2561</td>\n",
       "      <td>2019-08-08 07:49:07</td>\n",
       "      <td>NaN</td>\n",
       "    </tr>\n",
       "    <tr>\n",
       "      <th>12568</th>\n",
       "      <td>2561</td>\n",
       "      <td>2019-08-08 07:54:21</td>\n",
       "      <td>NaN</td>\n",
       "    </tr>\n",
       "    <tr>\n",
       "      <th>12569</th>\n",
       "      <td>2561</td>\n",
       "      <td>2019-08-08 07:56:57</td>\n",
       "      <td>NaN</td>\n",
       "    </tr>\n",
       "  </tbody>\n",
       "</table>\n",
       "</div>"
      ],
      "text/plain": [
       "        key         Время замера  Температура\n",
       "4350    867  2019-06-04 14:21:00       1191.0\n",
       "4351    867  2019-06-04 14:29:35       1575.0\n",
       "4352    867  2019-06-04 14:30:29       1576.0\n",
       "4353    867  2019-06-04 14:43:10       1571.0\n",
       "4354    867  2019-06-04 14:52:54       1600.0\n",
       "4355    867  2019-06-04 14:57:17       1599.0\n",
       "5978   1214  2019-06-16 05:32:00       1208.0\n",
       "5979   1214  2019-06-16 05:49:01       1608.0\n",
       "5980   1214  2019-06-16 05:51:28       1608.0\n",
       "5981   1214  2019-06-16 05:51:38       1608.0\n",
       "5982   1214  2019-06-16 05:52:41       1608.0\n",
       "5983   1214  2019-06-16 05:53:03       1608.0\n",
       "5984   1214  2019-06-16 05:53:13       1608.0\n",
       "5985   1214  2019-06-16 05:54:48       1604.0\n",
       "5986   1214  2019-06-16 05:57:21       1604.0\n",
       "5987   1214  2019-06-16 06:00:25       1604.0\n",
       "5988   1214  2019-06-16 06:06:12       1600.0\n",
       "5989   1214  2019-06-16 06:07:28       1596.0\n",
       "5990   1214  2019-06-16 06:08:28       1596.0\n",
       "5991   1214  2019-06-16 06:09:10       1603.0\n",
       "5992   1214  2019-06-16 06:12:25       1591.0\n",
       "5993   1214  2019-06-16 06:14:45       1591.0\n",
       "7958   1619  2019-06-30 11:03:54       1218.0\n",
       "7959   1619  2019-06-30 11:04:39       1623.0\n",
       "7960   1619  2019-06-30 11:10:01       1611.0\n",
       "7961   1619  2019-06-30 11:16:03       1603.0\n",
       "7962   1619  2019-06-30 11:21:54       1590.0\n",
       "8907   1818  2019-07-07 00:00:14       1627.0\n",
       "8908   1818  2019-07-07 00:13:02       1650.0\n",
       "8909   1818  2019-07-07 00:25:28       1650.0\n",
       "8910   1818  2019-07-07 00:26:03       1650.0\n",
       "8911   1818  2019-07-07 00:26:42       1650.0\n",
       "8912   1818  2019-07-07 00:27:23       1663.0\n",
       "8913   1818  2019-07-07 00:30:49       1383.0\n",
       "8914   1818  2019-07-07 00:31:40       1383.0\n",
       "8915   1818  2019-07-07 00:32:55       1680.0\n",
       "8916   1818  2019-07-07 00:36:11       1667.0\n",
       "8917   1818  2019-07-07 00:36:45       1667.0\n",
       "8918   1818  2019-07-07 00:38:50       1671.0\n",
       "10127  2052  2019-07-21 14:51:40       1227.0\n",
       "10128  2052  2019-07-21 14:52:21       1592.0\n",
       "10129  2052  2019-07-21 15:06:31       1590.0\n",
       "10130  2052  2019-07-21 15:15:24       1591.0\n",
       "10131  2052  2019-07-21 15:24:06       1592.0\n",
       "12564  2561  2019-08-08 07:34:15       1204.0\n",
       "12565  2561  2019-08-08 07:35:02          NaN\n",
       "12566  2561  2019-08-08 07:35:38          NaN\n",
       "12567  2561  2019-08-08 07:49:07          NaN\n",
       "12568  2561  2019-08-08 07:54:21          NaN\n",
       "12569  2561  2019-08-08 07:56:57          NaN"
      ]
     },
     "execution_count": 29,
     "metadata": {},
     "output_type": "execute_result"
    }
   ],
   "source": [
    "data_temp[data_temp['key'].isin([867, 1214, 1619, 1818, 2052, 2561])]"
   ]
  },
  {
   "cell_type": "markdown",
   "metadata": {},
   "source": [
    "Все замеры, кроме партии №1818, являются первыми. Удалим данные партии из таблицы."
   ]
  },
  {
   "cell_type": "code",
   "execution_count": 30,
   "metadata": {},
   "outputs": [],
   "source": [
    "data_temp = (\n",
    "    data_temp\n",
    "    .set_index('key')\n",
    "    .drop([867, 1214, 1619, 2052, 2561])\n",
    "    .reset_index()\n",
    ")"
   ]
  },
  {
   "cell_type": "markdown",
   "metadata": {},
   "source": [
    "Убедимся, что для каждой партии есть несколько замеров температуры."
   ]
  },
  {
   "cell_type": "code",
   "execution_count": 31,
   "metadata": {},
   "outputs": [
    {
     "data": {
      "text/plain": [
       "44      16\n",
       "46      16\n",
       "1513    16\n",
       "1689    15\n",
       "2108    15\n",
       "        ..\n",
       "1424     2\n",
       "568      2\n",
       "977      2\n",
       "279      1\n",
       "195      1\n",
       "Name: key, Length: 3211, dtype: int64"
      ]
     },
     "execution_count": 31,
     "metadata": {},
     "output_type": "execute_result"
    }
   ],
   "source": [
    "data_temp['key'].value_counts()"
   ]
  },
  {
   "cell_type": "markdown",
   "metadata": {},
   "source": [
    "Такие замеры стоит исключить."
   ]
  },
  {
   "cell_type": "code",
   "execution_count": 32,
   "metadata": {},
   "outputs": [
    {
     "data": {
      "text/html": [
       "<div>\n",
       "<style scoped>\n",
       "    .dataframe tbody tr th:only-of-type {\n",
       "        vertical-align: middle;\n",
       "    }\n",
       "\n",
       "    .dataframe tbody tr th {\n",
       "        vertical-align: top;\n",
       "    }\n",
       "\n",
       "    .dataframe thead th {\n",
       "        text-align: right;\n",
       "    }\n",
       "</style>\n",
       "<table border=\"1\" class=\"dataframe\">\n",
       "  <thead>\n",
       "    <tr style=\"text-align: right;\">\n",
       "      <th></th>\n",
       "      <th>key</th>\n",
       "      <th>Время замера</th>\n",
       "      <th>Температура</th>\n",
       "    </tr>\n",
       "  </thead>\n",
       "  <tbody>\n",
       "    <tr>\n",
       "      <th>1100</th>\n",
       "      <td>195</td>\n",
       "      <td>2019-05-10 14:10:23</td>\n",
       "      <td>1583.0</td>\n",
       "    </tr>\n",
       "    <tr>\n",
       "      <th>1554</th>\n",
       "      <td>279</td>\n",
       "      <td>2019-05-13 23:07:28</td>\n",
       "      <td>1603.0</td>\n",
       "    </tr>\n",
       "  </tbody>\n",
       "</table>\n",
       "</div>"
      ],
      "text/plain": [
       "      key         Время замера  Температура\n",
       "1100  195  2019-05-10 14:10:23       1583.0\n",
       "1554  279  2019-05-13 23:07:28       1603.0"
      ]
     },
     "execution_count": 32,
     "metadata": {},
     "output_type": "execute_result"
    }
   ],
   "source": [
    "data_temp[(data_temp['key'] == 195) | (data_temp['key'] == 279)]"
   ]
  },
  {
   "cell_type": "code",
   "execution_count": 33,
   "metadata": {},
   "outputs": [],
   "source": [
    "data_temp = data_temp.drop(labels=[1100, 1554])"
   ]
  },
  {
   "cell_type": "markdown",
   "metadata": {},
   "source": [
    "Выделим для каждой партии первый и последний замеры температуры. Для этого заменим пропуски на 0. А после выделения температур, удалим все партии, в которых нулевые значения окажутся первым или последним замерами. "
   ]
  },
  {
   "cell_type": "code",
   "execution_count": 34,
   "metadata": {},
   "outputs": [],
   "source": [
    "temp_features = (\n",
    "    data_temp\n",
    "    .fillna(0)\n",
    "    .groupby('key')\n",
    "    .agg(['first', 'last'])\n",
    "    .reset_index()\n",
    ")\n",
    "\n",
    "temp_features.columns = ['key', 'first_time', 'last_time', 'first_temp', 'last_temp']\n",
    "\n",
    "temp_features = (\n",
    "    temp_features[(temp_features['first_temp'] != 0) & (temp_features['last_temp'] != 0)]\n",
    "    .drop(['first_time', 'last_time'], axis=1)\n",
    ")"
   ]
  },
  {
   "cell_type": "markdown",
   "metadata": {},
   "source": [
    "### Объединение признаков в одну таблицу."
   ]
  },
  {
   "cell_type": "code",
   "execution_count": 35,
   "metadata": {},
   "outputs": [],
   "source": [
    "full_table = (\n",
    "    temp_features\n",
    "    .merge(arc_features, how='left', on='key')\n",
    "    .merge(data_bulk, how='left', on='key')\n",
    "    .merge(data_wire, how='left', on='key')\n",
    "    .merge(data_gas, how='left', on='key')\n",
    "    .set_index('key')\n",
    ")"
   ]
  },
  {
   "cell_type": "markdown",
   "metadata": {},
   "source": [
    "Прверим, имеются ли в таблице данные для всех партий."
   ]
  },
  {
   "cell_type": "code",
   "execution_count": 36,
   "metadata": {
    "scrolled": true
   },
   "outputs": [
    {
     "data": {
      "text/html": [
       "<div>\n",
       "<style scoped>\n",
       "    .dataframe tbody tr th:only-of-type {\n",
       "        vertical-align: middle;\n",
       "    }\n",
       "\n",
       "    .dataframe tbody tr th {\n",
       "        vertical-align: top;\n",
       "    }\n",
       "\n",
       "    .dataframe thead th {\n",
       "        text-align: right;\n",
       "    }\n",
       "</style>\n",
       "<table border=\"1\" class=\"dataframe\">\n",
       "  <thead>\n",
       "    <tr style=\"text-align: right;\">\n",
       "      <th></th>\n",
       "      <th>first_temp</th>\n",
       "      <th>last_temp</th>\n",
       "      <th>active_power</th>\n",
       "      <th>reactive_power</th>\n",
       "      <th>heating_time</th>\n",
       "      <th>heating_ammount</th>\n",
       "      <th>apparent_power</th>\n",
       "      <th>Bulk 1</th>\n",
       "      <th>Bulk 2</th>\n",
       "      <th>Bulk 3</th>\n",
       "      <th>...</th>\n",
       "      <th>Wire 2</th>\n",
       "      <th>Wire 3</th>\n",
       "      <th>Wire 4</th>\n",
       "      <th>Wire 5</th>\n",
       "      <th>Wire 6</th>\n",
       "      <th>Wire 7</th>\n",
       "      <th>Wire 8</th>\n",
       "      <th>Wire 9</th>\n",
       "      <th>wire_sum</th>\n",
       "      <th>gas_volume</th>\n",
       "    </tr>\n",
       "    <tr>\n",
       "      <th>key</th>\n",
       "      <th></th>\n",
       "      <th></th>\n",
       "      <th></th>\n",
       "      <th></th>\n",
       "      <th></th>\n",
       "      <th></th>\n",
       "      <th></th>\n",
       "      <th></th>\n",
       "      <th></th>\n",
       "      <th></th>\n",
       "      <th></th>\n",
       "      <th></th>\n",
       "      <th></th>\n",
       "      <th></th>\n",
       "      <th></th>\n",
       "      <th></th>\n",
       "      <th></th>\n",
       "      <th></th>\n",
       "      <th></th>\n",
       "      <th></th>\n",
       "      <th></th>\n",
       "    </tr>\n",
       "  </thead>\n",
       "  <tbody>\n",
       "    <tr>\n",
       "      <th>1</th>\n",
       "      <td>1571.0</td>\n",
       "      <td>1613.0</td>\n",
       "      <td>4.878147</td>\n",
       "      <td>3.183241</td>\n",
       "      <td>1098.0</td>\n",
       "      <td>5</td>\n",
       "      <td>5.824889</td>\n",
       "      <td>0.0</td>\n",
       "      <td>0.0</td>\n",
       "      <td>0.0</td>\n",
       "      <td>...</td>\n",
       "      <td>0.00000</td>\n",
       "      <td>0.0</td>\n",
       "      <td>0.0</td>\n",
       "      <td>0.0</td>\n",
       "      <td>0.0</td>\n",
       "      <td>0.0</td>\n",
       "      <td>0.0</td>\n",
       "      <td>0.0</td>\n",
       "      <td>60.059998</td>\n",
       "      <td>29.749986</td>\n",
       "    </tr>\n",
       "    <tr>\n",
       "      <th>2</th>\n",
       "      <td>1581.0</td>\n",
       "      <td>1602.0</td>\n",
       "      <td>3.052598</td>\n",
       "      <td>1.998112</td>\n",
       "      <td>811.0</td>\n",
       "      <td>4</td>\n",
       "      <td>3.648398</td>\n",
       "      <td>0.0</td>\n",
       "      <td>0.0</td>\n",
       "      <td>0.0</td>\n",
       "      <td>...</td>\n",
       "      <td>0.00000</td>\n",
       "      <td>0.0</td>\n",
       "      <td>0.0</td>\n",
       "      <td>0.0</td>\n",
       "      <td>0.0</td>\n",
       "      <td>0.0</td>\n",
       "      <td>0.0</td>\n",
       "      <td>0.0</td>\n",
       "      <td>96.052315</td>\n",
       "      <td>12.555561</td>\n",
       "    </tr>\n",
       "    <tr>\n",
       "      <th>3</th>\n",
       "      <td>1596.0</td>\n",
       "      <td>1599.0</td>\n",
       "      <td>2.525882</td>\n",
       "      <td>1.599076</td>\n",
       "      <td>655.0</td>\n",
       "      <td>5</td>\n",
       "      <td>2.989502</td>\n",
       "      <td>0.0</td>\n",
       "      <td>0.0</td>\n",
       "      <td>0.0</td>\n",
       "      <td>...</td>\n",
       "      <td>0.00000</td>\n",
       "      <td>0.0</td>\n",
       "      <td>0.0</td>\n",
       "      <td>0.0</td>\n",
       "      <td>0.0</td>\n",
       "      <td>0.0</td>\n",
       "      <td>0.0</td>\n",
       "      <td>0.0</td>\n",
       "      <td>91.160157</td>\n",
       "      <td>28.554793</td>\n",
       "    </tr>\n",
       "    <tr>\n",
       "      <th>4</th>\n",
       "      <td>1601.0</td>\n",
       "      <td>1625.0</td>\n",
       "      <td>3.209250</td>\n",
       "      <td>2.060298</td>\n",
       "      <td>741.0</td>\n",
       "      <td>4</td>\n",
       "      <td>3.813674</td>\n",
       "      <td>0.0</td>\n",
       "      <td>0.0</td>\n",
       "      <td>0.0</td>\n",
       "      <td>...</td>\n",
       "      <td>0.00000</td>\n",
       "      <td>0.0</td>\n",
       "      <td>0.0</td>\n",
       "      <td>0.0</td>\n",
       "      <td>0.0</td>\n",
       "      <td>0.0</td>\n",
       "      <td>0.0</td>\n",
       "      <td>0.0</td>\n",
       "      <td>89.063515</td>\n",
       "      <td>18.841219</td>\n",
       "    </tr>\n",
       "    <tr>\n",
       "      <th>5</th>\n",
       "      <td>1576.0</td>\n",
       "      <td>1602.0</td>\n",
       "      <td>3.347173</td>\n",
       "      <td>2.252643</td>\n",
       "      <td>869.0</td>\n",
       "      <td>4</td>\n",
       "      <td>4.034596</td>\n",
       "      <td>0.0</td>\n",
       "      <td>0.0</td>\n",
       "      <td>0.0</td>\n",
       "      <td>...</td>\n",
       "      <td>9.11456</td>\n",
       "      <td>0.0</td>\n",
       "      <td>0.0</td>\n",
       "      <td>0.0</td>\n",
       "      <td>0.0</td>\n",
       "      <td>0.0</td>\n",
       "      <td>0.0</td>\n",
       "      <td>0.0</td>\n",
       "      <td>98.352796</td>\n",
       "      <td>5.413692</td>\n",
       "    </tr>\n",
       "  </tbody>\n",
       "</table>\n",
       "<p>5 rows × 34 columns</p>\n",
       "</div>"
      ],
      "text/plain": [
       "     first_temp  last_temp  active_power  reactive_power  heating_time  \\\n",
       "key                                                                      \n",
       "1        1571.0     1613.0      4.878147        3.183241        1098.0   \n",
       "2        1581.0     1602.0      3.052598        1.998112         811.0   \n",
       "3        1596.0     1599.0      2.525882        1.599076         655.0   \n",
       "4        1601.0     1625.0      3.209250        2.060298         741.0   \n",
       "5        1576.0     1602.0      3.347173        2.252643         869.0   \n",
       "\n",
       "     heating_ammount  apparent_power  Bulk 1  Bulk 2  Bulk 3  ...   Wire 2  \\\n",
       "key                                                           ...            \n",
       "1                  5        5.824889     0.0     0.0     0.0  ...  0.00000   \n",
       "2                  4        3.648398     0.0     0.0     0.0  ...  0.00000   \n",
       "3                  5        2.989502     0.0     0.0     0.0  ...  0.00000   \n",
       "4                  4        3.813674     0.0     0.0     0.0  ...  0.00000   \n",
       "5                  4        4.034596     0.0     0.0     0.0  ...  9.11456   \n",
       "\n",
       "     Wire 3  Wire 4  Wire 5  Wire 6  Wire 7  Wire 8  Wire 9   wire_sum  \\\n",
       "key                                                                      \n",
       "1       0.0     0.0     0.0     0.0     0.0     0.0     0.0  60.059998   \n",
       "2       0.0     0.0     0.0     0.0     0.0     0.0     0.0  96.052315   \n",
       "3       0.0     0.0     0.0     0.0     0.0     0.0     0.0  91.160157   \n",
       "4       0.0     0.0     0.0     0.0     0.0     0.0     0.0  89.063515   \n",
       "5       0.0     0.0     0.0     0.0     0.0     0.0     0.0  98.352796   \n",
       "\n",
       "     gas_volume  \n",
       "key              \n",
       "1     29.749986  \n",
       "2     12.555561  \n",
       "3     28.554793  \n",
       "4     18.841219  \n",
       "5      5.413692  \n",
       "\n",
       "[5 rows x 34 columns]"
      ]
     },
     "metadata": {},
     "output_type": "display_data"
    },
    {
     "name": "stdout",
     "output_type": "stream",
     "text": [
      "\n",
      "Сводная информация по таблице\n",
      "\n",
      "<class 'pandas.core.frame.DataFrame'>\n",
      "Int64Index: 2471 entries, 1 to 2499\n",
      "Data columns (total 34 columns):\n",
      " #   Column           Non-Null Count  Dtype  \n",
      "---  ------           --------------  -----  \n",
      " 0   first_temp       2471 non-null   float64\n",
      " 1   last_temp        2471 non-null   float64\n",
      " 2   active_power     2471 non-null   float64\n",
      " 3   reactive_power   2471 non-null   float64\n",
      " 4   heating_time     2471 non-null   float64\n",
      " 5   heating_ammount  2471 non-null   int64  \n",
      " 6   apparent_power   2471 non-null   float64\n",
      " 7   Bulk 1           2403 non-null   float64\n",
      " 8   Bulk 2           2403 non-null   float64\n",
      " 9   Bulk 3           2403 non-null   float64\n",
      " 10  Bulk 4           2403 non-null   float64\n",
      " 11  Bulk 5           2403 non-null   float64\n",
      " 12  Bulk 6           2403 non-null   float64\n",
      " 13  Bulk 7           2403 non-null   float64\n",
      " 14  Bulk 8           2403 non-null   float64\n",
      " 15  Bulk 9           2403 non-null   float64\n",
      " 16  Bulk 10          2403 non-null   float64\n",
      " 17  Bulk 11          2403 non-null   float64\n",
      " 18  Bulk 12          2403 non-null   float64\n",
      " 19  Bulk 13          2403 non-null   float64\n",
      " 20  Bulk 14          2403 non-null   float64\n",
      " 21  Bulk 15          2403 non-null   float64\n",
      " 22  bulk_sum         2403 non-null   float64\n",
      " 23  Wire 1           2368 non-null   float64\n",
      " 24  Wire 2           2368 non-null   float64\n",
      " 25  Wire 3           2368 non-null   float64\n",
      " 26  Wire 4           2368 non-null   float64\n",
      " 27  Wire 5           2368 non-null   float64\n",
      " 28  Wire 6           2368 non-null   float64\n",
      " 29  Wire 7           2368 non-null   float64\n",
      " 30  Wire 8           2368 non-null   float64\n",
      " 31  Wire 9           2368 non-null   float64\n",
      " 32  wire_sum         2368 non-null   float64\n",
      " 33  gas_volume       2469 non-null   float64\n",
      "dtypes: float64(33), int64(1)\n",
      "memory usage: 675.7 KB\n"
     ]
    },
    {
     "data": {
      "text/plain": [
       "None"
      ]
     },
     "metadata": {},
     "output_type": "display_data"
    },
    {
     "name": "stdout",
     "output_type": "stream",
     "text": [
      "\n",
      "Количество пропущенных значений\n"
     ]
    },
    {
     "data": {
      "text/html": [
       "<div>\n",
       "<style scoped>\n",
       "    .dataframe tbody tr th:only-of-type {\n",
       "        vertical-align: middle;\n",
       "    }\n",
       "\n",
       "    .dataframe tbody tr th {\n",
       "        vertical-align: top;\n",
       "    }\n",
       "\n",
       "    .dataframe thead th {\n",
       "        text-align: right;\n",
       "    }\n",
       "</style>\n",
       "<table border=\"1\" class=\"dataframe\">\n",
       "  <thead>\n",
       "    <tr style=\"text-align: right;\">\n",
       "      <th></th>\n",
       "      <th>missing_values</th>\n",
       "      <th>% of total</th>\n",
       "    </tr>\n",
       "  </thead>\n",
       "  <tbody>\n",
       "    <tr>\n",
       "      <th>Wire 3</th>\n",
       "      <td>103</td>\n",
       "      <td>4.17</td>\n",
       "    </tr>\n",
       "    <tr>\n",
       "      <th>wire_sum</th>\n",
       "      <td>103</td>\n",
       "      <td>4.17</td>\n",
       "    </tr>\n",
       "    <tr>\n",
       "      <th>Wire 9</th>\n",
       "      <td>103</td>\n",
       "      <td>4.17</td>\n",
       "    </tr>\n",
       "    <tr>\n",
       "      <th>Wire 8</th>\n",
       "      <td>103</td>\n",
       "      <td>4.17</td>\n",
       "    </tr>\n",
       "    <tr>\n",
       "      <th>Wire 7</th>\n",
       "      <td>103</td>\n",
       "      <td>4.17</td>\n",
       "    </tr>\n",
       "    <tr>\n",
       "      <th>Wire 6</th>\n",
       "      <td>103</td>\n",
       "      <td>4.17</td>\n",
       "    </tr>\n",
       "    <tr>\n",
       "      <th>Wire 2</th>\n",
       "      <td>103</td>\n",
       "      <td>4.17</td>\n",
       "    </tr>\n",
       "    <tr>\n",
       "      <th>Wire 1</th>\n",
       "      <td>103</td>\n",
       "      <td>4.17</td>\n",
       "    </tr>\n",
       "    <tr>\n",
       "      <th>Wire 4</th>\n",
       "      <td>103</td>\n",
       "      <td>4.17</td>\n",
       "    </tr>\n",
       "    <tr>\n",
       "      <th>Wire 5</th>\n",
       "      <td>103</td>\n",
       "      <td>4.17</td>\n",
       "    </tr>\n",
       "    <tr>\n",
       "      <th>Bulk 10</th>\n",
       "      <td>68</td>\n",
       "      <td>2.75</td>\n",
       "    </tr>\n",
       "    <tr>\n",
       "      <th>bulk_sum</th>\n",
       "      <td>68</td>\n",
       "      <td>2.75</td>\n",
       "    </tr>\n",
       "    <tr>\n",
       "      <th>Bulk 15</th>\n",
       "      <td>68</td>\n",
       "      <td>2.75</td>\n",
       "    </tr>\n",
       "    <tr>\n",
       "      <th>Bulk 14</th>\n",
       "      <td>68</td>\n",
       "      <td>2.75</td>\n",
       "    </tr>\n",
       "    <tr>\n",
       "      <th>Bulk 13</th>\n",
       "      <td>68</td>\n",
       "      <td>2.75</td>\n",
       "    </tr>\n",
       "    <tr>\n",
       "      <th>Bulk 12</th>\n",
       "      <td>68</td>\n",
       "      <td>2.75</td>\n",
       "    </tr>\n",
       "    <tr>\n",
       "      <th>Bulk 11</th>\n",
       "      <td>68</td>\n",
       "      <td>2.75</td>\n",
       "    </tr>\n",
       "    <tr>\n",
       "      <th>Bulk 9</th>\n",
       "      <td>68</td>\n",
       "      <td>2.75</td>\n",
       "    </tr>\n",
       "    <tr>\n",
       "      <th>Bulk 8</th>\n",
       "      <td>68</td>\n",
       "      <td>2.75</td>\n",
       "    </tr>\n",
       "    <tr>\n",
       "      <th>Bulk 6</th>\n",
       "      <td>68</td>\n",
       "      <td>2.75</td>\n",
       "    </tr>\n",
       "    <tr>\n",
       "      <th>Bulk 5</th>\n",
       "      <td>68</td>\n",
       "      <td>2.75</td>\n",
       "    </tr>\n",
       "    <tr>\n",
       "      <th>Bulk 4</th>\n",
       "      <td>68</td>\n",
       "      <td>2.75</td>\n",
       "    </tr>\n",
       "    <tr>\n",
       "      <th>Bulk 3</th>\n",
       "      <td>68</td>\n",
       "      <td>2.75</td>\n",
       "    </tr>\n",
       "    <tr>\n",
       "      <th>Bulk 2</th>\n",
       "      <td>68</td>\n",
       "      <td>2.75</td>\n",
       "    </tr>\n",
       "    <tr>\n",
       "      <th>Bulk 1</th>\n",
       "      <td>68</td>\n",
       "      <td>2.75</td>\n",
       "    </tr>\n",
       "    <tr>\n",
       "      <th>Bulk 7</th>\n",
       "      <td>68</td>\n",
       "      <td>2.75</td>\n",
       "    </tr>\n",
       "    <tr>\n",
       "      <th>gas_volume</th>\n",
       "      <td>2</td>\n",
       "      <td>0.08</td>\n",
       "    </tr>\n",
       "    <tr>\n",
       "      <th>last_temp</th>\n",
       "      <td>0</td>\n",
       "      <td>0.00</td>\n",
       "    </tr>\n",
       "    <tr>\n",
       "      <th>apparent_power</th>\n",
       "      <td>0</td>\n",
       "      <td>0.00</td>\n",
       "    </tr>\n",
       "    <tr>\n",
       "      <th>heating_ammount</th>\n",
       "      <td>0</td>\n",
       "      <td>0.00</td>\n",
       "    </tr>\n",
       "    <tr>\n",
       "      <th>heating_time</th>\n",
       "      <td>0</td>\n",
       "      <td>0.00</td>\n",
       "    </tr>\n",
       "    <tr>\n",
       "      <th>reactive_power</th>\n",
       "      <td>0</td>\n",
       "      <td>0.00</td>\n",
       "    </tr>\n",
       "    <tr>\n",
       "      <th>active_power</th>\n",
       "      <td>0</td>\n",
       "      <td>0.00</td>\n",
       "    </tr>\n",
       "    <tr>\n",
       "      <th>first_temp</th>\n",
       "      <td>0</td>\n",
       "      <td>0.00</td>\n",
       "    </tr>\n",
       "  </tbody>\n",
       "</table>\n",
       "</div>"
      ],
      "text/plain": [
       "                 missing_values  % of total\n",
       "Wire 3                      103        4.17\n",
       "wire_sum                    103        4.17\n",
       "Wire 9                      103        4.17\n",
       "Wire 8                      103        4.17\n",
       "Wire 7                      103        4.17\n",
       "Wire 6                      103        4.17\n",
       "Wire 2                      103        4.17\n",
       "Wire 1                      103        4.17\n",
       "Wire 4                      103        4.17\n",
       "Wire 5                      103        4.17\n",
       "Bulk 10                      68        2.75\n",
       "bulk_sum                     68        2.75\n",
       "Bulk 15                      68        2.75\n",
       "Bulk 14                      68        2.75\n",
       "Bulk 13                      68        2.75\n",
       "Bulk 12                      68        2.75\n",
       "Bulk 11                      68        2.75\n",
       "Bulk 9                       68        2.75\n",
       "Bulk 8                       68        2.75\n",
       "Bulk 6                       68        2.75\n",
       "Bulk 5                       68        2.75\n",
       "Bulk 4                       68        2.75\n",
       "Bulk 3                       68        2.75\n",
       "Bulk 2                       68        2.75\n",
       "Bulk 1                       68        2.75\n",
       "Bulk 7                       68        2.75\n",
       "gas_volume                    2        0.08\n",
       "last_temp                     0        0.00\n",
       "apparent_power                0        0.00\n",
       "heating_ammount               0        0.00\n",
       "heating_time                  0        0.00\n",
       "reactive_power                0        0.00\n",
       "active_power                  0        0.00\n",
       "first_temp                    0        0.00"
      ]
     },
     "metadata": {},
     "output_type": "display_data"
    },
    {
     "name": "stdout",
     "output_type": "stream",
     "text": [
      "\n",
      "Распределение значений\n"
     ]
    },
    {
     "data": {
      "text/html": [
       "<div>\n",
       "<style scoped>\n",
       "    .dataframe tbody tr th:only-of-type {\n",
       "        vertical-align: middle;\n",
       "    }\n",
       "\n",
       "    .dataframe tbody tr th {\n",
       "        vertical-align: top;\n",
       "    }\n",
       "\n",
       "    .dataframe thead th {\n",
       "        text-align: right;\n",
       "    }\n",
       "</style>\n",
       "<table border=\"1\" class=\"dataframe\">\n",
       "  <thead>\n",
       "    <tr style=\"text-align: right;\">\n",
       "      <th></th>\n",
       "      <th>first_temp</th>\n",
       "      <th>last_temp</th>\n",
       "      <th>active_power</th>\n",
       "      <th>reactive_power</th>\n",
       "      <th>heating_time</th>\n",
       "      <th>heating_ammount</th>\n",
       "      <th>apparent_power</th>\n",
       "      <th>Bulk 1</th>\n",
       "      <th>Bulk 2</th>\n",
       "      <th>Bulk 3</th>\n",
       "      <th>...</th>\n",
       "      <th>Wire 2</th>\n",
       "      <th>Wire 3</th>\n",
       "      <th>Wire 4</th>\n",
       "      <th>Wire 5</th>\n",
       "      <th>Wire 6</th>\n",
       "      <th>Wire 7</th>\n",
       "      <th>Wire 8</th>\n",
       "      <th>Wire 9</th>\n",
       "      <th>wire_sum</th>\n",
       "      <th>gas_volume</th>\n",
       "    </tr>\n",
       "  </thead>\n",
       "  <tbody>\n",
       "    <tr>\n",
       "      <th>count</th>\n",
       "      <td>2471.000000</td>\n",
       "      <td>2471.000000</td>\n",
       "      <td>2471.000000</td>\n",
       "      <td>2471.000000</td>\n",
       "      <td>2471.000000</td>\n",
       "      <td>2471.000000</td>\n",
       "      <td>2471.000000</td>\n",
       "      <td>2403.000000</td>\n",
       "      <td>2403.000000</td>\n",
       "      <td>2403.000000</td>\n",
       "      <td>...</td>\n",
       "      <td>2368.000000</td>\n",
       "      <td>2368.000000</td>\n",
       "      <td>2368.000000</td>\n",
       "      <td>2368.0</td>\n",
       "      <td>2368.000000</td>\n",
       "      <td>2368.000000</td>\n",
       "      <td>2368.000000</td>\n",
       "      <td>2368.000000</td>\n",
       "      <td>2368.000000</td>\n",
       "      <td>2469.000000</td>\n",
       "    </tr>\n",
       "    <tr>\n",
       "      <th>mean</th>\n",
       "      <td>1589.012950</td>\n",
       "      <td>1595.339943</td>\n",
       "      <td>3.129056</td>\n",
       "      <td>2.331896</td>\n",
       "      <td>800.304330</td>\n",
       "      <td>4.626467</td>\n",
       "      <td>3.908083</td>\n",
       "      <td>3.322097</td>\n",
       "      <td>1.378693</td>\n",
       "      <td>46.005410</td>\n",
       "      <td>...</td>\n",
       "      <td>17.852648</td>\n",
       "      <td>3.181638</td>\n",
       "      <td>0.301501</td>\n",
       "      <td>0.0</td>\n",
       "      <td>0.962699</td>\n",
       "      <td>0.006256</td>\n",
       "      <td>0.306184</td>\n",
       "      <td>0.415018</td>\n",
       "      <td>125.259284</td>\n",
       "      <td>11.145730</td>\n",
       "    </tr>\n",
       "    <tr>\n",
       "      <th>std</th>\n",
       "      <td>25.004369</td>\n",
       "      <td>16.035215</td>\n",
       "      <td>1.425844</td>\n",
       "      <td>1.078559</td>\n",
       "      <td>340.783792</td>\n",
       "      <td>1.609465</td>\n",
       "      <td>1.775364</td>\n",
       "      <td>12.233788</td>\n",
       "      <td>18.787490</td>\n",
       "      <td>74.537148</td>\n",
       "      <td>...</td>\n",
       "      <td>33.962436</td>\n",
       "      <td>27.714773</td>\n",
       "      <td>4.718549</td>\n",
       "      <td>0.0</td>\n",
       "      <td>8.622284</td>\n",
       "      <td>0.204005</td>\n",
       "      <td>4.366466</td>\n",
       "      <td>4.335303</td>\n",
       "      <td>64.055006</td>\n",
       "      <td>6.327159</td>\n",
       "    </tr>\n",
       "    <tr>\n",
       "      <th>min</th>\n",
       "      <td>1519.000000</td>\n",
       "      <td>1541.000000</td>\n",
       "      <td>0.186226</td>\n",
       "      <td>0.158247</td>\n",
       "      <td>57.000000</td>\n",
       "      <td>1.000000</td>\n",
       "      <td>0.257637</td>\n",
       "      <td>0.000000</td>\n",
       "      <td>0.000000</td>\n",
       "      <td>0.000000</td>\n",
       "      <td>...</td>\n",
       "      <td>0.000000</td>\n",
       "      <td>0.000000</td>\n",
       "      <td>0.000000</td>\n",
       "      <td>0.0</td>\n",
       "      <td>0.000000</td>\n",
       "      <td>0.000000</td>\n",
       "      <td>0.000000</td>\n",
       "      <td>0.000000</td>\n",
       "      <td>1.918800</td>\n",
       "      <td>0.008399</td>\n",
       "    </tr>\n",
       "    <tr>\n",
       "      <th>25%</th>\n",
       "      <td>1572.000000</td>\n",
       "      <td>1587.000000</td>\n",
       "      <td>2.150641</td>\n",
       "      <td>1.609379</td>\n",
       "      <td>573.000000</td>\n",
       "      <td>4.000000</td>\n",
       "      <td>2.692047</td>\n",
       "      <td>0.000000</td>\n",
       "      <td>0.000000</td>\n",
       "      <td>0.000000</td>\n",
       "      <td>...</td>\n",
       "      <td>0.000000</td>\n",
       "      <td>0.000000</td>\n",
       "      <td>0.000000</td>\n",
       "      <td>0.0</td>\n",
       "      <td>0.000000</td>\n",
       "      <td>0.000000</td>\n",
       "      <td>0.000000</td>\n",
       "      <td>0.000000</td>\n",
       "      <td>88.251540</td>\n",
       "      <td>7.105241</td>\n",
       "    </tr>\n",
       "    <tr>\n",
       "      <th>50%</th>\n",
       "      <td>1588.000000</td>\n",
       "      <td>1593.000000</td>\n",
       "      <td>3.016664</td>\n",
       "      <td>2.230260</td>\n",
       "      <td>773.000000</td>\n",
       "      <td>4.000000</td>\n",
       "      <td>3.754464</td>\n",
       "      <td>0.000000</td>\n",
       "      <td>0.000000</td>\n",
       "      <td>0.000000</td>\n",
       "      <td>...</td>\n",
       "      <td>0.000000</td>\n",
       "      <td>0.000000</td>\n",
       "      <td>0.000000</td>\n",
       "      <td>0.0</td>\n",
       "      <td>0.000000</td>\n",
       "      <td>0.000000</td>\n",
       "      <td>0.000000</td>\n",
       "      <td>0.000000</td>\n",
       "      <td>116.106121</td>\n",
       "      <td>9.926730</td>\n",
       "    </tr>\n",
       "    <tr>\n",
       "      <th>75%</th>\n",
       "      <td>1605.000000</td>\n",
       "      <td>1599.000000</td>\n",
       "      <td>3.908544</td>\n",
       "      <td>2.907400</td>\n",
       "      <td>987.000000</td>\n",
       "      <td>6.000000</td>\n",
       "      <td>4.863299</td>\n",
       "      <td>0.000000</td>\n",
       "      <td>0.000000</td>\n",
       "      <td>76.000000</td>\n",
       "      <td>...</td>\n",
       "      <td>23.153520</td>\n",
       "      <td>0.000000</td>\n",
       "      <td>0.000000</td>\n",
       "      <td>0.0</td>\n",
       "      <td>0.000000</td>\n",
       "      <td>0.000000</td>\n",
       "      <td>0.000000</td>\n",
       "      <td>0.000000</td>\n",
       "      <td>151.630436</td>\n",
       "      <td>13.872686</td>\n",
       "    </tr>\n",
       "    <tr>\n",
       "      <th>max</th>\n",
       "      <td>1679.000000</td>\n",
       "      <td>1700.000000</td>\n",
       "      <td>17.496497</td>\n",
       "      <td>12.587990</td>\n",
       "      <td>4189.000000</td>\n",
       "      <td>16.000000</td>\n",
       "      <td>21.554231</td>\n",
       "      <td>185.000000</td>\n",
       "      <td>325.000000</td>\n",
       "      <td>454.000000</td>\n",
       "      <td>...</td>\n",
       "      <td>282.780152</td>\n",
       "      <td>385.008668</td>\n",
       "      <td>113.231044</td>\n",
       "      <td>0.0</td>\n",
       "      <td>180.454575</td>\n",
       "      <td>8.490040</td>\n",
       "      <td>102.762401</td>\n",
       "      <td>90.053604</td>\n",
       "      <td>568.777664</td>\n",
       "      <td>77.995040</td>\n",
       "    </tr>\n",
       "  </tbody>\n",
       "</table>\n",
       "<p>8 rows × 34 columns</p>\n",
       "</div>"
      ],
      "text/plain": [
       "        first_temp    last_temp  active_power  reactive_power  heating_time  \\\n",
       "count  2471.000000  2471.000000   2471.000000     2471.000000   2471.000000   \n",
       "mean   1589.012950  1595.339943      3.129056        2.331896    800.304330   \n",
       "std      25.004369    16.035215      1.425844        1.078559    340.783792   \n",
       "min    1519.000000  1541.000000      0.186226        0.158247     57.000000   \n",
       "25%    1572.000000  1587.000000      2.150641        1.609379    573.000000   \n",
       "50%    1588.000000  1593.000000      3.016664        2.230260    773.000000   \n",
       "75%    1605.000000  1599.000000      3.908544        2.907400    987.000000   \n",
       "max    1679.000000  1700.000000     17.496497       12.587990   4189.000000   \n",
       "\n",
       "       heating_ammount  apparent_power       Bulk 1       Bulk 2       Bulk 3  \\\n",
       "count      2471.000000     2471.000000  2403.000000  2403.000000  2403.000000   \n",
       "mean          4.626467        3.908083     3.322097     1.378693    46.005410   \n",
       "std           1.609465        1.775364    12.233788    18.787490    74.537148   \n",
       "min           1.000000        0.257637     0.000000     0.000000     0.000000   \n",
       "25%           4.000000        2.692047     0.000000     0.000000     0.000000   \n",
       "50%           4.000000        3.754464     0.000000     0.000000     0.000000   \n",
       "75%           6.000000        4.863299     0.000000     0.000000    76.000000   \n",
       "max          16.000000       21.554231   185.000000   325.000000   454.000000   \n",
       "\n",
       "       ...       Wire 2       Wire 3       Wire 4  Wire 5       Wire 6  \\\n",
       "count  ...  2368.000000  2368.000000  2368.000000  2368.0  2368.000000   \n",
       "mean   ...    17.852648     3.181638     0.301501     0.0     0.962699   \n",
       "std    ...    33.962436    27.714773     4.718549     0.0     8.622284   \n",
       "min    ...     0.000000     0.000000     0.000000     0.0     0.000000   \n",
       "25%    ...     0.000000     0.000000     0.000000     0.0     0.000000   \n",
       "50%    ...     0.000000     0.000000     0.000000     0.0     0.000000   \n",
       "75%    ...    23.153520     0.000000     0.000000     0.0     0.000000   \n",
       "max    ...   282.780152   385.008668   113.231044     0.0   180.454575   \n",
       "\n",
       "            Wire 7       Wire 8       Wire 9     wire_sum   gas_volume  \n",
       "count  2368.000000  2368.000000  2368.000000  2368.000000  2469.000000  \n",
       "mean      0.006256     0.306184     0.415018   125.259284    11.145730  \n",
       "std       0.204005     4.366466     4.335303    64.055006     6.327159  \n",
       "min       0.000000     0.000000     0.000000     1.918800     0.008399  \n",
       "25%       0.000000     0.000000     0.000000    88.251540     7.105241  \n",
       "50%       0.000000     0.000000     0.000000   116.106121     9.926730  \n",
       "75%       0.000000     0.000000     0.000000   151.630436    13.872686  \n",
       "max       8.490040   102.762401    90.053604   568.777664    77.995040  \n",
       "\n",
       "[8 rows x 34 columns]"
      ]
     },
     "metadata": {},
     "output_type": "display_data"
    }
   ],
   "source": [
    "analysis(full_table)"
   ]
  },
  {
   "cell_type": "markdown",
   "metadata": {},
   "source": [
    "Образовались пропуски в столбцах с объёмами сыпучих компонентов, проволоки и газа. Проверим, имеются ли партии, в которых отсутствуют все типы добавок."
   ]
  },
  {
   "cell_type": "code",
   "execution_count": 37,
   "metadata": {},
   "outputs": [
    {
     "data": {
      "text/html": [
       "<div>\n",
       "<style scoped>\n",
       "    .dataframe tbody tr th:only-of-type {\n",
       "        vertical-align: middle;\n",
       "    }\n",
       "\n",
       "    .dataframe tbody tr th {\n",
       "        vertical-align: top;\n",
       "    }\n",
       "\n",
       "    .dataframe thead th {\n",
       "        text-align: right;\n",
       "    }\n",
       "</style>\n",
       "<table border=\"1\" class=\"dataframe\">\n",
       "  <thead>\n",
       "    <tr style=\"text-align: right;\">\n",
       "      <th></th>\n",
       "      <th>first_temp</th>\n",
       "      <th>last_temp</th>\n",
       "      <th>active_power</th>\n",
       "      <th>reactive_power</th>\n",
       "      <th>heating_time</th>\n",
       "      <th>heating_ammount</th>\n",
       "      <th>apparent_power</th>\n",
       "      <th>Bulk 1</th>\n",
       "      <th>Bulk 2</th>\n",
       "      <th>Bulk 3</th>\n",
       "      <th>...</th>\n",
       "      <th>Wire 2</th>\n",
       "      <th>Wire 3</th>\n",
       "      <th>Wire 4</th>\n",
       "      <th>Wire 5</th>\n",
       "      <th>Wire 6</th>\n",
       "      <th>Wire 7</th>\n",
       "      <th>Wire 8</th>\n",
       "      <th>Wire 9</th>\n",
       "      <th>wire_sum</th>\n",
       "      <th>gas_volume</th>\n",
       "    </tr>\n",
       "    <tr>\n",
       "      <th>key</th>\n",
       "      <th></th>\n",
       "      <th></th>\n",
       "      <th></th>\n",
       "      <th></th>\n",
       "      <th></th>\n",
       "      <th></th>\n",
       "      <th></th>\n",
       "      <th></th>\n",
       "      <th></th>\n",
       "      <th></th>\n",
       "      <th></th>\n",
       "      <th></th>\n",
       "      <th></th>\n",
       "      <th></th>\n",
       "      <th></th>\n",
       "      <th></th>\n",
       "      <th></th>\n",
       "      <th></th>\n",
       "      <th></th>\n",
       "      <th></th>\n",
       "      <th></th>\n",
       "    </tr>\n",
       "  </thead>\n",
       "  <tbody>\n",
       "  </tbody>\n",
       "</table>\n",
       "<p>0 rows × 34 columns</p>\n",
       "</div>"
      ],
      "text/plain": [
       "Empty DataFrame\n",
       "Columns: [first_temp, last_temp, active_power, reactive_power, heating_time, heating_ammount, apparent_power, Bulk 1, Bulk 2, Bulk 3, Bulk 4, Bulk 5, Bulk 6, Bulk 7, Bulk 8, Bulk 9, Bulk 10, Bulk 11, Bulk 12, Bulk 13, Bulk 14, Bulk 15, bulk_sum, Wire 1, Wire 2, Wire 3, Wire 4, Wire 5, Wire 6, Wire 7, Wire 8, Wire 9, wire_sum, gas_volume]\n",
       "Index: []\n",
       "\n",
       "[0 rows x 34 columns]"
      ]
     },
     "execution_count": 37,
     "metadata": {},
     "output_type": "execute_result"
    }
   ],
   "source": [
    "full_table[full_table['bulk_sum'].isna() & full_table['wire_sum'].isna() & full_table['gas_volume'].isna()]"
   ]
  },
  {
   "cell_type": "markdown",
   "metadata": {},
   "source": [
    "Т.к. таких строк нет, можно предположить, что один из типов добавок не используется при производстве определённых марок стали. Заменим пропуски на 0."
   ]
  },
  {
   "cell_type": "code",
   "execution_count": 38,
   "metadata": {},
   "outputs": [],
   "source": [
    "full_table = full_table.fillna(0)"
   ]
  },
  {
   "cell_type": "code",
   "execution_count": 39,
   "metadata": {},
   "outputs": [
    {
     "data": {
      "text/html": [
       "<div>\n",
       "<style scoped>\n",
       "    .dataframe tbody tr th:only-of-type {\n",
       "        vertical-align: middle;\n",
       "    }\n",
       "\n",
       "    .dataframe tbody tr th {\n",
       "        vertical-align: top;\n",
       "    }\n",
       "\n",
       "    .dataframe thead th {\n",
       "        text-align: right;\n",
       "    }\n",
       "</style>\n",
       "<table border=\"1\" class=\"dataframe\">\n",
       "  <thead>\n",
       "    <tr style=\"text-align: right;\">\n",
       "      <th></th>\n",
       "      <th>first_temp</th>\n",
       "      <th>last_temp</th>\n",
       "      <th>active_power</th>\n",
       "      <th>reactive_power</th>\n",
       "      <th>heating_time</th>\n",
       "      <th>heating_ammount</th>\n",
       "      <th>apparent_power</th>\n",
       "      <th>Bulk 1</th>\n",
       "      <th>Bulk 2</th>\n",
       "      <th>Bulk 3</th>\n",
       "      <th>...</th>\n",
       "      <th>Wire 2</th>\n",
       "      <th>Wire 3</th>\n",
       "      <th>Wire 4</th>\n",
       "      <th>Wire 5</th>\n",
       "      <th>Wire 6</th>\n",
       "      <th>Wire 7</th>\n",
       "      <th>Wire 8</th>\n",
       "      <th>Wire 9</th>\n",
       "      <th>wire_sum</th>\n",
       "      <th>gas_volume</th>\n",
       "    </tr>\n",
       "    <tr>\n",
       "      <th>key</th>\n",
       "      <th></th>\n",
       "      <th></th>\n",
       "      <th></th>\n",
       "      <th></th>\n",
       "      <th></th>\n",
       "      <th></th>\n",
       "      <th></th>\n",
       "      <th></th>\n",
       "      <th></th>\n",
       "      <th></th>\n",
       "      <th></th>\n",
       "      <th></th>\n",
       "      <th></th>\n",
       "      <th></th>\n",
       "      <th></th>\n",
       "      <th></th>\n",
       "      <th></th>\n",
       "      <th></th>\n",
       "      <th></th>\n",
       "      <th></th>\n",
       "      <th></th>\n",
       "    </tr>\n",
       "  </thead>\n",
       "  <tbody>\n",
       "    <tr>\n",
       "      <th>1</th>\n",
       "      <td>1571.0</td>\n",
       "      <td>1613.0</td>\n",
       "      <td>4.878147</td>\n",
       "      <td>3.183241</td>\n",
       "      <td>1098.0</td>\n",
       "      <td>5</td>\n",
       "      <td>5.824889</td>\n",
       "      <td>0.0</td>\n",
       "      <td>0.0</td>\n",
       "      <td>0.0</td>\n",
       "      <td>...</td>\n",
       "      <td>0.00000</td>\n",
       "      <td>0.0</td>\n",
       "      <td>0.0</td>\n",
       "      <td>0.0</td>\n",
       "      <td>0.0</td>\n",
       "      <td>0.0</td>\n",
       "      <td>0.0</td>\n",
       "      <td>0.0</td>\n",
       "      <td>60.059998</td>\n",
       "      <td>29.749986</td>\n",
       "    </tr>\n",
       "    <tr>\n",
       "      <th>2</th>\n",
       "      <td>1581.0</td>\n",
       "      <td>1602.0</td>\n",
       "      <td>3.052598</td>\n",
       "      <td>1.998112</td>\n",
       "      <td>811.0</td>\n",
       "      <td>4</td>\n",
       "      <td>3.648398</td>\n",
       "      <td>0.0</td>\n",
       "      <td>0.0</td>\n",
       "      <td>0.0</td>\n",
       "      <td>...</td>\n",
       "      <td>0.00000</td>\n",
       "      <td>0.0</td>\n",
       "      <td>0.0</td>\n",
       "      <td>0.0</td>\n",
       "      <td>0.0</td>\n",
       "      <td>0.0</td>\n",
       "      <td>0.0</td>\n",
       "      <td>0.0</td>\n",
       "      <td>96.052315</td>\n",
       "      <td>12.555561</td>\n",
       "    </tr>\n",
       "    <tr>\n",
       "      <th>3</th>\n",
       "      <td>1596.0</td>\n",
       "      <td>1599.0</td>\n",
       "      <td>2.525882</td>\n",
       "      <td>1.599076</td>\n",
       "      <td>655.0</td>\n",
       "      <td>5</td>\n",
       "      <td>2.989502</td>\n",
       "      <td>0.0</td>\n",
       "      <td>0.0</td>\n",
       "      <td>0.0</td>\n",
       "      <td>...</td>\n",
       "      <td>0.00000</td>\n",
       "      <td>0.0</td>\n",
       "      <td>0.0</td>\n",
       "      <td>0.0</td>\n",
       "      <td>0.0</td>\n",
       "      <td>0.0</td>\n",
       "      <td>0.0</td>\n",
       "      <td>0.0</td>\n",
       "      <td>91.160157</td>\n",
       "      <td>28.554793</td>\n",
       "    </tr>\n",
       "    <tr>\n",
       "      <th>4</th>\n",
       "      <td>1601.0</td>\n",
       "      <td>1625.0</td>\n",
       "      <td>3.209250</td>\n",
       "      <td>2.060298</td>\n",
       "      <td>741.0</td>\n",
       "      <td>4</td>\n",
       "      <td>3.813674</td>\n",
       "      <td>0.0</td>\n",
       "      <td>0.0</td>\n",
       "      <td>0.0</td>\n",
       "      <td>...</td>\n",
       "      <td>0.00000</td>\n",
       "      <td>0.0</td>\n",
       "      <td>0.0</td>\n",
       "      <td>0.0</td>\n",
       "      <td>0.0</td>\n",
       "      <td>0.0</td>\n",
       "      <td>0.0</td>\n",
       "      <td>0.0</td>\n",
       "      <td>89.063515</td>\n",
       "      <td>18.841219</td>\n",
       "    </tr>\n",
       "    <tr>\n",
       "      <th>5</th>\n",
       "      <td>1576.0</td>\n",
       "      <td>1602.0</td>\n",
       "      <td>3.347173</td>\n",
       "      <td>2.252643</td>\n",
       "      <td>869.0</td>\n",
       "      <td>4</td>\n",
       "      <td>4.034596</td>\n",
       "      <td>0.0</td>\n",
       "      <td>0.0</td>\n",
       "      <td>0.0</td>\n",
       "      <td>...</td>\n",
       "      <td>9.11456</td>\n",
       "      <td>0.0</td>\n",
       "      <td>0.0</td>\n",
       "      <td>0.0</td>\n",
       "      <td>0.0</td>\n",
       "      <td>0.0</td>\n",
       "      <td>0.0</td>\n",
       "      <td>0.0</td>\n",
       "      <td>98.352796</td>\n",
       "      <td>5.413692</td>\n",
       "    </tr>\n",
       "  </tbody>\n",
       "</table>\n",
       "<p>5 rows × 34 columns</p>\n",
       "</div>"
      ],
      "text/plain": [
       "     first_temp  last_temp  active_power  reactive_power  heating_time  \\\n",
       "key                                                                      \n",
       "1        1571.0     1613.0      4.878147        3.183241        1098.0   \n",
       "2        1581.0     1602.0      3.052598        1.998112         811.0   \n",
       "3        1596.0     1599.0      2.525882        1.599076         655.0   \n",
       "4        1601.0     1625.0      3.209250        2.060298         741.0   \n",
       "5        1576.0     1602.0      3.347173        2.252643         869.0   \n",
       "\n",
       "     heating_ammount  apparent_power  Bulk 1  Bulk 2  Bulk 3  ...   Wire 2  \\\n",
       "key                                                           ...            \n",
       "1                  5        5.824889     0.0     0.0     0.0  ...  0.00000   \n",
       "2                  4        3.648398     0.0     0.0     0.0  ...  0.00000   \n",
       "3                  5        2.989502     0.0     0.0     0.0  ...  0.00000   \n",
       "4                  4        3.813674     0.0     0.0     0.0  ...  0.00000   \n",
       "5                  4        4.034596     0.0     0.0     0.0  ...  9.11456   \n",
       "\n",
       "     Wire 3  Wire 4  Wire 5  Wire 6  Wire 7  Wire 8  Wire 9   wire_sum  \\\n",
       "key                                                                      \n",
       "1       0.0     0.0     0.0     0.0     0.0     0.0     0.0  60.059998   \n",
       "2       0.0     0.0     0.0     0.0     0.0     0.0     0.0  96.052315   \n",
       "3       0.0     0.0     0.0     0.0     0.0     0.0     0.0  91.160157   \n",
       "4       0.0     0.0     0.0     0.0     0.0     0.0     0.0  89.063515   \n",
       "5       0.0     0.0     0.0     0.0     0.0     0.0     0.0  98.352796   \n",
       "\n",
       "     gas_volume  \n",
       "key              \n",
       "1     29.749986  \n",
       "2     12.555561  \n",
       "3     28.554793  \n",
       "4     18.841219  \n",
       "5      5.413692  \n",
       "\n",
       "[5 rows x 34 columns]"
      ]
     },
     "execution_count": 39,
     "metadata": {},
     "output_type": "execute_result"
    }
   ],
   "source": [
    "full_table.head()"
   ]
  },
  {
   "cell_type": "markdown",
   "metadata": {},
   "source": [
    "### Определение влияния признаков на целевой признак."
   ]
  },
  {
   "cell_type": "code",
   "execution_count": 40,
   "metadata": {
    "scrolled": false
   },
   "outputs": [
    {
     "data": {
      "image/png": "[encoded data removed]",
      "text/plain": [
       "<Figure size 800x900 with 1 Axes>"
      ]
     },
     "metadata": {},
     "output_type": "display_data"
    }
   ],
   "source": [
    "X = full_table.drop(['last_temp'], axis=1)\n",
    "y = full_table['last_temp']\n",
    "discrete_features = X.dtypes == int\n",
    "\n",
    "def make_mi_scores(X, y, discrete_features):\n",
    "    mi_scores = mutual_info_regression(X, y, discrete_features=discrete_features, random_state=12345)\n",
    "    mi_scores = pd.Series(mi_scores, name='MI Scores', index=X.columns)\n",
    "    mi_scores = mi_scores.sort_values(ascending=False)\n",
    "    return mi_scores\n",
    "\n",
    "mi_scores = make_mi_scores(X, y, discrete_features)\n",
    "\n",
    "def plot_mi_scores(scores):\n",
    "    scores = scores.sort_values(ascending=True)\n",
    "    width = np.arange(len(scores))\n",
    "    ticks = list(scores.index)\n",
    "    plt.barh(width, scores)\n",
    "    plt.yticks(width, ticks)\n",
    "    plt.title('Влияние признаков на целевой признак')\n",
    "\n",
    "plt.figure(dpi=100, figsize=(8, 9))\n",
    "plot_mi_scores(mi_scores)"
   ]
  },
  {
   "cell_type": "markdown",
   "metadata": {},
   "source": [
    "Судя по графику, признаки с наиболее сильным влиянием на финальную температуру - первая температура, объём первой проволоки, активная мощность, суммарный объём подаваемой проволоки, объём сыпучего компонента №15. Наименьшее влияние имеет большинство загружаемых сыпучих материалов и проволоки."
   ]
  },
  {
   "cell_type": "markdown",
   "metadata": {},
   "source": [
    "### Разделение на обучающую и тестовую выборки. Масштабирование признаков."
   ]
  },
  {
   "cell_type": "code",
   "execution_count": 41,
   "metadata": {},
   "outputs": [],
   "source": [
    "X_train, X_test, y_train, y_test = train_test_split(X, y, test_size=0.25, random_state=12345)\n",
    "\n",
    "scaler = StandardScaler()\n",
    "\n",
    "X_train_scaled = scaler.fit_transform(X_train)\n",
    "X_test_scaled = scaler.transform(X_test)"
   ]
  },
  {
   "cell_type": "markdown",
   "metadata": {},
   "source": [
    "## Обучение моделей."
   ]
  },
  {
   "cell_type": "code",
   "execution_count": 42,
   "metadata": {},
   "outputs": [],
   "source": [
    "def model_learning_results(model, param_grid, X_train, X_test, y_train, y_test):\n",
    "    \n",
    "    grid_search = GridSearchCV(\n",
    "        model,\n",
    "        param_grid,\n",
    "        cv=5,\n",
    "        scoring='neg_mean_absolute_error',\n",
    "        n_jobs=-1,\n",
    "    )    \n",
    "    grid_search.fit(X_train, y_train)    \n",
    "    best_params = grid_search.best_params_\n",
    "    \n",
    "    train_pred = grid_search.predict(X_train_scaled)\n",
    "    test_pred = grid_search.predict(X_test_scaled)\n",
    "    \n",
    "    mae_train = mean_absolute_error(y_train, train_pred)\n",
    "    mae_test = mean_absolute_error(y_test, test_pred)\n",
    "    \n",
    "    result_list = ({\n",
    "        'model': model,\n",
    "        'best_params': best_params,\n",
    "        'mae_train': mae_train,\n",
    "        'mae_test': mae_test\n",
    "    })\n",
    "    return result_list"
   ]
  },
  {
   "cell_type": "markdown",
   "metadata": {},
   "source": [
    "### DummyRegressor."
   ]
  },
  {
   "cell_type": "markdown",
   "metadata": {},
   "source": [
    "Обучим для начала модель, предсказывающую медианные значения."
   ]
  },
  {
   "cell_type": "code",
   "execution_count": 43,
   "metadata": {},
   "outputs": [],
   "source": [
    "dummy = DummyRegressor(strategy='median')\n",
    "\n",
    "dummy.fit(X_train_scaled, y_train)\n",
    "train_pred = dummy.predict(X_train_scaled)\n",
    "test_pred = dummy.predict(X_test_scaled)"
   ]
  },
  {
   "cell_type": "code",
   "execution_count": 44,
   "metadata": {},
   "outputs": [
    {
     "data": {
      "text/plain": [
       "9.832164058283864"
      ]
     },
     "execution_count": 44,
     "metadata": {},
     "output_type": "execute_result"
    }
   ],
   "source": [
    "mae_train = mean_absolute_error(y_train, train_pred)\n",
    "mae_train"
   ]
  },
  {
   "cell_type": "code",
   "execution_count": 45,
   "metadata": {},
   "outputs": [
    {
     "data": {
      "text/plain": [
       "10.131067961165048"
      ]
     },
     "execution_count": 45,
     "metadata": {},
     "output_type": "execute_result"
    }
   ],
   "source": [
    "mae_test = mean_absolute_error(y_test, test_pred)\n",
    "mae_test"
   ]
  },
  {
   "cell_type": "markdown",
   "metadata": {},
   "source": [
    "До целевого показателя метрики данная модель не дотягивается."
   ]
  },
  {
   "cell_type": "markdown",
   "metadata": {},
   "source": [
    "### Линейная регрессия."
   ]
  },
  {
   "cell_type": "code",
   "execution_count": 46,
   "metadata": {},
   "outputs": [
    {
     "name": "stdout",
     "output_type": "stream",
     "text": [
      "Wall time: 5.12 s\n"
     ]
    }
   ],
   "source": [
    "%%time\n",
    "\n",
    "lin_reg = LinearRegression()\n",
    "\n",
    "param_grid = {\n",
    "    'fit_intercept': [True, False],\n",
    "    'normalize': [True, False]\n",
    "}\n",
    "\n",
    "lin_reg_results = model_learning_results(lin_reg, param_grid, X_train_scaled, X_test_scaled, y_train, y_test)"
   ]
  },
  {
   "cell_type": "markdown",
   "metadata": {},
   "source": [
    "### Случайный лес."
   ]
  },
  {
   "cell_type": "code",
   "execution_count": 47,
   "metadata": {},
   "outputs": [
    {
     "name": "stdout",
     "output_type": "stream",
     "text": [
      "Wall time: 1min 3s\n"
     ]
    }
   ],
   "source": [
    "%%time\n",
    "\n",
    "random_forest = RandomForestRegressor()\n",
    "\n",
    "param_grid = {\n",
    "    'n_estimators': [10, 25, 50, 100],\n",
    "    'max_depth': [1, 4, 7, 10],\n",
    "    'min_samples_split': [2, 3, 4],\n",
    "    'min_samples_leaf': [1, 2, 3],\n",
    "    'random_state': [12345]\n",
    "}\n",
    "\n",
    "random_forest_results = model_learning_results(random_forest, param_grid, X_train_scaled, X_test_scaled, y_train, y_test)"
   ]
  },
  {
   "cell_type": "markdown",
   "metadata": {},
   "source": [
    "### Градиентный спуск."
   ]
  },
  {
   "cell_type": "code",
   "execution_count": 48,
   "metadata": {},
   "outputs": [
    {
     "name": "stdout",
     "output_type": "stream",
     "text": [
      "Wall time: 1min 26s\n"
     ]
    }
   ],
   "source": [
    "%%time\n",
    "\n",
    "sgd_reg = SGDRegressor()\n",
    "\n",
    "param_grid = {\n",
    "    'loss': ['squared_loss', 'huber', 'epsilon_insensitive', 'squared_epsilon_insensitive'],\n",
    "    'penalty': ['l2', 'l1', 'elasticnet'],\n",
    "    'learning_rate': ['constant', 'optimal', 'invscaling', 'adaptive'],\n",
    "    'alpha': [1e-4, 1e-3, 1e-2, 1e-1, 1],\n",
    "    'max_iter': [1000],\n",
    "    'early_stopping': [True],\n",
    "    'random_state': [12345]\n",
    "}\n",
    "\n",
    "sgd_reg_results = model_learning_results(sgd_reg, param_grid, X_train_scaled, X_test_scaled, y_train, y_test)"
   ]
  },
  {
   "cell_type": "markdown",
   "metadata": {},
   "source": [
    "### Градиентный бустинг."
   ]
  },
  {
   "cell_type": "markdown",
   "metadata": {},
   "source": [
    "#### GradientBoostingRegressor."
   ]
  },
  {
   "cell_type": "code",
   "execution_count": 49,
   "metadata": {},
   "outputs": [
    {
     "name": "stdout",
     "output_type": "stream",
     "text": [
      "Wall time: 2min 32s\n"
     ]
    }
   ],
   "source": [
    "%%time\n",
    "\n",
    "gbr = GradientBoostingRegressor()\n",
    "\n",
    "param_grid = {\n",
    "    'n_estimators': [10, 25, 50, 100],\n",
    "    'max_depth': [1, 4, 7, 10],\n",
    "    'min_samples_split': [2, 3],\n",
    "    'min_samples_leaf': [1, 2],\n",
    "    'learning_rate': [1e-3, 1e-2, 1e-1, 1],\n",
    "    'random_state': [12345]\n",
    "}\n",
    "\n",
    "gbr_results = model_learning_results(gbr, param_grid, X_train_scaled, X_test_scaled, y_train, y_test)"
   ]
  },
  {
   "cell_type": "markdown",
   "metadata": {},
   "source": [
    "#### HistGradientBoostingRegressor"
   ]
  },
  {
   "cell_type": "code",
   "execution_count": 50,
   "metadata": {},
   "outputs": [
    {
     "name": "stdout",
     "output_type": "stream",
     "text": [
      "Wall time: 1min 32s\n"
     ]
    }
   ],
   "source": [
    "%%time\n",
    "\n",
    "hist_gbr = HistGradientBoostingRegressor()\n",
    "\n",
    "param_grid = {\n",
    "    'max_depth': [1, 4, 7, 10],\n",
    "    'min_samples_leaf': [5, 10],\n",
    "    'learning_rate': [1e-3, 1e-2, 1e-1, 1],\n",
    "    'max_iter': [1000],\n",
    "    'early_stopping': [True],\n",
    "    'random_state': [12345]\n",
    "}\n",
    "\n",
    "hist_gbr_results = model_learning_results(hist_gbr, param_grid, X_train_scaled, X_test_scaled, y_train, y_test)"
   ]
  },
  {
   "cell_type": "markdown",
   "metadata": {},
   "source": [
    "#### LGBMRegressor"
   ]
  },
  {
   "cell_type": "code",
   "execution_count": 51,
   "metadata": {
    "scrolled": false
   },
   "outputs": [
    {
     "name": "stdout",
     "output_type": "stream",
     "text": [
      "Wall time: 22.9 s\n"
     ]
    }
   ],
   "source": [
    "%%time\n",
    "\n",
    "lightgbm = LGBMRegressor()\n",
    "\n",
    "param_grid = {\n",
    "    'max_depth': [1, 4, 7, 10],\n",
    "    'learning_rate': [1e-3, 1e-2, 1e-1, 1],\n",
    "    'n_estimators': [100, 150, 200, 250],\n",
    "    'random_state': [12345]\n",
    "}\n",
    "\n",
    "lightgbm_results = model_learning_results(lightgbm, param_grid, X_train_scaled, X_test_scaled, y_train, y_test)"
   ]
  },
  {
   "cell_type": "markdown",
   "metadata": {},
   "source": [
    "### Результаты обучения моделей."
   ]
  },
  {
   "cell_type": "code",
   "execution_count": 52,
   "metadata": {
    "scrolled": false
   },
   "outputs": [
    {
     "data": {
      "text/html": [
       "<div>\n",
       "<style scoped>\n",
       "    .dataframe tbody tr th:only-of-type {\n",
       "        vertical-align: middle;\n",
       "    }\n",
       "\n",
       "    .dataframe tbody tr th {\n",
       "        vertical-align: top;\n",
       "    }\n",
       "\n",
       "    .dataframe thead th {\n",
       "        text-align: right;\n",
       "    }\n",
       "</style>\n",
       "<table border=\"1\" class=\"dataframe\">\n",
       "  <thead>\n",
       "    <tr style=\"text-align: right;\">\n",
       "      <th></th>\n",
       "      <th>model</th>\n",
       "      <th>mae_train</th>\n",
       "      <th>mae_test</th>\n",
       "      <th>best_params</th>\n",
       "    </tr>\n",
       "  </thead>\n",
       "  <tbody>\n",
       "    <tr>\n",
       "      <th>3</th>\n",
       "      <td>GradientBoostingRegressor()</td>\n",
       "      <td>4.163850</td>\n",
       "      <td>5.880371</td>\n",
       "      <td>{'learning_rate': 0.1, 'max_depth': 4, 'min_sa...</td>\n",
       "    </tr>\n",
       "    <tr>\n",
       "      <th>4</th>\n",
       "      <td>HistGradientBoostingRegressor()</td>\n",
       "      <td>3.941708</td>\n",
       "      <td>6.029999</td>\n",
       "      <td>{'early_stopping': True, 'learning_rate': 0.1,...</td>\n",
       "    </tr>\n",
       "    <tr>\n",
       "      <th>1</th>\n",
       "      <td>RandomForestRegressor()</td>\n",
       "      <td>4.023094</td>\n",
       "      <td>6.049468</td>\n",
       "      <td>{'max_depth': 10, 'min_samples_leaf': 2, 'min_...</td>\n",
       "    </tr>\n",
       "    <tr>\n",
       "      <th>5</th>\n",
       "      <td>LGBMRegressor()</td>\n",
       "      <td>4.265654</td>\n",
       "      <td>6.099038</td>\n",
       "      <td>{'learning_rate': 0.1, 'max_depth': 4, 'n_esti...</td>\n",
       "    </tr>\n",
       "    <tr>\n",
       "      <th>0</th>\n",
       "      <td>LinearRegression()</td>\n",
       "      <td>7.225821</td>\n",
       "      <td>7.438644</td>\n",
       "      <td>{'fit_intercept': True, 'normalize': False}</td>\n",
       "    </tr>\n",
       "    <tr>\n",
       "      <th>2</th>\n",
       "      <td>SGDRegressor()</td>\n",
       "      <td>7.421947</td>\n",
       "      <td>7.579637</td>\n",
       "      <td>{'alpha': 0.001, 'early_stopping': True, 'lear...</td>\n",
       "    </tr>\n",
       "  </tbody>\n",
       "</table>\n",
       "</div>"
      ],
      "text/plain": [
       "                             model  mae_train  mae_test  \\\n",
       "3      GradientBoostingRegressor()   4.163850  5.880371   \n",
       "4  HistGradientBoostingRegressor()   3.941708  6.029999   \n",
       "1          RandomForestRegressor()   4.023094  6.049468   \n",
       "5                  LGBMRegressor()   4.265654  6.099038   \n",
       "0               LinearRegression()   7.225821  7.438644   \n",
       "2                   SGDRegressor()   7.421947  7.579637   \n",
       "\n",
       "                                         best_params  \n",
       "3  {'learning_rate': 0.1, 'max_depth': 4, 'min_sa...  \n",
       "4  {'early_stopping': True, 'learning_rate': 0.1,...  \n",
       "1  {'max_depth': 10, 'min_samples_leaf': 2, 'min_...  \n",
       "5  {'learning_rate': 0.1, 'max_depth': 4, 'n_esti...  \n",
       "0        {'fit_intercept': True, 'normalize': False}  \n",
       "2  {'alpha': 0.001, 'early_stopping': True, 'lear...  "
      ]
     },
     "execution_count": 52,
     "metadata": {},
     "output_type": "execute_result"
    }
   ],
   "source": [
    "final_results = pd.DataFrame(columns=['model', 'mae_train', 'mae_test', 'best_params'])\n",
    "\n",
    "final_results = (\n",
    "    final_results\n",
    "    .append(lin_reg_results, ignore_index=True)\n",
    "    .append(random_forest_results, ignore_index=True)\n",
    "    .append(sgd_reg_results, ignore_index=True)\n",
    "    .append(gbr_results, ignore_index=True)\n",
    "    .append(hist_gbr_results, ignore_index=True)\n",
    "    .append(lightgbm_results, ignore_index=True)\n",
    ")\n",
    "\n",
    "final_results.sort_values(by='mae_test', ascending=True)"
   ]
  },
  {
   "cell_type": "markdown",
   "metadata": {},
   "source": [
    "На примере лучшей модели рассмотрим влияние признаков на целевой признак."
   ]
  },
  {
   "cell_type": "code",
   "execution_count": 53,
   "metadata": {},
   "outputs": [
    {
     "data": {
      "text/plain": [
       "GradientBoostingRegressor(max_depth=4, min_samples_split=3, random_state=12345)"
      ]
     },
     "execution_count": 53,
     "metadata": {},
     "output_type": "execute_result"
    }
   ],
   "source": [
    "params = gbr_results['best_params']\n",
    "\n",
    "gbr = GradientBoostingRegressor(**params)\n",
    "\n",
    "gbr.fit(X_train_scaled, y_train)"
   ]
  },
  {
   "cell_type": "code",
   "execution_count": 54,
   "metadata": {},
   "outputs": [],
   "source": [
    "feature_importance = (\n",
    "    pd.DataFrame(gbr.feature_importances_, index=X_train.columns, columns=['features'])\n",
    "    .sort_values(by='features', ascending=False)\n",
    ")"
   ]
  },
  {
   "cell_type": "code",
   "execution_count": 55,
   "metadata": {
    "scrolled": true
   },
   "outputs": [
    {
     "data": {
      "image/png": "[encoded data removed]",
      "text/plain": [
       "<Figure size 1500x1000 with 1 Axes>"
      ]
     },
     "metadata": {},
     "output_type": "display_data"
    }
   ],
   "source": [
    "plt.figure(dpi=100, figsize=(15, 10))\n",
    "sns.set_style('darkgrid')\n",
    "\n",
    "sns.barplot(x='features', y=feature_importance.index, data=feature_importance)\n",
    "\n",
    "plt.title('Влияние признаков на целевой признак')\n",
    "\n",
    "plt.show()"
   ]
  },
  {
   "cell_type": "markdown",
   "metadata": {},
   "source": [
    "В случае с градиентным бустингом наибольшее влияние оказывают сумммарный объём проволоки, первая температура и активная мощность. В целом, отличий от изначальной оценки влияния нет."
   ]
  },
  {
   "cell_type": "markdown",
   "metadata": {},
   "source": [
    "## Вывод."
   ]
  },
  {
   "cell_type": "markdown",
   "metadata": {},
   "source": [
    "Целью данной работы было построение регрессионной модели для определения температуры расплава стали после этапа обработки. От заказчика были получены следующие данные:\n",
    " - показатели активной и реактивной мощности, а также временные интервалы включения электродов для каждой партии;\n",
    " - объёмы подаваемых в расплав сыпучих и проволочных материалов с указанием времени подачи;\n",
    " - объёмы подаваемого инертного газа;\n",
    " - времена замеров и значения температур для каждой партии.\n",
    "\n",
    "Целевым признаком был выбран последний замер температуры для каждой партии. Метрика оценки - МАЕ. В качестве признаков использовались следующие значения:\n",
    " - суммарное время включения электродов, количество данных включений;\n",
    " - суммарные активная, реактивная и полная (рассчитанная по формуле) мощности;\n",
    " - объёмы сыпучих материалов и их сумма;\n",
    " - объёмы проволочных материалов и их сумма;\n",
    " - объёмы инертных газов;\n",
    " - первый замер температуры.\n",
    "\n",
    "На этапе исследовательского анализа были выявлены аномальные значения реактивной мощности и температур, а также отсутствующие значения температур, объёмов сыпучих и проволочных материалов.\n",
    "\n",
    "На этапе предобработки аномальное значение реактивной мощности (сильно отрицательное) было заменено через пропорцию с помощью соседних строк. Для каждой партии рассчитаны суммарное время включения электродов, количество включений, суммарные активная, реактивная и полная мощности. В данных имелись значения температур ниже температуры плавления стали (~1500 °C). В случае, если данные значения являлись первым или последним замером для партии, записи о них были удалены. Из таблицы были удалены партии с одним замером температуры, а также партии, в которых отсутсвовали замеры температур (первой или последней). Нулями были заполнены пропущенные значения в таблицах по сыпучим и проволочным материалам, дополнительно рассчитаны суммарные объёмы. Все полученные признаки были сведены в одну таблицу по номеру партии.\n",
    "\n",
    "При оценке влияния признаков были получены следующие результаты:\n",
    " - признаки с наиболее сильным влиянием на финальную температуру - первая температура, объём первой проволоки, активная мощность, суммарный объём подаваемой проволоки, объём сыпучего материала №15;\n",
    " - наименьшее влияние имеет большинство загружаемых сыпучих материалов и проволоки.\n",
    " \n",
    "Несмотря на это в обучении использовались все признаки.\n",
    "\n",
    "Перед обучением моделей данные были разделены на обучающую и тестовую выборки. Т.к. значения различных признаков различались на порядок и больше, было применено масштабирование признаков.\n",
    "\n",
    "В обучении были использованы следующие модели:\n",
    " - Линейная регрессия (LinearRegression).\n",
    " - Случайный лес (RandomForestRegressor).\n",
    " - Градиентный спуск (SGDRegressor).\n",
    " - Градиентный бустинг (GradientBoostingRegressor, HistGradientBoostingRegressor и lightGBM).\n",
    " \n",
    "В качестве базовой использовалась модель, предсказывающая медианные значения. Результат МАЕ на тестовой выборке составил ~10, что сильно хуже требований заказчика. По результатам обучения линейные модели показали результат ~7.4, \"ансамблевые\" модели - ~6. Наилучший результат (5.88) был получен при обучении модели градиентного бустинга (GradientBoostingRegressor)."
   ]
  }
 ],
 "metadata": {
  "ExecuteTimeLog": [
   {
    "duration": 549,
    "start_time": "2021-08-16T06:56:49.594Z"
   },
   {
    "duration": 179,
    "start_time": "2021-08-16T07:10:27.091Z"
   },
   {
    "duration": 16,
    "start_time": "2021-08-16T07:16:40.947Z"
   },
   {
    "duration": 4,
    "start_time": "2021-08-16T07:21:31.874Z"
   },
   {
    "duration": 3,
    "start_time": "2021-08-16T07:22:15.626Z"
   },
   {
    "duration": 24,
    "start_time": "2021-08-16T07:22:51.273Z"
   },
   {
    "duration": 23,
    "start_time": "2021-08-16T07:23:41.850Z"
   },
   {
    "duration": 28,
    "start_time": "2021-08-16T07:25:00.969Z"
   },
   {
    "duration": 16,
    "start_time": "2021-08-16T07:26:00.314Z"
   },
   {
    "duration": 18,
    "start_time": "2021-08-16T07:26:09.064Z"
   },
   {
    "duration": 20,
    "start_time": "2021-08-16T07:26:19.112Z"
   },
   {
    "duration": 21,
    "start_time": "2021-08-16T07:26:35.121Z"
   },
   {
    "duration": 9,
    "start_time": "2021-08-16T07:39:54.706Z"
   },
   {
    "duration": 8,
    "start_time": "2021-08-16T07:58:45.041Z"
   },
   {
    "duration": 2,
    "start_time": "2021-08-16T08:13:55.235Z"
   },
   {
    "duration": 569,
    "start_time": "2021-08-16T08:14:16.595Z"
   },
   {
    "duration": 611,
    "start_time": "2021-08-16T08:17:50.259Z"
   },
   {
    "duration": 5,
    "start_time": "2021-08-16T08:19:42.673Z"
   },
   {
    "duration": 7,
    "start_time": "2021-08-16T08:19:57.056Z"
   },
   {
    "duration": 176,
    "start_time": "2021-08-16T08:20:21.195Z"
   },
   {
    "duration": 2,
    "start_time": "2021-08-16T08:20:44.251Z"
   },
   {
    "duration": 596,
    "start_time": "2021-08-16T08:20:45.163Z"
   },
   {
    "duration": 601,
    "start_time": "2021-08-16T08:21:19.618Z"
   },
   {
    "duration": 6,
    "start_time": "2021-08-16T08:23:06.050Z"
   },
   {
    "duration": 12,
    "start_time": "2021-08-16T08:23:14.250Z"
   },
   {
    "duration": 286,
    "start_time": "2021-08-16T08:24:16.922Z"
   },
   {
    "duration": 565,
    "start_time": "2021-08-16T08:24:56.458Z"
   },
   {
    "duration": 190,
    "start_time": "2021-08-16T08:24:58.019Z"
   },
   {
    "duration": 13,
    "start_time": "2021-08-16T08:25:38.948Z"
   },
   {
    "duration": 308,
    "start_time": "2021-08-16T08:26:22.602Z"
   },
   {
    "duration": 7,
    "start_time": "2021-08-16T08:27:02.476Z"
   },
   {
    "duration": 19,
    "start_time": "2021-08-16T08:27:56.879Z"
   },
   {
    "duration": 7,
    "start_time": "2021-08-16T08:28:22.722Z"
   },
   {
    "duration": 3,
    "start_time": "2021-08-16T08:29:15.962Z"
   },
   {
    "duration": 1032,
    "start_time": "2021-08-16T08:29:29.850Z"
   },
   {
    "duration": 4,
    "start_time": "2021-08-16T08:30:15.643Z"
   },
   {
    "duration": 26,
    "start_time": "2021-08-16T08:30:18.521Z"
   },
   {
    "duration": 253,
    "start_time": "2021-08-16T08:31:33.139Z"
   },
   {
    "duration": 14,
    "start_time": "2021-08-16T08:32:06.857Z"
   },
   {
    "duration": 3,
    "start_time": "2021-08-16T08:33:35.065Z"
   },
   {
    "duration": 29,
    "start_time": "2021-08-16T08:33:55.172Z"
   },
   {
    "duration": 7,
    "start_time": "2021-08-16T08:34:20.362Z"
   },
   {
    "duration": 3,
    "start_time": "2021-08-16T08:35:09.073Z"
   },
   {
    "duration": 5,
    "start_time": "2021-08-16T08:35:09.731Z"
   },
   {
    "duration": 6,
    "start_time": "2021-08-16T08:35:11.985Z"
   },
   {
    "duration": 579,
    "start_time": "2021-08-16T08:35:22.718Z"
   },
   {
    "duration": 177,
    "start_time": "2021-08-16T08:35:24.384Z"
   },
   {
    "duration": 3,
    "start_time": "2021-08-16T08:35:30.615Z"
   },
   {
    "duration": 21,
    "start_time": "2021-08-16T08:35:32.887Z"
   },
   {
    "duration": 7,
    "start_time": "2021-08-16T08:35:34.527Z"
   },
   {
    "duration": 51,
    "start_time": "2021-08-16T08:38:26.926Z"
   },
   {
    "duration": 534,
    "start_time": "2021-08-16T08:40:59.543Z"
   },
   {
    "duration": 4,
    "start_time": "2021-08-16T08:42:30.287Z"
   },
   {
    "duration": 25,
    "start_time": "2021-08-16T08:42:32.647Z"
   },
   {
    "duration": 4,
    "start_time": "2021-08-16T08:43:02.000Z"
   },
   {
    "duration": 19,
    "start_time": "2021-08-16T08:43:02.712Z"
   },
   {
    "duration": 23,
    "start_time": "2021-08-16T08:43:07.087Z"
   },
   {
    "duration": 8,
    "start_time": "2021-08-16T08:44:52.248Z"
   },
   {
    "duration": 377,
    "start_time": "2021-08-16T08:48:07.014Z"
   },
   {
    "duration": 375,
    "start_time": "2021-08-16T08:48:40.351Z"
   },
   {
    "duration": 7194,
    "start_time": "2021-08-16T08:49:46.302Z"
   },
   {
    "duration": 6824,
    "start_time": "2021-08-16T08:50:11.326Z"
   },
   {
    "duration": 13,
    "start_time": "2021-08-16T08:50:30.496Z"
   },
   {
    "duration": 8,
    "start_time": "2021-08-16T08:50:57.528Z"
   },
   {
    "duration": 1058,
    "start_time": "2021-08-16T09:00:58.876Z"
   },
   {
    "duration": 193,
    "start_time": "2021-08-16T09:01:00.285Z"
   },
   {
    "duration": 276,
    "start_time": "2021-08-16T09:02:18.974Z"
   },
   {
    "duration": 369,
    "start_time": "2021-08-16T09:02:45.076Z"
   },
   {
    "duration": 259,
    "start_time": "2021-08-16T09:03:47.980Z"
   },
   {
    "duration": 589,
    "start_time": "2021-08-16T09:03:53.708Z"
   },
   {
    "duration": 262,
    "start_time": "2021-08-16T09:04:44.174Z"
   },
   {
    "duration": 260,
    "start_time": "2021-08-16T09:05:23.695Z"
   },
   {
    "duration": 287,
    "start_time": "2021-08-16T09:05:42.429Z"
   },
   {
    "duration": 1444,
    "start_time": "2021-08-17T06:19:17.004Z"
   },
   {
    "duration": 232,
    "start_time": "2021-08-17T06:19:19.234Z"
   },
   {
    "duration": 6,
    "start_time": "2021-08-17T06:19:21.106Z"
   },
   {
    "duration": 43,
    "start_time": "2021-08-17T06:19:22.338Z"
   },
   {
    "duration": 30,
    "start_time": "2021-08-17T06:24:01.804Z"
   },
   {
    "duration": 437,
    "start_time": "2021-08-17T06:24:42.466Z"
   },
   {
    "duration": 9,
    "start_time": "2021-08-17T06:24:54.050Z"
   },
   {
    "duration": 17,
    "start_time": "2021-08-17T06:26:22.835Z"
   },
   {
    "duration": 12,
    "start_time": "2021-08-17T06:27:46.138Z"
   },
   {
    "duration": 42,
    "start_time": "2021-08-17T06:34:26.763Z"
   },
   {
    "duration": 1455,
    "start_time": "2021-08-17T06:40:34.584Z"
   },
   {
    "duration": 199,
    "start_time": "2021-08-17T06:40:36.583Z"
   },
   {
    "duration": 7,
    "start_time": "2021-08-17T06:40:38.264Z"
   },
   {
    "duration": 79,
    "start_time": "2021-08-17T06:40:41.472Z"
   },
   {
    "duration": 6,
    "start_time": "2021-08-17T06:41:19.257Z"
   },
   {
    "duration": 57,
    "start_time": "2021-08-17T06:41:20.369Z"
   },
   {
    "duration": 1584,
    "start_time": "2021-08-17T06:44:13.074Z"
   },
   {
    "duration": 362,
    "start_time": "2021-08-17T06:44:34.578Z"
   },
   {
    "duration": 16,
    "start_time": "2021-08-17T06:44:52.002Z"
   },
   {
    "duration": 16,
    "start_time": "2021-08-17T06:45:11.786Z"
   },
   {
    "duration": 14,
    "start_time": "2021-08-17T06:46:31.937Z"
   },
   {
    "duration": 101,
    "start_time": "2021-08-17T06:51:53.464Z"
   },
   {
    "duration": 6,
    "start_time": "2021-08-17T06:52:10.152Z"
   },
   {
    "duration": 28,
    "start_time": "2021-08-17T06:54:55.552Z"
   },
   {
    "duration": 15,
    "start_time": "2021-08-17T06:55:17.891Z"
   },
   {
    "duration": 26,
    "start_time": "2021-08-17T06:55:35.185Z"
   },
   {
    "duration": 14,
    "start_time": "2021-08-17T06:56:02.169Z"
   },
   {
    "duration": 160,
    "start_time": "2021-08-17T06:57:00.153Z"
   },
   {
    "duration": 60,
    "start_time": "2021-08-17T06:59:19.009Z"
   },
   {
    "duration": 43,
    "start_time": "2021-08-17T06:59:35.906Z"
   },
   {
    "duration": 48,
    "start_time": "2021-08-17T06:59:54.648Z"
   },
   {
    "duration": 17,
    "start_time": "2021-08-17T07:00:33.026Z"
   },
   {
    "duration": 14,
    "start_time": "2021-08-17T07:00:35.921Z"
   },
   {
    "duration": 85,
    "start_time": "2021-08-17T07:00:47.897Z"
   },
   {
    "duration": 51,
    "start_time": "2021-08-17T07:01:02.514Z"
   },
   {
    "duration": 5,
    "start_time": "2021-08-17T07:02:55.394Z"
   },
   {
    "duration": 103,
    "start_time": "2021-08-17T07:02:56.346Z"
   },
   {
    "duration": 56,
    "start_time": "2021-08-17T07:03:00.323Z"
   },
   {
    "duration": 1554,
    "start_time": "2021-08-17T07:32:01.574Z"
   },
   {
    "duration": 186,
    "start_time": "2021-08-17T07:32:03.131Z"
   },
   {
    "duration": 7,
    "start_time": "2021-08-17T07:32:04.261Z"
   },
   {
    "duration": 69,
    "start_time": "2021-08-17T07:32:07.404Z"
   },
   {
    "duration": 13,
    "start_time": "2021-08-17T07:39:45.070Z"
   },
   {
    "duration": 14,
    "start_time": "2021-08-17T07:39:49.838Z"
   },
   {
    "duration": 16,
    "start_time": "2021-08-17T07:41:47.375Z"
   },
   {
    "duration": 13,
    "start_time": "2021-08-17T07:41:49.245Z"
   },
   {
    "duration": 569,
    "start_time": "2021-08-17T07:47:22.439Z"
   },
   {
    "duration": 325,
    "start_time": "2021-08-17T07:47:40.421Z"
   },
   {
    "duration": 9,
    "start_time": "2021-08-17T07:47:53.141Z"
   },
   {
    "duration": 123,
    "start_time": "2021-08-17T07:56:51.197Z"
   },
   {
    "duration": 62,
    "start_time": "2021-08-17T08:06:49.456Z"
   },
   {
    "duration": 46,
    "start_time": "2021-08-17T08:08:53.775Z"
   },
   {
    "duration": 53,
    "start_time": "2021-08-17T08:12:58.253Z"
   },
   {
    "duration": 17,
    "start_time": "2021-08-17T08:13:23.726Z"
   },
   {
    "duration": 12,
    "start_time": "2021-08-17T08:19:41.958Z"
   },
   {
    "duration": 17,
    "start_time": "2021-08-17T08:20:10.015Z"
   },
   {
    "duration": 15,
    "start_time": "2021-08-17T08:21:31.494Z"
   },
   {
    "duration": 89,
    "start_time": "2021-08-17T08:25:41.702Z"
   },
   {
    "duration": 52,
    "start_time": "2021-08-17T08:32:49.469Z"
   },
   {
    "duration": 242,
    "start_time": "2021-08-17T08:41:51.543Z"
   },
   {
    "duration": 250,
    "start_time": "2021-08-17T08:42:06.165Z"
   },
   {
    "duration": 538,
    "start_time": "2021-08-17T08:43:35.109Z"
   },
   {
    "duration": 310,
    "start_time": "2021-08-17T08:43:48.637Z"
   },
   {
    "duration": 375,
    "start_time": "2021-08-17T08:44:01.176Z"
   },
   {
    "duration": 592,
    "start_time": "2021-08-17T08:44:17.854Z"
   },
   {
    "duration": 434,
    "start_time": "2021-08-17T08:44:51.847Z"
   },
   {
    "duration": 476,
    "start_time": "2021-08-17T08:45:00.501Z"
   },
   {
    "duration": 13,
    "start_time": "2021-08-17T08:48:09.415Z"
   },
   {
    "duration": 12,
    "start_time": "2021-08-17T08:49:18.167Z"
   },
   {
    "duration": 15,
    "start_time": "2021-08-17T08:50:07.638Z"
   },
   {
    "duration": 13,
    "start_time": "2021-08-17T08:51:04.495Z"
   },
   {
    "duration": 13,
    "start_time": "2021-08-17T08:51:44.920Z"
   },
   {
    "duration": 14,
    "start_time": "2021-08-17T08:52:49.815Z"
   },
   {
    "duration": 14,
    "start_time": "2021-08-17T08:53:27.599Z"
   },
   {
    "duration": 22,
    "start_time": "2021-08-17T08:54:10.479Z"
   },
   {
    "duration": 17,
    "start_time": "2021-08-17T09:31:14.992Z"
   },
   {
    "duration": 9,
    "start_time": "2021-08-17T09:40:08.447Z"
   },
   {
    "duration": 1494,
    "start_time": "2021-08-17T09:56:00.572Z"
   },
   {
    "duration": 196,
    "start_time": "2021-08-17T09:56:02.069Z"
   },
   {
    "duration": 7,
    "start_time": "2021-08-17T09:56:02.268Z"
   },
   {
    "duration": 100,
    "start_time": "2021-08-17T09:56:02.277Z"
   },
   {
    "duration": 14,
    "start_time": "2021-08-17T09:56:02.379Z"
   },
   {
    "duration": 30,
    "start_time": "2021-08-17T09:56:02.396Z"
   },
   {
    "duration": 38,
    "start_time": "2021-08-17T09:56:02.429Z"
   },
   {
    "duration": 15,
    "start_time": "2021-08-17T09:56:02.471Z"
   },
   {
    "duration": 19,
    "start_time": "2021-08-17T09:56:02.489Z"
   },
   {
    "duration": 160,
    "start_time": "2021-08-17T09:56:02.510Z"
   },
   {
    "duration": 63,
    "start_time": "2021-08-17T09:56:02.672Z"
   },
   {
    "duration": 48,
    "start_time": "2021-08-17T09:56:02.767Z"
   },
   {
    "duration": 87,
    "start_time": "2021-08-17T09:56:02.817Z"
   },
   {
    "duration": 17,
    "start_time": "2021-08-17T09:56:02.907Z"
   },
   {
    "duration": 50,
    "start_time": "2021-08-17T09:56:02.926Z"
   },
   {
    "duration": 441,
    "start_time": "2021-08-17T09:56:02.979Z"
   },
   {
    "duration": 13,
    "start_time": "2021-08-17T09:56:03.424Z"
   },
   {
    "duration": 135,
    "start_time": "2021-08-17T09:56:03.440Z"
   },
   {
    "duration": 93,
    "start_time": "2021-08-17T09:56:03.578Z"
   }
  ],
  "kernelspec": {
   "display_name": "Python 3",
   "language": "python",
   "name": "python3"
  },
  "language_info": {
   "codemirror_mode": {
    "name": "ipython",
    "version": 3
   },
   "file_extension": ".py",
   "mimetype": "text/x-python",
   "name": "python",
   "nbconvert_exporter": "python",
   "pygments_lexer": "ipython3",
   "version": "3.8.8"
  },
  "toc": {
   "base_numbering": 1,
   "nav_menu": {},
   "number_sections": true,
   "sideBar": true,
   "skip_h1_title": true,
   "title_cell": "Table of Contents",
   "title_sidebar": "Contents",
   "toc_cell": false,
   "toc_position": {
    "height": "calc(100% - 180px)",
    "left": "10px",
    "top": "150px",
    "width": "366.391px"
   },
   "toc_section_display": true,
   "toc_window_display": true
  }
 },
 "nbformat": 4,
 "nbformat_minor": 2
}
